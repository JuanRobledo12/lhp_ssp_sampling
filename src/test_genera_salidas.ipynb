{
 "cells": [
  {
   "cell_type": "markdown",
   "metadata": {},
   "source": [
    "### TODO\n",
    "- Now we can take the special cases we added to info_grupos back to frac_vars.xlsx since we have them in cols to avoid.\n",
    "- The HelperFunctions can raise Errors or warning that help us identify null values, mismatching vars and things like that."
   ]
  },
  {
   "cell_type": "code",
   "execution_count": 1,
   "metadata": {},
   "outputs": [],
   "source": [
    "import copy\n",
    "import datetime as dt\n",
    "import importlib # needed so that we can reload packages\n",
    "import matplotlib.pyplot as plt\n",
    "import os, os.path\n",
    "import numpy as np\n",
    "import pandas as pd\n",
    "import pathlib\n",
    "import sys\n",
    "import time\n",
    "import pickle\n",
    "from typing import Union\n",
    "import warnings\n",
    "from datetime import datetime\n",
    "warnings.filterwarnings(\"ignore\")\n",
    "from info_grupos import empirical_vars_to_avoid, frac_vars_special_cases_list\n",
    "from genera_muestra import GenerateLHS\n",
    "from utils import HelperFunctions\n",
    "\n",
    "##  IMPORT SISEPUEDE EXAMPLES AND TRANSFORMERS\n",
    "\n",
    "from sisepuede.manager.sisepuede_examples import SISEPUEDEExamples\n",
    "from sisepuede.manager.sisepuede_file_structure import SISEPUEDEFileStructure\n",
    "import sisepuede.core.support_classes as sc\n",
    "import sisepuede.transformers as trf\n",
    "import sisepuede.utilities._plotting as spu\n",
    "import sisepuede.utilities._toolbox as sf\n",
    "import sisepuede as si"
   ]
  },
  {
   "cell_type": "code",
   "execution_count": 2,
   "metadata": {},
   "outputs": [],
   "source": [
    "%load_ext autoreload\n",
    "%autoreload 2"
   ]
  },
  {
   "cell_type": "code",
   "execution_count": 3,
   "metadata": {},
   "outputs": [],
   "source": [
    "target_country = 'croatia'\n",
    "experiment_id = 1\n"
   ]
  },
  {
   "cell_type": "code",
   "execution_count": 4,
   "metadata": {},
   "outputs": [
    {
     "name": "stdout",
     "output_type": "stream",
     "text": [
      "Directory already exists: /home/tony-ubuntu/decision_sciences/lhs_ssp_sampling/output/experiments/sim_inputs\n",
      "Directory already exists: /home/tony-ubuntu/decision_sciences/lhs_ssp_sampling/output/experiments/sim_outputs\n"
     ]
    }
   ],
   "source": [
    "\n",
    "FILE_PATH = os.getcwd()\n",
    "build_path = lambda PATH : os.path.abspath(os.path.join(*PATH))\n",
    "\n",
    "DATA_PATH = build_path([FILE_PATH, \"..\", \"data\"])\n",
    "OUTPUT_PATH = build_path([FILE_PATH, \"..\", \"output\"])\n",
    "\n",
    "SSP_OUTPUT_PATH = build_path([OUTPUT_PATH, \"ssp\"])\n",
    "\n",
    "REAL_DATA_FILE_PATH = build_path([DATA_PATH, \"real_data.csv\"]) \n",
    "\n",
    "SALIDAS_EXPERIMENTOS_PATH = build_path([OUTPUT_PATH, \"experiments\"]) \n",
    "\n",
    "INPUTS_ESTRESADOS_PATH = build_path([SALIDAS_EXPERIMENTOS_PATH, \"sim_inputs\"])\n",
    "OUTPUTS_ESTRESADOS_PATH = build_path([SALIDAS_EXPERIMENTOS_PATH, \"sim_outputs\"])\n",
    "helper_functions = HelperFunctions()\n",
    "\n",
    "helper_functions.ensure_directory_exists(INPUTS_ESTRESADOS_PATH)\n",
    "helper_functions.ensure_directory_exists(OUTPUTS_ESTRESADOS_PATH)"
   ]
  },
  {
   "cell_type": "code",
   "execution_count": 5,
   "metadata": {},
   "outputs": [],
   "source": [
    "### Cargamos datos de ejemplo de costa rica\n",
    "\n",
    "examples = SISEPUEDEExamples()\n",
    "cr = examples(\"input_data_frame\")"
   ]
  },
  {
   "cell_type": "code",
   "execution_count": 6,
   "metadata": {},
   "outputs": [
    {
     "data": {
      "text/html": [
       "<div>\n",
       "<style scoped>\n",
       "    .dataframe tbody tr th:only-of-type {\n",
       "        vertical-align: middle;\n",
       "    }\n",
       "\n",
       "    .dataframe tbody tr th {\n",
       "        vertical-align: top;\n",
       "    }\n",
       "\n",
       "    .dataframe thead th {\n",
       "        text-align: right;\n",
       "    }\n",
       "</style>\n",
       "<table border=\"1\" class=\"dataframe\">\n",
       "  <thead>\n",
       "    <tr style=\"text-align: right;\">\n",
       "      <th></th>\n",
       "      <th>region</th>\n",
       "      <th>iso_code3</th>\n",
       "      <th>period</th>\n",
       "      <th>area_gnrl_country_ha</th>\n",
       "      <th>avgload_trns_freight_tonne_per_vehicle_aviation</th>\n",
       "      <th>avgload_trns_freight_tonne_per_vehicle_rail_freight</th>\n",
       "      <th>avgload_trns_freight_tonne_per_vehicle_road_heavy_freight</th>\n",
       "      <th>avgload_trns_freight_tonne_per_vehicle_water_borne</th>\n",
       "      <th>avgmass_lvst_animal_buffalo_kg</th>\n",
       "      <th>avgmass_lvst_animal_cattle_dairy_kg</th>\n",
       "      <th>...</th>\n",
       "      <th>yf_agrc_fruits_tonne_ha</th>\n",
       "      <th>yf_agrc_herbs_and_other_perennial_crops_tonne_ha</th>\n",
       "      <th>yf_agrc_nuts_tonne_ha</th>\n",
       "      <th>yf_agrc_other_annual_tonne_ha</th>\n",
       "      <th>yf_agrc_other_woody_perennial_tonne_ha</th>\n",
       "      <th>yf_agrc_pulses_tonne_ha</th>\n",
       "      <th>yf_agrc_rice_tonne_ha</th>\n",
       "      <th>yf_agrc_sugar_cane_tonne_ha</th>\n",
       "      <th>yf_agrc_tubers_tonne_ha</th>\n",
       "      <th>yf_agrc_vegetables_and_vines_tonne_ha</th>\n",
       "    </tr>\n",
       "  </thead>\n",
       "  <tbody>\n",
       "    <tr>\n",
       "      <th>0</th>\n",
       "      <td>croatia</td>\n",
       "      <td>HRV</td>\n",
       "      <td>0</td>\n",
       "      <td>8807000</td>\n",
       "      <td>70</td>\n",
       "      <td>2923</td>\n",
       "      <td>31.751466</td>\n",
       "      <td>6468</td>\n",
       "      <td>315</td>\n",
       "      <td>508</td>\n",
       "      <td>...</td>\n",
       "      <td>5.546667</td>\n",
       "      <td>28.8742</td>\n",
       "      <td>0.602367</td>\n",
       "      <td>1.930675</td>\n",
       "      <td>0.5205</td>\n",
       "      <td>2.638183</td>\n",
       "      <td>0</td>\n",
       "      <td>0</td>\n",
       "      <td>35.76480</td>\n",
       "      <td>21.067738</td>\n",
       "    </tr>\n",
       "    <tr>\n",
       "      <th>1</th>\n",
       "      <td>croatia</td>\n",
       "      <td>HRV</td>\n",
       "      <td>1</td>\n",
       "      <td>8807000</td>\n",
       "      <td>70</td>\n",
       "      <td>2923</td>\n",
       "      <td>31.751466</td>\n",
       "      <td>6468</td>\n",
       "      <td>315</td>\n",
       "      <td>508</td>\n",
       "      <td>...</td>\n",
       "      <td>5.555383</td>\n",
       "      <td>29.6558</td>\n",
       "      <td>0.479900</td>\n",
       "      <td>2.304050</td>\n",
       "      <td>0.7342</td>\n",
       "      <td>3.256933</td>\n",
       "      <td>0</td>\n",
       "      <td>0</td>\n",
       "      <td>47.57660</td>\n",
       "      <td>20.412554</td>\n",
       "    </tr>\n",
       "    <tr>\n",
       "      <th>2</th>\n",
       "      <td>croatia</td>\n",
       "      <td>HRV</td>\n",
       "      <td>2</td>\n",
       "      <td>8807000</td>\n",
       "      <td>70</td>\n",
       "      <td>2923</td>\n",
       "      <td>31.751466</td>\n",
       "      <td>6468</td>\n",
       "      <td>315</td>\n",
       "      <td>508</td>\n",
       "      <td>...</td>\n",
       "      <td>4.304906</td>\n",
       "      <td>30.0390</td>\n",
       "      <td>0.360400</td>\n",
       "      <td>2.075950</td>\n",
       "      <td>0.8615</td>\n",
       "      <td>3.199083</td>\n",
       "      <td>0</td>\n",
       "      <td>0</td>\n",
       "      <td>41.09780</td>\n",
       "      <td>22.329531</td>\n",
       "    </tr>\n",
       "    <tr>\n",
       "      <th>3</th>\n",
       "      <td>croatia</td>\n",
       "      <td>HRV</td>\n",
       "      <td>3</td>\n",
       "      <td>8807000</td>\n",
       "      <td>70</td>\n",
       "      <td>2923</td>\n",
       "      <td>31.751466</td>\n",
       "      <td>6468</td>\n",
       "      <td>315</td>\n",
       "      <td>508</td>\n",
       "      <td>...</td>\n",
       "      <td>6.272229</td>\n",
       "      <td>30.0390</td>\n",
       "      <td>0.160300</td>\n",
       "      <td>2.662133</td>\n",
       "      <td>0.9852</td>\n",
       "      <td>3.266680</td>\n",
       "      <td>0</td>\n",
       "      <td>0</td>\n",
       "      <td>37.42445</td>\n",
       "      <td>21.505800</td>\n",
       "    </tr>\n",
       "    <tr>\n",
       "      <th>4</th>\n",
       "      <td>croatia</td>\n",
       "      <td>HRV</td>\n",
       "      <td>4</td>\n",
       "      <td>8807000</td>\n",
       "      <td>70</td>\n",
       "      <td>2923</td>\n",
       "      <td>31.751466</td>\n",
       "      <td>6468</td>\n",
       "      <td>315</td>\n",
       "      <td>508</td>\n",
       "      <td>...</td>\n",
       "      <td>5.878853</td>\n",
       "      <td>30.0390</td>\n",
       "      <td>0.196325</td>\n",
       "      <td>2.543567</td>\n",
       "      <td>0.9045</td>\n",
       "      <td>4.068040</td>\n",
       "      <td>0</td>\n",
       "      <td>0</td>\n",
       "      <td>39.81490</td>\n",
       "      <td>21.874247</td>\n",
       "    </tr>\n",
       "  </tbody>\n",
       "</table>\n",
       "<p>5 rows × 2036 columns</p>\n",
       "</div>"
      ],
      "text/plain": [
       "    region iso_code3  period  area_gnrl_country_ha  \\\n",
       "0  croatia       HRV       0               8807000   \n",
       "1  croatia       HRV       1               8807000   \n",
       "2  croatia       HRV       2               8807000   \n",
       "3  croatia       HRV       3               8807000   \n",
       "4  croatia       HRV       4               8807000   \n",
       "\n",
       "   avgload_trns_freight_tonne_per_vehicle_aviation  \\\n",
       "0                                               70   \n",
       "1                                               70   \n",
       "2                                               70   \n",
       "3                                               70   \n",
       "4                                               70   \n",
       "\n",
       "   avgload_trns_freight_tonne_per_vehicle_rail_freight  \\\n",
       "0                                               2923     \n",
       "1                                               2923     \n",
       "2                                               2923     \n",
       "3                                               2923     \n",
       "4                                               2923     \n",
       "\n",
       "   avgload_trns_freight_tonne_per_vehicle_road_heavy_freight  \\\n",
       "0                                          31.751466           \n",
       "1                                          31.751466           \n",
       "2                                          31.751466           \n",
       "3                                          31.751466           \n",
       "4                                          31.751466           \n",
       "\n",
       "   avgload_trns_freight_tonne_per_vehicle_water_borne  \\\n",
       "0                                               6468    \n",
       "1                                               6468    \n",
       "2                                               6468    \n",
       "3                                               6468    \n",
       "4                                               6468    \n",
       "\n",
       "   avgmass_lvst_animal_buffalo_kg  avgmass_lvst_animal_cattle_dairy_kg  ...  \\\n",
       "0                             315                                  508  ...   \n",
       "1                             315                                  508  ...   \n",
       "2                             315                                  508  ...   \n",
       "3                             315                                  508  ...   \n",
       "4                             315                                  508  ...   \n",
       "\n",
       "   yf_agrc_fruits_tonne_ha  yf_agrc_herbs_and_other_perennial_crops_tonne_ha  \\\n",
       "0                 5.546667                                           28.8742   \n",
       "1                 5.555383                                           29.6558   \n",
       "2                 4.304906                                           30.0390   \n",
       "3                 6.272229                                           30.0390   \n",
       "4                 5.878853                                           30.0390   \n",
       "\n",
       "   yf_agrc_nuts_tonne_ha  yf_agrc_other_annual_tonne_ha  \\\n",
       "0               0.602367                       1.930675   \n",
       "1               0.479900                       2.304050   \n",
       "2               0.360400                       2.075950   \n",
       "3               0.160300                       2.662133   \n",
       "4               0.196325                       2.543567   \n",
       "\n",
       "   yf_agrc_other_woody_perennial_tonne_ha  yf_agrc_pulses_tonne_ha  \\\n",
       "0                                  0.5205                 2.638183   \n",
       "1                                  0.7342                 3.256933   \n",
       "2                                  0.8615                 3.199083   \n",
       "3                                  0.9852                 3.266680   \n",
       "4                                  0.9045                 4.068040   \n",
       "\n",
       "   yf_agrc_rice_tonne_ha  yf_agrc_sugar_cane_tonne_ha  \\\n",
       "0                      0                            0   \n",
       "1                      0                            0   \n",
       "2                      0                            0   \n",
       "3                      0                            0   \n",
       "4                      0                            0   \n",
       "\n",
       "   yf_agrc_tubers_tonne_ha  yf_agrc_vegetables_and_vines_tonne_ha  \n",
       "0                 35.76480                              21.067738  \n",
       "1                 47.57660                              20.412554  \n",
       "2                 41.09780                              22.329531  \n",
       "3                 37.42445                              21.505800  \n",
       "4                 39.81490                              21.874247  \n",
       "\n",
       "[5 rows x 2036 columns]"
      ]
     },
     "execution_count": 6,
     "metadata": {},
     "output_type": "execute_result"
    }
   ],
   "source": [
    "df_input = pd.read_csv(REAL_DATA_FILE_PATH)\n",
    "df_input.head()"
   ]
  },
  {
   "cell_type": "code",
   "execution_count": 7,
   "metadata": {},
   "outputs": [],
   "source": [
    "df_input = df_input.rename(columns={'period':'time_period'})\n",
    "df_input = helper_functions.add_missing_cols(cr, df_input.copy())\n",
    "df_input = df_input.drop(columns='iso_code3')"
   ]
  },
  {
   "cell_type": "code",
   "execution_count": 8,
   "metadata": {},
   "outputs": [
    {
     "data": {
      "text/html": [
       "<div>\n",
       "<style scoped>\n",
       "    .dataframe tbody tr th:only-of-type {\n",
       "        vertical-align: middle;\n",
       "    }\n",
       "\n",
       "    .dataframe tbody tr th {\n",
       "        vertical-align: top;\n",
       "    }\n",
       "\n",
       "    .dataframe thead th {\n",
       "        text-align: right;\n",
       "    }\n",
       "</style>\n",
       "<table border=\"1\" class=\"dataframe\">\n",
       "  <thead>\n",
       "    <tr style=\"text-align: right;\">\n",
       "      <th></th>\n",
       "      <th>region</th>\n",
       "      <th>time_period</th>\n",
       "      <th>area_gnrl_country_ha</th>\n",
       "      <th>avgload_trns_freight_tonne_per_vehicle_aviation</th>\n",
       "      <th>avgload_trns_freight_tonne_per_vehicle_rail_freight</th>\n",
       "      <th>avgload_trns_freight_tonne_per_vehicle_road_heavy_freight</th>\n",
       "      <th>avgload_trns_freight_tonne_per_vehicle_water_borne</th>\n",
       "      <th>avgmass_lvst_animal_buffalo_kg</th>\n",
       "      <th>avgmass_lvst_animal_cattle_dairy_kg</th>\n",
       "      <th>avgmass_lvst_animal_cattle_nondairy_kg</th>\n",
       "      <th>...</th>\n",
       "      <th>nemomod_entc_input_activity_ratio_fuel_production_fp_hydrogen_electrolysis_water</th>\n",
       "      <th>nemomod_entc_input_activity_ratio_fuel_production_fp_hydrogen_reformation_ccs_electricity</th>\n",
       "      <th>energydensity_gravimetric_enfu_gj_per_tonne_fuel_ammonia</th>\n",
       "      <th>energydensity_gravimetric_enfu_gj_per_tonne_fuel_water</th>\n",
       "      <th>frac_trns_fuelmix_water_borne_ammonia</th>\n",
       "      <th>nemomod_entc_output_activity_ratio_fuel_production_fp_ammonia_production_ammonia</th>\n",
       "      <th>nemomod_entc_output_activity_ratio_fuel_production_fp_hydrogen_reformation_ccs_hydrogen</th>\n",
       "      <th>nemomod_entc_frac_min_share_production_fp_hydrogen_reformation_ccs</th>\n",
       "      <th>nemomod_entc_input_activity_ratio_fuel_production_fp_hydrogen_reformation_ccs_natural_gas</th>\n",
       "      <th>nemomod_entc_input_activity_ratio_fuel_production_fp_hydrogen_reformation_ccs_oil</th>\n",
       "    </tr>\n",
       "  </thead>\n",
       "  <tbody>\n",
       "    <tr>\n",
       "      <th>0</th>\n",
       "      <td>croatia</td>\n",
       "      <td>0</td>\n",
       "      <td>8807000</td>\n",
       "      <td>70</td>\n",
       "      <td>2923</td>\n",
       "      <td>31.751466</td>\n",
       "      <td>6468</td>\n",
       "      <td>315</td>\n",
       "      <td>508</td>\n",
       "      <td>303</td>\n",
       "      <td>...</td>\n",
       "      <td>0.000004</td>\n",
       "      <td>0</td>\n",
       "      <td>18.6</td>\n",
       "      <td>0.00005</td>\n",
       "      <td>0.0</td>\n",
       "      <td>1</td>\n",
       "      <td>1</td>\n",
       "      <td>0.0</td>\n",
       "      <td>1.315</td>\n",
       "      <td>0.0</td>\n",
       "    </tr>\n",
       "    <tr>\n",
       "      <th>1</th>\n",
       "      <td>croatia</td>\n",
       "      <td>1</td>\n",
       "      <td>8807000</td>\n",
       "      <td>70</td>\n",
       "      <td>2923</td>\n",
       "      <td>31.751466</td>\n",
       "      <td>6468</td>\n",
       "      <td>315</td>\n",
       "      <td>508</td>\n",
       "      <td>303</td>\n",
       "      <td>...</td>\n",
       "      <td>0.000004</td>\n",
       "      <td>0</td>\n",
       "      <td>18.6</td>\n",
       "      <td>0.00005</td>\n",
       "      <td>0.0</td>\n",
       "      <td>1</td>\n",
       "      <td>1</td>\n",
       "      <td>0.0</td>\n",
       "      <td>1.315</td>\n",
       "      <td>0.0</td>\n",
       "    </tr>\n",
       "    <tr>\n",
       "      <th>2</th>\n",
       "      <td>croatia</td>\n",
       "      <td>2</td>\n",
       "      <td>8807000</td>\n",
       "      <td>70</td>\n",
       "      <td>2923</td>\n",
       "      <td>31.751466</td>\n",
       "      <td>6468</td>\n",
       "      <td>315</td>\n",
       "      <td>508</td>\n",
       "      <td>303</td>\n",
       "      <td>...</td>\n",
       "      <td>0.000004</td>\n",
       "      <td>0</td>\n",
       "      <td>18.6</td>\n",
       "      <td>0.00005</td>\n",
       "      <td>0.0</td>\n",
       "      <td>1</td>\n",
       "      <td>1</td>\n",
       "      <td>0.0</td>\n",
       "      <td>1.315</td>\n",
       "      <td>0.0</td>\n",
       "    </tr>\n",
       "    <tr>\n",
       "      <th>3</th>\n",
       "      <td>croatia</td>\n",
       "      <td>3</td>\n",
       "      <td>8807000</td>\n",
       "      <td>70</td>\n",
       "      <td>2923</td>\n",
       "      <td>31.751466</td>\n",
       "      <td>6468</td>\n",
       "      <td>315</td>\n",
       "      <td>508</td>\n",
       "      <td>303</td>\n",
       "      <td>...</td>\n",
       "      <td>0.000004</td>\n",
       "      <td>0</td>\n",
       "      <td>18.6</td>\n",
       "      <td>0.00005</td>\n",
       "      <td>0.0</td>\n",
       "      <td>1</td>\n",
       "      <td>1</td>\n",
       "      <td>0.0</td>\n",
       "      <td>1.315</td>\n",
       "      <td>0.0</td>\n",
       "    </tr>\n",
       "    <tr>\n",
       "      <th>4</th>\n",
       "      <td>croatia</td>\n",
       "      <td>4</td>\n",
       "      <td>8807000</td>\n",
       "      <td>70</td>\n",
       "      <td>2923</td>\n",
       "      <td>31.751466</td>\n",
       "      <td>6468</td>\n",
       "      <td>315</td>\n",
       "      <td>508</td>\n",
       "      <td>303</td>\n",
       "      <td>...</td>\n",
       "      <td>0.000004</td>\n",
       "      <td>0</td>\n",
       "      <td>18.6</td>\n",
       "      <td>0.00005</td>\n",
       "      <td>0.0</td>\n",
       "      <td>1</td>\n",
       "      <td>1</td>\n",
       "      <td>0.0</td>\n",
       "      <td>1.315</td>\n",
       "      <td>0.0</td>\n",
       "    </tr>\n",
       "  </tbody>\n",
       "</table>\n",
       "<p>5 rows × 2219 columns</p>\n",
       "</div>"
      ],
      "text/plain": [
       "    region  time_period  area_gnrl_country_ha  \\\n",
       "0  croatia            0               8807000   \n",
       "1  croatia            1               8807000   \n",
       "2  croatia            2               8807000   \n",
       "3  croatia            3               8807000   \n",
       "4  croatia            4               8807000   \n",
       "\n",
       "   avgload_trns_freight_tonne_per_vehicle_aviation  \\\n",
       "0                                               70   \n",
       "1                                               70   \n",
       "2                                               70   \n",
       "3                                               70   \n",
       "4                                               70   \n",
       "\n",
       "   avgload_trns_freight_tonne_per_vehicle_rail_freight  \\\n",
       "0                                               2923     \n",
       "1                                               2923     \n",
       "2                                               2923     \n",
       "3                                               2923     \n",
       "4                                               2923     \n",
       "\n",
       "   avgload_trns_freight_tonne_per_vehicle_road_heavy_freight  \\\n",
       "0                                          31.751466           \n",
       "1                                          31.751466           \n",
       "2                                          31.751466           \n",
       "3                                          31.751466           \n",
       "4                                          31.751466           \n",
       "\n",
       "   avgload_trns_freight_tonne_per_vehicle_water_borne  \\\n",
       "0                                               6468    \n",
       "1                                               6468    \n",
       "2                                               6468    \n",
       "3                                               6468    \n",
       "4                                               6468    \n",
       "\n",
       "   avgmass_lvst_animal_buffalo_kg  avgmass_lvst_animal_cattle_dairy_kg  \\\n",
       "0                             315                                  508   \n",
       "1                             315                                  508   \n",
       "2                             315                                  508   \n",
       "3                             315                                  508   \n",
       "4                             315                                  508   \n",
       "\n",
       "   avgmass_lvst_animal_cattle_nondairy_kg  ...  \\\n",
       "0                                     303  ...   \n",
       "1                                     303  ...   \n",
       "2                                     303  ...   \n",
       "3                                     303  ...   \n",
       "4                                     303  ...   \n",
       "\n",
       "   nemomod_entc_input_activity_ratio_fuel_production_fp_hydrogen_electrolysis_water  \\\n",
       "0                                           0.000004                                  \n",
       "1                                           0.000004                                  \n",
       "2                                           0.000004                                  \n",
       "3                                           0.000004                                  \n",
       "4                                           0.000004                                  \n",
       "\n",
       "   nemomod_entc_input_activity_ratio_fuel_production_fp_hydrogen_reformation_ccs_electricity  \\\n",
       "0                                                  0                                           \n",
       "1                                                  0                                           \n",
       "2                                                  0                                           \n",
       "3                                                  0                                           \n",
       "4                                                  0                                           \n",
       "\n",
       "   energydensity_gravimetric_enfu_gj_per_tonne_fuel_ammonia  \\\n",
       "0                                               18.6          \n",
       "1                                               18.6          \n",
       "2                                               18.6          \n",
       "3                                               18.6          \n",
       "4                                               18.6          \n",
       "\n",
       "   energydensity_gravimetric_enfu_gj_per_tonne_fuel_water  \\\n",
       "0                                            0.00005        \n",
       "1                                            0.00005        \n",
       "2                                            0.00005        \n",
       "3                                            0.00005        \n",
       "4                                            0.00005        \n",
       "\n",
       "   frac_trns_fuelmix_water_borne_ammonia  \\\n",
       "0                                    0.0   \n",
       "1                                    0.0   \n",
       "2                                    0.0   \n",
       "3                                    0.0   \n",
       "4                                    0.0   \n",
       "\n",
       "   nemomod_entc_output_activity_ratio_fuel_production_fp_ammonia_production_ammonia  \\\n",
       "0                                                  1                                  \n",
       "1                                                  1                                  \n",
       "2                                                  1                                  \n",
       "3                                                  1                                  \n",
       "4                                                  1                                  \n",
       "\n",
       "   nemomod_entc_output_activity_ratio_fuel_production_fp_hydrogen_reformation_ccs_hydrogen  \\\n",
       "0                                                  1                                         \n",
       "1                                                  1                                         \n",
       "2                                                  1                                         \n",
       "3                                                  1                                         \n",
       "4                                                  1                                         \n",
       "\n",
       "   nemomod_entc_frac_min_share_production_fp_hydrogen_reformation_ccs  \\\n",
       "0                                                0.0                    \n",
       "1                                                0.0                    \n",
       "2                                                0.0                    \n",
       "3                                                0.0                    \n",
       "4                                                0.0                    \n",
       "\n",
       "   nemomod_entc_input_activity_ratio_fuel_production_fp_hydrogen_reformation_ccs_natural_gas  \\\n",
       "0                                              1.315                                           \n",
       "1                                              1.315                                           \n",
       "2                                              1.315                                           \n",
       "3                                              1.315                                           \n",
       "4                                              1.315                                           \n",
       "\n",
       "   nemomod_entc_input_activity_ratio_fuel_production_fp_hydrogen_reformation_ccs_oil  \n",
       "0                                                0.0                                  \n",
       "1                                                0.0                                  \n",
       "2                                                0.0                                  \n",
       "3                                                0.0                                  \n",
       "4                                                0.0                                  \n",
       "\n",
       "[5 rows x 2219 columns]"
      ]
     },
     "execution_count": 8,
     "metadata": {},
     "output_type": "execute_result"
    }
   ],
   "source": [
    "df_input.head()"
   ]
  },
  {
   "cell_type": "code",
   "execution_count": 9,
   "metadata": {},
   "outputs": [
    {
     "name": "stdout",
     "output_type": "stream",
     "text": [
      "Columns in df1 but not in df2: set()\n",
      "Columns in df2 but not in df1: set()\n",
      "Columns shared in both df1 and df2: {'frac_inen_energy_metals_coal', 'scalar_inen_energy_demand_rubber_and_leather', 'nemomod_entc_renewable_energy_tag_st_flywheels', 'frac_agrc_production_lost_sent_to_msw', 'frac_wali_ww_domestic_urban_treatment_path_advanced_aerobic', 'nemomod_entc_emissions_activity_ratio_scalar_pp_biogas_n2o', 'nemomod_entc_total_annual_min_capacity_investment_pp_ocean_gw', 'efficfactor_scoe_heat_energy_commercial_municipal_coal', 'demscalar_ippu_product_use_other', 'consumpinit_inen_energy_tj_per_tonne_production_electronics', 'nemomod_entc_residual_capacity_pp_geothermal_gw', 'frac_lndu_grasslands_cl2_wet', 'elasticity_lvst_sheep_demand_to_gdppc', 'efficfactor_enfu_industrial_energy_fuel_oil', 'nemomod_entc_total_annual_min_capacity_investment_pp_hydropower_gw', 'nemomod_entc_variable_cost_pp_waste_incineration_usd_per_mwh', 'ef_enfu_combustion_tonne_co2_per_tj_fuel_hydrogen', 'exports_lvst_buffalo', 'ef_lndu_conv_forests_primary_to_forests_primary_gg_co2_ha', 'efficfactor_scoe_heat_energy_commercial_municipal_diesel', 'yf_agrc_nuts_tonne_ha', 'frac_inen_energy_electronics_kerosene', 'scalar_inen_energy_demand_paper', 'ef_enfu_stationary_combustion_tonne_ch4_per_tj_fuel_water', 'ef_enfu_stationary_combustion_tonne_ch4_per_tj_fuel_solar', 'efficfactor_scoe_heat_energy_residential_natural_gas', 'pij_lndu_forests_primary_to_settlements', 'frac_frst_primary_cl1_temperate_nutrient_rich', 'frac_inen_energy_chemicals_coal', 'ef_agrc_biomass_burning_ch4', 'ef_fgtv_production_flaring_tonne_ch4_per_m3_fuel_coal', 'fuelefficiency_trns_road_heavy_freight_diesel_km_per_litre', 'avgmass_lvst_animal_pigs_kg', 'nemomod_entc_emissions_activity_ratio_scalar_pp_gas_n2o', 'elasticity_gnrl_rate_occupancy_to_gdppc', 'frac_waso_initial_composition_ind_textiles', 'frac_agrc_crop_residues_burned', 'frac_lvst_livestock_demand_imported_pigs', 'nemomod_entc_reserve_margin', 'efficfactor_scoe_heat_energy_commercial_municipal_hydrocarbon_gas_liquids', 'frac_inen_energy_recycled_wood_hydrocarbon_gas_liquids', 'frac_lvst_livestock_demand_imported_goats', 'frac_lvst_mm_pigs_composting', 'dem_ippu_average_materials_tonne_per_household_cement', 'frac_lvst_mm_mules_deep_bedding', 'frac_agrc_bevs_and_spices_cl1_temperate', 'ef_ippu_tonne_ch3cci2f_per_mmm_gdp_product_use_ods_refrigeration', 'ef_lndu_conv_forests_mangroves_to_croplands_gg_co2_ha', 'frac_wali_ww_industrial_treatment_path_septic', 'frac_waso_initial_composition_ind_rubber_leather', 'frac_inen_energy_other_product_manufacturing_furnace_gas', 'qty_ippu_recycled_plastic_tonne_cod_per_m3_ww', 'nemomod_entc_total_annual_min_capacity_investment_pp_gas_ccs_gw', 'ef_trns_mobile_combustion_water_borne_kg_ch4_per_tj_diesel', 'ef_lsmm_direct_management_daily_spread_n2o_per_n', 'frac_inen_energy_recycled_metals_hydrogen', 'cost_enfu_fuel_ammonia_usd_per_tonne', 'ef_ippu_tonne_c5h2f10_per_mmm_gdp_product_use_ods_other', 'frac_inen_energy_recycled_glass_diesel', 'elecfuelefficiency_trns_aviation_km_per_kwh', 'frac_agrc_no_till_pulses', 'frac_lndu_receiving_fertilizer_croplands', 'ef_ippu_tonne_co2_per_tonne_production_chemicals', 'frac_waso_recycled_textiles', 'frac_trns_fuelmix_rail_freight_electricity', 'frac_lvst_mm_horses_solid_storage', 'efficfactor_enfu_industrial_energy_fuel_solar', 'ef_fgtv_production_venting_tonne_nmvoc_per_m3_fuel_oil', 'nemomod_entc_variable_cost_pp_nuclear_usd_per_mwh', 'nemomod_entc_input_activity_ratio_fuel_production_me_crude_gasoline', 'frac_frst_mangroves_cl1_temperate_nutrient_rich', 'frac_inen_energy_plastic_solar', 'frac_inen_energy_recycled_plastic_oil', 'avgmass_lvst_animal_sheep_kg', 'nemomod_entc_emissions_activity_ratio_scalar_pp_geothermal_n2o', 'nemomod_entc_emissions_activity_ratio_fuel_production_fp_natural_gas_tonne_co2_per_tj', 'frac_waso_initial_composition_ind_wood', 'factor_lndu_soil_management_unimproved_grasslands', 'ef_waso_incineration_tonne_n2o_per_tonne_metal', 'efficfactor_scoe_heat_energy_other_se_diesel', 'qtyinit_soil_liming_limestone_applied_to_soils_kt', 'pij_lndu_croplands_to_grasslands', 'ef_enfu_stationary_combustion_tonne_n2o_per_tj_fuel_waste', 'nemomod_entc_total_annual_min_capacity_pp_hydropower_gw', 'ef_trns_mobile_combustion_road_heavy_freight_kg_n2o_per_tj_biofuels', 'gasrf_lsmm_biogas_anaerobic_digester', 'scalar_scoe_appliance_energy_demand_residential', 'ef_trns_mobile_combustion_road_heavy_regional_kg_n2o_per_tj_diesel', 'frac_agrc_fruits_cl2_wet', 'frac_inen_energy_mining_oil', 'useinit_ippu_product_use_lubricants_kt', 'frac_agrc_initial_yield_feed_vegetables_and_vines', 'pij_lndu_grasslands_to_forests_secondary', 'pij_lndu_croplands_to_forests_secondary', 'ratio_agrc_above_ground_residue_to_yield_rice', 'occrate_trns_passenger_per_vehicle_road_light', 'frac_inen_energy_metals_furnace_gas', 'ef_enfu_stationary_combustion_tonne_n2o_per_tj_fuel_nuclear', 'frac_inen_energy_recycled_metals_coke', 'nemomod_entc_total_annual_max_capacity_pp_waste_incineration_gw', 'nemomod_entc_residual_capacity_pp_nuclear_gw', 'ef_ippu_tonne_c4f10_per_mmm_gdp_product_use_ods_other', 'efficfactor_scoe_heat_energy_commercial_municipal_hydrogen', 'frac_inen_energy_recycled_plastic_electricity', 'frac_lndu_soil_mineral_other', 'frac_enfu_fuel_demand_imported_pj_fuel_natural_gas', 'frac_agrc_dry_matter_of_harvest_tubers', 'frac_agrc_initial_yield_feed_bevs_and_spices', 'frac_inen_energy_metals_electricity', 'nemomod_entc_variable_cost_pp_coal_usd_per_mwh', 'ef_soil_ef2_n_drained_managed_soils_n2o_temperate_crop_grass_kg_n2on_ha', 'frac_lvst_mm_mules_poultry_manure', 'frac_trww_p_removed_treated_advanced_anaerobic', 'frac_inen_energy_recycled_plastic_gasoline', 'fuelefficiency_trns_road_heavy_freight_hydrogen_km_per_litre', 'frac_inen_energy_recycled_glass_solar', 'avgmass_lvst_animal_buffalo_kg', 'frac_lvst_mm_buffalo_incineration', 'mcf_trww_untreated_with_sewerage', 'physparam_wali_p_per_bod', 'scalar_inen_energy_demand_textiles', 'elasticity_ippu_product_use_ods_other_product_use_rate_to_gdppc', 'ef_soil_c_liming_limestone', 'frac_scoe_heat_energy_commercial_municipal_electricity', 'nemomod_entc_frac_min_share_production_pp_waste_incineration', 'ef_lndu_conv_croplands_to_wetlands_gg_co2_ha', 'frac_lvst_mm_cattle_dairy_liquid_slurry', 'frac_agrc_n_in_below_ground_residue_other_annual', 'ef_soil_c_liming_dolomite', 'yf_agrc_cereals_tonne_ha', 'efficfactor_scoe_heat_energy_commercial_municipal_natural_gas', 'frac_lvst_mm_goats_dry_lot', 'cost_enfu_fuel_diesel_usd_per_m3', 'ef_lvst_entferm_pigs_kg_ch4_head', 'frac_inen_energy_paper_diesel', 'nemomod_entc_input_activity_ratio_fuel_production_fp_hydrogen_reformation_natural_gas', 'mcf_trww_treated_advanced_aerobic', 'ef_enfu_stationary_combustion_tonne_ch4_per_tj_fuel_ocean', 'frac_inen_energy_recycled_plastic_hydrocarbon_gas_liquids', 'nemomod_entc_total_annual_max_capacity_investment_pp_gas_ccs_gw', 'efficfactor_scoe_heat_energy_other_se_coal', 'nemomod_entc_renewable_energy_tag_pp_biogas', 'ef_frst_forestmethane_secondary_kt_ch4_ha', 'ef_ippu_tonne_chf2chf2_per_mmm_gdp_product_use_ods_refrigeration', 'ef_trns_mobile_combustion_aviation_kg_ch4_per_tj_kerosene', 'efficfactor_entc_technology_fuel_use_st_flywheels', 'elasticity_agrc_pulses_demand_to_income', 'ef_agrc_biomass_bevs_and_spices_tonne_co2_ha', 'frac_trns_fuelmix_rail_passenger_electricity', 'frac_wali_ww_industrial_treatment_path_untreated_with_sewerage', 'nemomod_entc_input_activity_ratio_fuel_production_me_crude_oil', 'physparam_waso_k_textiles', 'frac_inen_energy_recycled_glass_coal', 'nemomod_entc_residual_capacity_pp_wind_gw', 'ef_enfu_combustion_tonne_co2_per_tj_fuel_other', 'demscalar_ippu_rubber_and_leather', 'frac_trww_p_removed_treated_latrine_improved', 'frac_inen_energy_cement_electricity', 'nemomod_entc_total_annual_min_capacity_pp_nuclear_gw', 'nemomod_entc_capital_cost_pp_oil_mm_usd_per_gw', 'frac_ippu_production_with_co2_capture_cement', 'frac_waso_recycled_paper', 'frac_lsmm_n_loss_leaching_poultry_manure', 'frac_inen_energy_textiles_solid_biomass', 'frac_inen_energy_recycled_rubber_and_leather_coke', 'frac_agrc_combustion_factor_pulses', 'factor_lndu_soil_inputs_supremum_without_manure_croplands', 'ef_frst_forestmethane_mangroves_kt_ch4_ha', 'ef_enfu_stationary_combustion_tonne_n2o_per_tj_fuel_natural_gas', 'frac_lvst_mm_goats_solid_storage', 'nemomod_entc_frac_min_share_production_fp_hydrogen_reformation_ccs', 'nemomod_entc_output_activity_ratio_fuel_production_fp_hydrogen_reformation_hydrogen', 'nemomod_entc_emissions_activity_ratio_scalar_pp_gas_ccs_co2', 'frac_lvst_mm_mules_incineration', 'ef_soil_ef3_pasture_n2o_dry_climate', 'ef_soil_c_cultivated_organic_tropical_crop_grass_tonne_per_ha', 'frac_inen_energy_glass_hydrogen', 'frac_lvst_mm_pigs_liquid_slurry', 'ef_ippu_tonne_c3f8_per_tonne_production_chemicals', 'frac_enfu_fuel_demand_imported_pj_fuel_crude', 'frac_ippu_production_with_co2_capture_metals', 'elasticity_lvst_mules_demand_to_gdppc', 'frac_lvst_mm_cattle_dairy_paddock_pasture_range', 'ef_waso_incineration_tonne_n2o_per_tonne_plastic', 'nemomod_entc_renewable_energy_tag_pp_hydropower', 'area_gnrl_country_ha', 'frac_waso_lgc_recovered_for_energy', 'ef_trns_mobile_combustion_rail_freight_kg_n2o_per_tj_diesel', 'genfactor_lvst_daily_volatile_solids_buffalo', 'qty_soil_organic_c_stock_wet_climate_tonne_per_ha', 'frac_inen_energy_wood_solar', 'nemomod_entc_total_annual_min_capacity_investment_pp_gas_gw', 'frac_agrc_n_in_above_ground_residue_other_annual', 'mcf_trww_treated_secondary_anaerobic', 'frac_lvst_mm_pigs_paddock_pasture_range', 'ef_waso_incineration_tonne_n2o_per_tonne_nappies', 'frac_inen_energy_lime_and_carbonite_electricity', 'frac_agrc_n_in_below_ground_residue_tubers', 'frac_waso_biogas_food', 'frac_trns_fuelmix_water_borne_hydrogen', 'nemomod_entc_emissions_activity_ratio_scalar_pp_wind_n2o', 'frac_trns_fuelmix_public_hydrogen', 'nemomod_entc_emissions_activity_ratio_scalar_pp_wind_co2', 'frac_scoe_heat_energy_residential_electricity', 'mcf_trww_treated_secondary_aerobic', 'frac_agrc_rice_cl1_temperate', 'ef_fgtv_production_flaring_tonne_n2o_per_m3_fuel_natural_gas', 'frac_inen_energy_other_product_manufacturing_coal', 'elasticity_ippu_product_use_ods_refrigeration_product_use_rate_to_gdppc', 'nemomod_enst_total_annual_max_capacity_st_pumped_hydro_pj', 'pij_lndu_forests_mangroves_to_settlements', 'frac_inen_energy_lime_and_carbonite_furnace_gas', 'frac_lvst_mm_buffalo_daily_spread', 'ef_lndu_conv_croplands_to_forests_secondary_gg_co2_ha', 'frac_inen_energy_recycled_plastic_hydrogen', 'factor_waso_waste_per_capita_scalar_chemical_industrial', 'genfactor_lvst_daily_volatile_solids_goats', 'physparam_waso_k_glass', 'prodinit_ippu_metals_tonne', 'nemomod_entc_input_activity_ratio_fuel_production_me_crude_diesel', 'elasticity_lvst_buffalo_demand_to_gdppc', 'frac_inen_energy_mining_solar', 'cost_enfu_fuel_biofuels_usd_per_m3', 'frac_lvst_livestock_demand_imported_horses', 'frac_inen_energy_other_product_manufacturing_solar', 'frac_inen_energy_glass_natural_gas', 'mcf_waso_average_landfilled', 'frac_inen_energy_cement_gasoline', 'qty_protein_per_capita_kg', 'frac_lndu_initial_forests_primary', 'nemomod_enst_total_annual_min_capacity_investment_st_pumped_hydro_pj', 'frac_frst_primary_cl1_tropical', 'ef_lndu_conv_forests_secondary_to_forests_mangroves_gg_co2_ha', 'frac_lvst_mm_sheep_daily_spread', 'qty_wali_m3_ww_industrial_per_gdp', 'exports_lvst_goats', 'frac_inen_energy_lime_and_carbonite_solar', 'ef_lndu_conv_grasslands_to_forests_secondary_gg_co2_ha', 'hl_frst_half_life_hwp_wood_products', 'nemomod_entc_fixed_cost_pp_ocean_mm_usd_per_gw', 'efficfactor_entc_technology_fuel_use_pp_gas_ccs', 'nemomod_entc_input_activity_ratio_fuel_production_me_coal_diesel', 'ef_trns_mobile_combustion_rail_passenger_kg_n2o_per_tj_diesel', 'yf_agrc_fruits_tonne_ha', 'frac_inen_energy_recycled_wood_solid_biomass', 'frac_inen_energy_cement_hydrocarbon_gas_liquids', 'fuelefficiency_trns_public_gasoline_km_per_litre', 'ef_ippu_tonne_c3h2f6_per_mmm_gdp_product_use_ods_other', 'pop_lvst_initial_goats', 'consumpinit_inen_energy_tj_per_tonne_production_wood', 'frac_enfu_minimum_fuel_to_electricity_fuel_biogas', 'population_gnrl_urban', 'pij_lndu_settlements_to_grasslands', 'density_wali_kg_n_per_m3_ww_industrial', 'efficfactor_entc_technology_fuel_use_pp_coal_ccs', 'nemomod_entc_variable_cost_st_pumped_hydro_usd_per_mwh', 'frac_scoe_heat_energy_commercial_municipal_hydrocarbon_gas_liquids', 'ef_enfu_stationary_combustion_tonne_n2o_per_tj_fuel_water', 'frac_wali_ww_domestic_urban_treatment_path_primary', 'qty_soil_organic_c_stock_tropical_crop_grass_tonne_per_ha', 'frac_inen_energy_recycled_glass_oil', 'energydensity_enfu_mj_per_litre_fuel_natural_gas', 'time_period', 'ef_trns_mobile_combustion_public_kg_n2o_per_tj_biofuels', 'efficfactor_scoe_heat_energy_residential_electricity', 'frac_lndu_soil_mineral_forests_secondary', 'ef_fgtv_production_fugitive_tonne_nmvoc_per_m3_fuel_oil', 'ef_trww_treated_advanced_aerobic_g_n2o_per_g_n', 'frac_lvst_mm_cattle_dairy_anaerobic_digester', 'cost_enfu_fuel_crude_usd_per_m3', 'nemomod_entc_fixed_cost_pp_biomass_mm_usd_per_gw', 'nemomod_entc_frac_min_share_production_pp_coal', 'nemomod_entc_fixed_cost_fp_hydrogen_gasification_mm_usd_per_gw', 'ef_lndu_conv_other_to_settlements_gg_co2_ha', 'elasticity_waso_msw_to_gdppc_sludge', 'frac_lsmm_manure_to_fertilizer_anaerobic_lagoon', 'pij_lndu_forests_primary_to_wetlands', 'frac_lvst_mm_buffalo_solid_storage', 'scalar_inen_energy_demand_lime_and_carbonite', 'frac_inen_energy_wood_solid_biomass', 'nemomod_entc_emissions_activity_ratio_scalar_pp_hydropower_ch4', 'mcf_lsmm_anaerobic_lagoon', 'ef_lndu_conv_settlements_to_wetlands_gg_co2_ha', 'nemomod_entc_emissions_activity_ratio_scalar_pp_hydropower_co2', 'frac_wali_ww_domestic_rural_treatment_path_secondary_aerobic', 'frac_trns_fuelmix_public_electricity', 'ef_enfu_combustion_tonne_co2_per_tj_fuel_biogas', 'nemomod_entc_total_annual_max_capacity_pp_biogas_gw', 'nemomod_entc_reserve_margin_tag_technology_st_batteries', 'efficfactor_scoe_heat_energy_commercial_municipal_kerosene', 'frac_soil_leachh_n_lost_to_leaching', 'frac_inen_energy_paper_solid_biomass', 'efficfactor_entc_technology_fuel_use_pp_biogas', 'energydensity_gravimetric_enfu_gj_per_tonne_fuel_coke', 'frac_inen_energy_recycled_wood_gasoline', 'demscalar_ippu_mining', 'frac_inen_energy_recycled_textiles_kerosene', 'frac_lvst_mm_horses_incineration', 'gasrf_ippu_co2_capture_cement', 'frac_inen_energy_metals_solar', 'factor_lndu_soil_carbon_forests_mangroves', 'cost_enfu_fuel_coke_usd_per_tonne', 'frac_inen_energy_chemicals_diesel', 'factor_lndu_soil_carbon_other', 'frac_wali_ww_domestic_urban_treatment_path_latrine_unimproved', 'efficfactor_enfu_industrial_energy_fuel_coal', 'nemomod_entc_capital_cost_pp_geothermal_mm_usd_per_gw', 'frac_inen_energy_glass_gasoline', 'ef_fgtv_production_flaring_tonne_co2_per_m3_fuel_coal', 'frac_inen_energy_agriculture_and_livestock_natural_gas', 'fuelefficiency_trns_rail_freight_diesel_km_per_litre', 'fuelefficiency_trns_road_light_biofuels_km_per_litre', 'factor_waso_waste_per_capita_scalar_glass', 'frac_inen_energy_recycled_plastic_furnace_gas', 'ef_ippu_tonne_c4f8o_per_tonne_production_electronics', 'mcf_trww_treated_septic', 'frac_trns_fuelmix_aviation_kerosene', 'frac_waso_initial_composition_ind_other', 'frac_inen_energy_recycled_paper_hydrogen', 'ef_enfu_combustion_tonne_co2_per_tj_fuel_coke', 'frac_lsmm_n_loss_volatilisation_anaerobic_lagoon', 'frac_inen_energy_recycled_plastic_coke', 'ef_lndu_conv_forests_primary_to_wetlands_gg_co2_ha', 'frac_inen_energy_rubber_and_leather_electricity', 'ef_enfu_stationary_combustion_tonne_n2o_per_tj_fuel_other', 'frac_waso_initial_composition_ind_nappies', 'scalar_inen_energy_demand_glass', 'nemomod_enst_total_annual_max_capacity_investment_st_compressed_air_pj', 'frac_entc_max_elec_production_increase_to_satisfy_msp_pp_solar', 'physparam_waso_k_paper', 'factor_waso_waste_per_capita_scalar_paper', 'qty_frst_biomass_consumed_by_fire_tropical_secondary_tonne_per_ha', 'demscalar_ippu_product_use_ods_other', 'elasticity_ippu_electronics_production_to_gdp', 'factor_lndu_soil_management_supremum_grasslands', 'frac_inen_energy_recycled_metals_coal', 'ratio_agrc_above_ground_residue_to_yield_tubers', 'elasticity_waso_msw_to_gdppc_textiles', 'cost_enfu_fuel_hydrogen_usd_per_mmbtu', 'qty_ippu_wood_tonne_cod_per_m3_ww', 'mcf_lsmm_incineration', 'frac_inen_energy_lime_and_carbonite_oil', 'frac_trns_fuelmix_rail_passenger_hydrogen', 'nemomod_entc_frac_min_share_production_pp_ocean', 'ef_ippu_tonne_c3h3f5_per_mmm_gdp_product_use_ods_other', 'frac_inen_energy_textiles_hydrocarbon_gas_liquids', 'gasrf_ippu_co2_capture_plastic', 'nemomod_entc_emissions_activity_ratio_scalar_pp_gas_ccs_ch4', 'nemomod_entc_capital_cost_fp_hydrogen_reformation_mm_usd_per_gw', 'qty_frst_biomass_consumed_by_fire_tropical_mangroves_tonne_per_ha', 'energydensity_gravimetric_enfu_gj_per_tonne_fuel_biogas', 'frac_enfu_minimum_fuel_to_electricity_fuel_waste', 'physparam_wali_bo_tonne_ch4_tonne_cod', 'frac_agrc_initial_area_cropland_herbs_and_other_perennial_crops', 'pij_lndu_forests_secondary_to_settlements', 'scalar_inen_energy_demand_recycled_textiles', 'exports_agrc_cereals_tonne', 'frac_ccsq_energydem_direct_air_capture_electricity', 'nemomod_entc_reserve_margin_tag_technology_pp_hydropower', 'frac_agrc_n_in_below_ground_residue_pulses', 'nemomod_entc_capital_cost_pp_coal_ccs_mm_usd_per_gw', 'frac_trns_fuelmix_road_light_diesel', 'nemomod_entc_reserve_margin_tag_technology_pp_coal', 'ratio_agrc_below_ground_to_above_ground_biomass_pulses', 'ef_lsmm_direct_management_incineration_n2o_per_n', 'ef_lsmm_direct_management_anaerobic_lagoon_n2o_per_n', 'frac_lvst_mm_mules_anaerobic_digester', 'ef_trww_untreated_with_sewerage_g_n2o_per_g_n', 'frac_inen_energy_electronics_coal', 'nemomod_entc_fixed_cost_pp_wind_mm_usd_per_gw', 'nemomod_entc_reserve_margin_tag_technology_st_flywheels', 'energydensity_gravimetric_enfu_gj_per_tonne_fuel_ammonia', 'frac_trns_fuelmix_road_heavy_freight_diesel', 'frac_trww_n_removed_treated_latrine_unimproved', 'frac_inen_energy_recycled_metals_diesel', 'demscalar_ippu_product_use_paraffin_wax', 'nemomod_entc_fixed_cost_pp_gas_mm_usd_per_gw', 'qty_waso_initial_municipal_waste_tonne_per_capita', 'frac_agrc_pulses_cl1_temperate', 'frac_inen_energy_cement_coal', 'nemomod_entc_total_annual_min_capacity_pp_wind_gw', 'frac_inen_energy_agriculture_and_livestock_electricity', 'ef_enfu_stationary_combustion_tonne_ch4_per_tj_fuel_waste', 'frac_trww_p_removed_treated_septic', 'elasticity_lvst_horses_demand_to_gdppc', 'frac_scoe_heat_energy_commercial_municipal_gasoline', 'genfactor_lvst_daily_nitrogen_buffalo', 'frac_inen_energy_rubber_and_leather_kerosene', 'frac_ccsq_heat_energy_direct_air_capture_natural_gas', 'gasrf_ippu_co2_capture_metals', 'mcf_trww_treated_advanced_anaerobic', 'frac_inen_energy_plastic_solid_biomass', 'frac_inen_energy_glass_solar', 'frac_waso_recycled_wood', 'ef_enfu_stationary_combustion_tonne_n2o_per_tj_fuel_diesel', 'elecfuelefficiency_trns_water_borne_km_per_kwh', 'frac_inen_energy_recycled_textiles_hydrogen', 'frac_wali_ww_domestic_rural_treatment_path_secondary_anaerobic', 'nemomod_entc_reserve_margin_tag_technology_pp_waste_incineration', 'yf_agrc_other_woody_perennial_tonne_ha', 'ef_ippu_tonne_chf2cf3_per_mmm_gdp_product_use_ods_refrigeration', 'ef_waso_incineration_tonne_n2o_per_tonne_glass', 'frac_lvst_mm_sheep_anaerobic_digester', 'frac_frst_annual_wildfire_fraction_mangroves', 'frac_inen_energy_cement_oil', 'efficfactor_entc_technology_fuel_use_pp_biomass', 'frac_inen_energy_other_product_manufacturing_oil', 'frac_trns_fuelmix_road_heavy_regional_gasoline', 'genfactor_lvst_daily_nitrogen_goats', 'nemomod_entc_emissions_activity_ratio_fuel_production_fp_petroleum_refinement_tonne_co2_per_tj', 'frac_wali_ww_domestic_urban_treatment_path_advanced_anaerobic', 'ef_trns_mobile_combustion_rail_passenger_kg_ch4_per_tj_natural_gas', 'nemomod_entc_total_annual_max_capacity_pp_gas_gw', 'frac_trns_pkm_dem_regional_road_heavy_regional', 'frac_trns_mtkm_dem_freight_road_heavy_freight', 'frac_trww_p_removed_treated_primary', 'scalar_inen_energy_demand_cement', 'mcf_lsmm_dry_lot', 'frac_inen_energy_recycled_metals_hydrocarbon_gas_liquids', 'frac_inen_energy_textiles_kerosene', 'avgmass_lvst_animal_goats_kg', 'ef_lsmm_direct_management_anaerobic_digester_n2o_per_n', 'elasticity_agrc_fibers_demand_to_income', 'elasticity_lvst_pigs_demand_to_gdppc', 'factor_waso_waste_per_capita_scalar_food', 'frac_waso_landfill_gas_recovered', 'genfactor_lvst_daily_nitrogen_horses', 'ef_enfu_combustion_tonne_co2_per_tj_fuel_solar', 'scalar_inen_energy_demand_mining', 'ef_lndu_conv_forests_mangroves_to_other_gg_co2_ha', 'frac_lvst_mm_cattle_dairy_poultry_manure', 'ef_trns_mobile_combustion_powered_bikes_kg_n2o_per_tj_gasoline', 'elasticity_lvst_chickens_demand_to_gdppc', 'pij_lndu_croplands_to_wetlands', 'ef_enfu_stationary_combustion_tonne_ch4_per_tj_fuel_biomass', 'frac_agrc_initial_area_cropland_vegetables_and_vines', 'efficfactor_scoe_heat_energy_other_se_solid_biomass', 'ef_enfu_combustion_tonne_co2_per_tj_fuel_wind', 'ef_waso_incineration_tonne_n2o_per_tonne_paper', 'ef_lndu_conv_grasslands_to_forests_mangroves_gg_co2_ha', 'ef_trns_mobile_combustion_aviation_kg_n2o_per_tj_kerosene', 'energydensity_enfu_mj_per_litre_fuel_hydrogen', 'nemomod_entc_capital_cost_pp_biogas_mm_usd_per_gw', 'frac_inen_energy_cement_furnace_gas', 'elasticity_agrc_bevs_and_spices_demand_to_income', 'frac_ccsq_heat_energy_direct_air_capture_hydrogen', 'frac_inen_energy_recycled_paper_gasoline', 'frac_lvst_mm_buffalo_dry_lot', 'frac_scoe_heat_energy_residential_diesel', 'energydensity_enfu_mj_per_litre_fuel_biomass', 'nemomod_entc_fixed_cost_pp_nuclear_mm_usd_per_gw', 'ef_ippu_tonne_ch2f2_per_tonne_production_electronics', 'nemomod_entc_capital_cost_pp_nuclear_mm_usd_per_gw', 'ef_trww_untreated_no_sewerage_g_n2o_per_g_n', 'frac_trns_fuelmix_road_heavy_regional_hydrocarbon_gas_liquids', 'nemomod_entc_residual_capacity_pp_solar_gw', 'nemomod_entc_capital_cost_pp_gas_mm_usd_per_gw', 'frac_lsmm_n_loss_leaching_paddock_pasture_range', 'frac_inen_energy_recycled_wood_hydrogen', 'frac_scoe_heat_energy_other_se_hydrocarbon_gas_liquids', 'nemomod_entc_input_activity_ratio_fuel_production_me_natural_gas_electricity', 'ef_trns_mobile_combustion_road_light_kg_n2o_per_tj_biofuels', 'frac_trns_fuelmix_aviation_hydrogen', 'energydensity_gravimetric_enfu_gj_per_tonne_fuel_waste', 'frac_waso_initial_composition_ind_chemical_industrial', 'frac_inen_energy_recycled_plastic_kerosene', 'fuelefficiency_trns_road_heavy_freight_hydrocarbon_gas_liquids_km_per_litre', 'nemomod_entc_total_annual_min_capacity_investment_pp_coal_gw', 'qty_soil_organic_c_stock_temperate_forest_nutrient_rich_tonne_per_ha', 'frac_inen_energy_wood_hydrogen', 'pij_lndu_forests_primary_to_other', 'frac_agrc_initial_area_cropland_other_woody_perennial', 'ef_waso_incineration_tonne_n2o_per_tonne_yard', 'efficfactor_scoe_heat_energy_other_se_hydrocarbon_gas_liquids', 'ef_ippu_tonne_ch4_per_tonne_production_chemicals', 'elasticity_scoe_enerdem_per_mmmgdp_other_se_heat_energy_to_gdppc', 'frac_inen_energy_recycled_plastic_natural_gas', 'frac_trww_n_removed_treated_secondary_aerobic', 'mcf_lsmm_daily_spread', 'ef_lndu_conv_wetlands_to_grasslands_gg_co2_ha', 'frac_wali_ww_domestic_urban_treatment_path_untreated_with_sewerage', 'frac_lvst_mm_chickens_composting', 'nemomod_entc_emissions_activity_ratio_scalar_pp_solar_ch4', 'ef_lndu_conv_wetlands_to_croplands_gg_co2_ha', 'frac_lsmm_n_loss_leaching_daily_spread', 'frac_inen_energy_paper_electricity', 'nemomod_entc_frac_min_share_production_fp_hydrogen_electrolysis', 'pij_lndu_forests_mangroves_to_other', 'elasticity_agrc_tubers_demand_to_income', 'frac_lvst_mm_goats_composting', 'ef_soil_ef2_n_drained_managed_soils_n2o_tropical_forest_kg_n2on_ha', 'ef_trns_mobile_combustion_water_borne_kg_ch4_per_tj_natural_gas', 'nemomod_entc_emissions_activity_ratio_scalar_pp_coal_co2', 'ef_fgtv_production_fugitive_tonne_co2_per_m3_fuel_coal', 'nemomod_enst_capital_cost_st_flywheels_usd_per_kwh', 'nemomod_entc_output_activity_ratio_fuel_production_me_natural_gas_natural_gas_unprocessed', 'frac_inen_energy_recycled_plastic_solid_biomass', 'frac_agrc_bevs_and_spices_cl2_dry', 'ef_lndu_conv_forests_mangroves_to_forests_secondary_gg_co2_ha', 'frac_inen_energy_chemicals_hydrogen', 'mcf_trww_treated_primary', 'ef_lvst_entferm_sheep_kg_ch4_head', 'frac_lvst_mm_sheep_anaerobic_lagoon', 'ef_enfu_stationary_combustion_tonne_n2o_per_tj_fuel_furnace_gas', 'frac_inen_energy_rubber_and_leather_hydrogen', 'nemomod_entc_input_activity_ratio_fuel_production_fp_hydrogen_reformation_electricity', 'frac_entc_max_elec_production_increase_to_satisfy_msp_pp_hydropower', 'pij_lndu_forests_mangroves_to_croplands', 'frac_frst_secondary_cl1_temperate_nutrient_poor', 'ef_fgtv_production_fugitive_tonne_ch4_per_m3_fuel_oil', 'frac_agrc_other_annual_cl1_tropical', 'ef_fgtv_production_fugitive_tonne_n2o_per_m3_fuel_oil', 'frac_inen_energy_recycled_glass_natural_gas', 'ef_ippu_tonne_ch2fchf2_per_mmm_gdp_product_use_ods_refrigeration', 'frac_trns_fuelmix_aviation_electricity', 'frac_frst_mangroves_cl1_temperate_nutrient_poor', 'physparam_waso_k_chemical_industrial', 'ef_trns_mobile_combustion_water_borne_kg_n2o_per_tj_diesel', 'ef_ippu_tonne_c2hf5_per_mmm_gdp_product_use_ods_other', 'frac_scoe_heat_energy_residential_hydrocarbon_gas_liquids', 'ef_lndu_boc_wetlands_gg_ch4_ha', 'ratio_soil_organic_matter_c_to_n', 'ef_waso_incineration_tonne_n2o_per_tonne_food', 'fuelefficiency_trns_public_natural_gas_km_per_litre', 'nemomod_entc_emissions_activity_ratio_scalar_pp_hydropower_n2o', 'nemomod_entc_reserve_margin_tag_technology_pp_gas_ccs', 'frac_inen_energy_electronics_hydrocarbon_gas_liquids', 'qty_lvst_daily_dry_matter_consumed_horses_kg', 'nemomod_entc_residual_capacity_pp_coal_ccs_gw', 'frac_lndu_soil_mineral_forests_mangroves', 'frac_trns_fuelmix_road_heavy_regional_electricity', 'frac_lvst_livestock_demand_imported_buffalo', 'frac_inen_energy_agriculture_and_livestock_coal', 'frac_inen_energy_recycled_textiles_hydrocarbon_gas_liquids', 'nemomod_entc_fixed_cost_fp_hydrogen_reformation_mm_usd_per_gw', 'nemomod_entc_frac_min_share_production_pp_gas', 'demscalar_ippu_electronics', 'efficfactor_entc_technology_fuel_use_pp_hydropower', 'factor_waso_waste_per_capita_scalar_sludge', 'ef_trns_mobile_combustion_road_heavy_regional_kg_ch4_per_tj_hydrocarbon_gas_liquids', 'frac_lsmm_n_loss_volatilisation_storage_solid', 'nemomod_entc_fixed_cost_pp_gas_ccs_mm_usd_per_gw', 'efficfactor_scoe_heat_energy_other_se_natural_gas', 'frac_agrc_other_woody_perennial_cl2_dry', 'frac_lsmm_manure_to_fertilizer_incineration', 'nemomod_entc_fixed_cost_pp_oil_mm_usd_per_gw', 'frac_trns_pkm_dem_regional_rail_passenger', 'nemomod_entc_emissions_activity_ratio_scalar_pp_biomass_n2o', 'frac_wali_ww_domestic_rural_treatment_path_septic', 'frac_inen_energy_textiles_oil', 'nemomod_entc_total_annual_min_capacity_investment_pp_coal_ccs_gw', 'frac_agrc_initial_area_cropland_rice', 'frac_inen_energy_paper_hydrogen', 'frac_inen_energy_rubber_and_leather_solar', 'demscalar_ippu_wood', 'frac_lvst_mm_horses_liquid_slurry', 'frac_wali_ww_domestic_rural_treatment_path_latrine_unimproved', 'elasticity_trde_mtkm_to_gdp_freight', 'frac_lsmm_n_loss_leaching_composting', 'nemomod_entc_emissions_activity_ratio_scalar_pp_biogas_ch4', 'strategy_id', 'pij_lndu_forests_secondary_to_croplands', 'prodinit_ippu_plastic_tonne', 'cost_enfu_fuel_biogas_usd_per_mmbtu', 'nemomod_entc_frac_min_share_production_fp_hydrogen_gasification', 'gasrf_trww_biogas_treated_secondary_aerobic', 'frac_lvst_mm_sheep_deep_bedding', 'pij_lndu_other_to_forests_mangroves', 'pop_lvst_initial_cattle_dairy', 'frac_trww_tow_removed_treated_secondary_anaerobic', 'nemomod_entc_total_annual_min_capacity_investment_pp_wind_gw', 'frac_inen_energy_metals_hydrogen', 'frac_inen_energy_plastic_coke', 'frac_inen_energy_plastic_coal', 'ef_lndu_conv_settlements_to_forests_secondary_gg_co2_ha', 'ef_ippu_tonne_c2f6_per_tonne_production_chemicals', 'frac_inen_energy_recycled_paper_kerosene', 'ef_ippu_tonne_c2h3f3_per_mmm_gdp_product_use_ods_refrigeration', 'ef_soil_ef1_n_organic_amerndments_fertilizer_n2o_wet_climate', 'ef_fgtv_production_flaring_tonne_n2o_per_m3_fuel_oil', 'nemomod_enst_frac_storage_charged_initial_st_flywheels', 'demscalar_ippu_other_industries', 'elasticity_waso_msw_to_gdppc_yard', 'ef_fgtv_production_fugitive_tonne_ch4_per_m3_fuel_coal', 'frac_lvst_mm_cattle_dairy_dry_lot', 'frac_waso_initial_composition_ind_food', 'ef_trns_mobile_combustion_road_heavy_regional_kg_n2o_per_tj_natural_gas', 'qty_waso_annual_waste_collected_tonne_per_vehicle', 'scalar_inen_energy_demand_plastic', 'efficfactor_enfu_industrial_energy_fuel_hydrogen', 'nemomod_entc_residual_capacity_pp_ocean_gw', 'frac_inen_energy_recycled_metals_solid_biomass', 'ef_ippu_tonne_co2_per_tonne_production_plastic', 'frac_agrc_fruits_cl2_dry', 'frac_inen_energy_metals_natural_gas', 'nemomod_enst_total_annual_min_capacity_st_flywheels_pj', 'ef_frst_forestfires_mangroves_co2', 'frac_entc_max_elec_production_increase_to_satisfy_msp_pp_biomass', 'ef_waso_incineration_kg_ch4_per_kg_isw', 'frac_inen_energy_lime_and_carbonite_solid_biomass', 'efficfactor_entc_technology_fuel_use_pp_ocean', 'frac_enfu_fuel_demand_imported_pj_fuel_ammonia', 'frac_lvst_mm_sheep_composting', 'nemomod_entc_fixed_cost_pp_solar_mm_usd_per_gw', 'frac_wali_protein_in_diet_with_red_meat', 'nemomod_entc_variable_cost_pp_biogas_usd_per_mwh', 'frac_inen_energy_plastic_furnace_gas', 'frac_waso_initial_composition_ind_sludge', 'frac_ippu_production_with_co2_capture_glass', 'nemomod_entc_input_activity_ratio_fuel_production_fp_hydrogen_electrolysis_water', 'exports_enfu_pj_fuel_ammonia', 'energydensity_enfu_mj_per_litre_fuel_kerosene', 'frac_inen_energy_cement_natural_gas', 'demscalar_soil_liming_per_area', 'pij_lndu_grasslands_to_forests_primary', 'frac_agrc_crop_demand_imported_pulses', 'frac_inen_energy_rubber_and_leather_diesel', 'ef_enfu_stationary_combustion_tonne_ch4_per_tj_fuel_hydrogen', 'energydensity_enfu_mj_per_litre_fuel_coke', 'exports_enfu_pj_fuel_oil', 'pij_lndu_wetlands_to_croplands', 'physparam_lvst_bo_cattle_dairy_kg_ch4_kg_manure', 'ef_lndu_conv_forests_mangroves_to_forests_primary_gg_co2_ha', 'frac_inen_energy_recycled_paper_oil', 'pij_lndu_settlements_to_croplands', 'frac_inen_energy_agriculture_and_livestock_solid_biomass', 'ef_lndu_conv_croplands_to_other_gg_co2_ha', 'vol_ippu_rubber_and_leather_m3_ww_per_tonne_production', 'pij_lndu_wetlands_to_forests_secondary', 'ef_waso_compost_kg_n2o_per_kg_food', 'ef_ippu_tonne_c2f6_per_tonne_production_electronics', 'frac_lsmm_n_loss_volatilisation_anaerobic_digester', 'pij_lndu_other_to_forests_primary', 'efficfactor_enfu_industrial_energy_fuel_furnace_gas', 'frac_entc_max_elec_production_increase_to_satisfy_msp_pp_waste_incineration', 'frac_lvst_mm_cattle_nondairy_deep_bedding', 'frac_lsmm_n_loss_volatilisation_dry_lot', 'scalar_lvst_carrying_capacity', 'frac_inen_energy_electronics_solar', 'pij_lndu_forests_mangroves_to_forests_mangroves', 'efficfactor_scoe_heat_energy_residential_kerosene', 'frac_lvst_mm_chickens_incineration', 'nemomod_entc_frac_min_share_production_pp_geothermal', 'nemomod_entc_capital_cost_pp_coal_mm_usd_per_gw', 'factor_lndu_soil_carbon_wetlands', 'frac_trns_fuelmix_road_heavy_freight_natural_gas', 'nemomod_entc_fixed_cost_fp_hydrogen_reformation_ccs_mm_usd_per_gw', 'pij_lndu_grasslands_to_forests_mangroves', 'ef_lndu_conv_wetlands_to_wetlands_gg_co2_ha', 'frac_agrc_crop_demand_imported_rice', 'elasticity_agrc_vegetables_and_vines_demand_to_income', 'exports_agrc_other_annual_tonne', 'prodinit_ippu_recycled_glass_tonne', 'nemomod_entc_total_annual_min_capacity_pp_gas_ccs_gw', 'frac_inen_energy_other_product_manufacturing_solid_biomass', 'qty_soil_organic_c_stock_tropical_forest_tonne_per_ha', 'pij_lndu_wetlands_to_forests_primary', 'nemomod_entc_total_annual_max_capacity_investment_pp_solar_gw', 'physparam_waso_k_sludge', 'frac_scoe_heat_energy_other_se_solid_biomass', 'nemomod_entc_input_activity_ratio_fuel_production_me_coal_coal_deposits', 'ef_lndu_conv_other_to_forests_mangroves_gg_co2_ha', 'frac_lsmm_manure_to_fertilizer_liquid_slurry', 'factor_lndu_soil_carbon_grasslands', 'qty_ippu_recycled_rubber_and_leather_tonne_cod_per_m3_ww', 'nemomod_enst_frac_storage_charged_initial_st_batteries', 'frac_trns_fuelmix_rail_freight_diesel', 'nemomod_entc_output_activity_ratio_fuel_production_fp_hydrogen_electrolysis_hydrogen', 'ef_waso_biogas_kg_ch4_per_kg_yard', 'efficfactor_scoe_heat_energy_residential_coal', 'nemomod_enfu_renewable_energy_minimum_production_target_fuel_electricity', 'frac_ippu_cement_clinker', 'ef_trns_mobile_combustion_road_light_kg_ch4_per_tj_diesel', 'frac_inen_energy_glass_oil', 'ef_ippu_tonne_ch2f2_per_tonne_production_chemicals', 'ef_enfu_stationary_combustion_tonne_n2o_per_tj_fuel_coal_deposits', 'ef_ippu_tonne_c4f10_per_tonne_production_chemicals', 'elasticity_waso_msw_to_gdppc_metal', 'qty_ippu_glass_tonne_cod_per_m3_ww', 'qty_ippu_recycled_paper_tonne_cod_per_m3_ww', 'nemomod_entc_emissions_activity_ratio_scalar_fp_hydrogen_reformation_ccs_co2', 'nemomod_entc_input_activity_ratio_fuel_production_fp_hydrogen_reformation_ccs_electricity', 'gasrf_trww_biogas_treated_advanced_anaerobic', 'frac_agrc_sugar_cane_cl2_wet', 'nemomod_entc_input_activity_ratio_fuel_production_me_natural_gas_diesel', 'qty_frst_biomass_consumed_by_fire_temperate_primary_tonne_per_ha', 'frac_inen_energy_plastic_gasoline', 'frac_inen_energy_electronics_solid_biomass', 'frac_wali_ww_domestic_urban_treatment_path_secondary_aerobic', 'ef_enfu_combustion_tonne_co2_per_tj_fuel_biomass', 'frac_agrc_initial_yield_feed_fibers', 'frac_lvst_mm_cattle_nondairy_dry_lot', 'frac_scoe_heat_energy_other_se_coal', 'deminit_trde_regional_per_capita_passenger_km', 'frac_waso_initial_composition_mun_paper', 'fuelefficiency_trns_road_light_hydrocarbon_gas_liquids_km_per_litre', 'frac_lsmm_manure_to_fertilizer_poultry_manure', 'pij_lndu_settlements_to_forests_secondary', 'frac_waso_initial_composition_mun_chemical_industrial', 'frac_inen_energy_electronics_coke', 'ef_enfu_stationary_combustion_tonne_ch4_per_tj_fuel_oil', 'frac_agrc_bevs_and_spices_cl1_tropical', 'ef_fgtv_production_venting_tonne_co2_per_m3_fuel_coal', 'factor_waso_waste_per_capita_scalar_metal', 'frac_inen_energy_recycled_rubber_and_leather_natural_gas', 'pij_lndu_grasslands_to_grasslands', 'ef_lvst_entferm_cattle_dairy_kg_ch4_head', 'frac_lndu_initial_grasslands', 'frac_lsmm_n_loss_volatilisation_incineration', 'ef_frst_forestfires_primary_co2', 'frac_inen_energy_recycled_paper_solar', 'frac_inen_energy_recycled_wood_electricity', 'elecfuelefficiency_trns_rail_freight_km_per_kwh', 'frac_waso_biogas_sludge', 'ef_agrc_anaerobicdom_rice_kg_ch4_ha', 'frac_fgtv_reduction_in_fugitive_leaks', 'consumpinit_inen_energy_tj_per_tonne_production_recycled_textiles', 'demscalar_ippu_plastic', 'frac_lvst_livestock_demand_imported_mules', 'frac_agrc_tubers_cl2_wet', 'frac_wali_ww_domestic_rural_treatment_path_untreated_no_sewerage', 'ef_fgtv_transmission_tonne_ch4_per_m3_fuel_oil', 'ef_lsmm_direct_management_dry_lot_n2o_per_n', 'efficfactor_scoe_heat_energy_commercial_municipal_gasoline', 'elecfuelefficiency_trns_public_km_per_kwh', 'ef_trns_mobile_combustion_public_kg_n2o_per_tj_hydrocarbon_gas_liquids', 'exports_enfu_pj_fuel_gasoline', 'frac_trns_pkm_dem_regional_aviation', 'frac_inen_energy_other_product_manufacturing_kerosene', 'efficfactor_entc_technology_fuel_use_pp_nuclear', 'frac_agrc_dry_matter_of_harvest_other_annual', 'ef_fgtv_production_flaring_tonne_nmvoc_per_m3_fuel_natural_gas', 'physparam_lvst_bo_chickens_kg_ch4_kg_manure', 'ef_ippu_tonne_cc4f8_per_tonne_production_chemicals', 'nemomod_entc_output_activity_ratio_fuel_production_me_coal_coal', 'frac_agrc_initial_area_cropland_cereals', 'ef_enfu_stationary_combustion_tonne_ch4_per_tj_fuel_kerosene', 'frac_lvst_mm_cattle_nondairy_daily_spread', 'nemomod_entc_total_annual_max_capacity_pp_geothermal_gw', 'mcf_lsmm_deep_bedding', 'exports_agrc_rice_tonne', 'frac_inen_energy_other_product_manufacturing_gasoline', 'nemomod_entc_fixed_cost_pp_waste_incineration_mm_usd_per_gw', 'pop_lvst_initial_cattle_nondairy', 'prodinit_ippu_cement_tonne', 'avgmass_lvst_animal_horses_kg', 'frac_inen_energy_paper_gasoline', 'cost_enfu_fuel_natural_gas_usd_per_mmbtu', 'frac_entc_max_elec_production_increase_to_satisfy_msp_pp_ocean', 'frac_scoe_heat_energy_residential_coal', 'nemomod_entc_emissions_activity_ratio_scalar_pp_oil_n2o', 'elasticity_ippu_glass_production_to_gdp', 'frac_inen_energy_recycled_plastic_diesel', 'ef_lndu_conv_grasslands_to_wetlands_gg_co2_ha', 'frac_inen_energy_mining_gasoline', 'frac_waso_compost_yard', 'occrate_trns_passenger_per_vehicle_human_powered', 'ef_trns_mobile_combustion_road_heavy_regional_kg_n2o_per_tj_gasoline', 'exports_enfu_pj_fuel_hydrocarbon_gas_liquids', 'ef_trns_mobile_combustion_road_heavy_freight_kg_ch4_per_tj_natural_gas', 'frac_agrc_no_till_other_annual', 'vol_ippu_recycled_plastic_m3_ww_per_tonne_production', 'frac_agrc_other_woody_perennial_cl1_tropical', 'frac_agrc_vegetables_and_vines_cl2_wet', 'fuelefficiency_trns_road_light_hydrogen_km_per_litre', 'scalar_lndu_vegetarian_dietary_exchange', 'ef_enfu_stationary_combustion_tonne_n2o_per_tj_fuel_biogas', 'frac_inen_energy_glass_solid_biomass', 'pij_lndu_other_to_forests_secondary', 'exports_agrc_nuts_tonne', 'frac_inen_energy_other_product_manufacturing_electricity', 'nemomod_entc_residual_capacity_pp_biogas_gw', 'frac_trww_tow_removed_treated_advanced_aerobic', 'fuelefficiency_trns_road_light_diesel_km_per_litre', 'ef_ippu_tonne_ch3ccif2_per_mmm_gdp_product_use_ods_refrigeration', 'frac_inen_energy_paper_natural_gas', 'frac_inen_energy_chemicals_gasoline', 'frac_trww_p_removed_treated_advanced_aerobic', 'cost_enfu_fuel_coal_usd_per_tonne', 'physparam_krem_sludge_factor_treated_advanced_aerobic', 'vkmt_per_vehicle_waso', 'region', 'cost_enfu_fuel_waste_usd_per_mmbtu', 'frac_lndu_settlements_cl2_wet', 'nemomod_entc_fixed_cost_pp_biogas_mm_usd_per_gw', 'consumpinit_scoe_gj_per_hh_residential_heat_energy', 'exports_enfu_pj_fuel_hydrogen', 'nemomod_entc_reserve_margin_tag_technology_pp_biomass', 'ef_lndu_conv_wetlands_to_forests_secondary_gg_co2_ha', 'nemomod_entc_input_activity_ratio_fuel_production_me_coal_oil', 'consumpinit_inen_energy_tj_per_tonne_production_recycled_plastic', 'elasticity_scoe_enerdem_per_mmmgdp_other_se_elec_appliances_to_gdppc', 'ef_lndu_conv_forests_secondary_to_grasslands_gg_co2_ha', 'frac_lndu_increasing_net_exports_met_grasslands', 'frac_lvst_mm_mules_composting', 'ef_lvst_entferm_goats_kg_ch4_head', 'consumpinit_inen_energy_tj_per_mmm_gdp_other_product_manufacturing', 'frac_inen_energy_recycled_textiles_coal', 'frac_trns_fuelmix_road_heavy_freight_electricity', 'ef_agrc_biomass_burning_n2o', 'frac_entc_max_elec_production_increase_to_satisfy_msp_pp_biogas', 'frac_scoe_heat_energy_residential_solid_biomass', 'mcf_lsmm_paddock_pasture_range', 'frac_waso_initial_composition_mun_plastic', 'frac_enfu_fuel_demand_imported_pj_fuel_diesel', 'factor_waso_waste_per_capita_scalar_wood', 'factor_waso_waste_per_capita_scalar_yard', 'frac_inen_energy_paper_furnace_gas', 'frac_inen_energy_recycled_rubber_and_leather_solid_biomass', 'prodinit_ippu_recycled_plastic_tonne', 'frac_agrc_combustion_factor_other_annual', 'ef_fgtv_production_flaring_tonne_ch4_per_m3_fuel_natural_gas', 'ef_waso_biogas_kg_ch4_per_kg_sludge', 'genfactor_lvst_daily_nitrogen_mules', 'frac_agrc_agriculture_production_lost', 'ef_lndu_conv_forests_primary_to_grasslands_gg_co2_ha', 'maxfrac_ippu_maximum_recylced_material_ratio_glass', 'ef_trns_mobile_combustion_public_kg_ch4_per_tj_biofuels', 'nemomod_entc_renewable_energy_tag_pp_coal_ccs', 'physparam_wali_bo_tonne_ch4_tonne_bod', 'frac_ccsq_heat_energy_direct_air_capture_geothermal', 'frac_trns_fuelmix_road_heavy_freight_biofuels', 'qty_frst_biomass_consumed_by_fire_temperate_secondary_tonne_per_ha', 'nemomod_entc_residual_capacity_pp_oil_gw', 'nemomod_entc_renewable_energy_tag_pp_wind', 'frac_gnrl_eating_red_meat', 'frac_trww_n_removed_treated_primary', 'frac_inen_energy_textiles_electricity', 'frac_wali_ww_domestic_rural_treatment_path_latrine_improved', 'frac_waso_non_recycled_landfilled', 'ef_enfu_stationary_combustion_tonne_n2o_per_tj_fuel_oil', 'ef_enfu_stationary_combustion_tonne_ch4_per_tj_fuel_geothermal', 'prodinit_ippu_recycled_textiles_tonne', 'elasticity_protein_in_diet_to_gdppc', 'nemomod_entc_total_annual_min_capacity_investment_pp_biogas_gw', 'frac_inen_energy_mining_kerosene', 'ef_enfu_stationary_combustion_tonne_ch4_per_tj_fuel_nuclear', 'nemomod_entc_frac_min_share_production_pp_biogas', 'nemomod_entc_input_activity_ratio_fuel_production_fp_hydrogen_gasification_electricity', 'frac_agrc_initial_yield_feed_other_woody_perennial', 'fuelefficiency_trns_powered_bikes_gasoline_km_per_litre', 'ef_ippu_tonne_co2_per_tonne_production_lime_and_carbonite', 'oxf_waso_average_landfilled', 'mcf_trww_treated_latrine_unimproved', 'frac_lvst_mm_buffalo_composting', 'qty_lvst_daily_dry_matter_consumed_chickens_kg', 'frac_lsmm_n_loss_volatilisation_liquid_slurry', 'ef_lndu_conv_forests_primary_to_forests_secondary_gg_co2_ha', 'pop_lvst_initial_buffalo', 'ef_trns_mobile_combustion_public_kg_ch4_per_tj_diesel', 'nemomod_entc_input_activity_ratio_fuel_production_me_natural_gas_natural_gas', 'nemomod_entc_emissions_activity_ratio_scalar_pp_solar_co2', 'nemomod_entc_renewable_energy_tag_pp_oil', 'ef_lndu_conv_forests_mangroves_to_grasslands_gg_co2_ha', 'qty_ippu_electronics_tonne_cod_per_m3_ww', 'frac_inen_energy_mining_hydrogen', 'frac_agrc_n_in_above_ground_residue_rice', 'demscalar_ippu_paper', 'frac_inen_energy_mining_geothermal', 'mcf_lsmm_liquid_slurry', 'nemomod_entc_capital_cost_pp_gas_ccs_mm_usd_per_gw', 'emitinit_ippu_product_use_other_kt_co2', 'cost_enfu_fuel_nuclear_usd_per_tonne', 'ratio_agrc_below_ground_to_above_ground_biomass_tubers', 'ef_trns_mobile_combustion_road_light_kg_n2o_per_tj_gasoline', 'nemomod_entc_total_annual_max_capacity_pp_hydropower_gw', 'frac_inen_energy_electronics_furnace_gas', 'frac_scoe_heat_energy_residential_gasoline', 'dem_ippu_average_materials_tonne_per_household_wood', 'ef_trns_mobile_combustion_road_heavy_freight_kg_n2o_per_tj_hydrocarbon_gas_liquids', 'nemomod_enst_residual_capacity_st_pumped_hydro_gwh', 'ef_enfu_stationary_combustion_tonne_ch4_per_tj_fuel_electricity', 'frac_inen_energy_recycled_rubber_and_leather_hydrocarbon_gas_liquids', 'frac_inen_energy_cement_diesel', 'nemomod_entc_fixed_cost_pp_geothermal_mm_usd_per_gw', 'nemomod_entc_residual_capacity_pp_gas_ccs_gw', 'ef_lndu_conv_settlements_to_settlements_gg_co2_ha', 'frac_trww_tow_removed_untreated_with_sewerage', 'nemomod_entc_frac_min_share_production_pp_wind', 'nemomod_entc_emissions_activity_ratio_scalar_pp_gas_co2', 'fuelefficiency_trns_aviation_kerosene_km_per_litre', 'nemomod_entc_reserve_margin_tag_technology_pp_nuclear', 'nemomod_entc_input_activity_ratio_fuel_production_fp_hydrogen_gasification_coal', 'physparam_waso_k_wood', 'physparam_waso_k_plastic', 'frac_waso_initial_composition_ind_plastic', 'nemomod_entc_fixed_cost_pp_hydropower_mm_usd_per_gw', 'ef_waso_compost_kg_n2o_per_kg_sludge', 'ef_ippu_tonne_c4h5f5_per_tonne_production_chemicals', 'ef_ippu_tonne_co2_per_tonne_production_metals', 'ef_enfu_stationary_combustion_tonne_n2o_per_tj_fuel_ammonia', 'ef_lndu_conv_forests_mangroves_to_forests_mangroves_gg_co2_ha', 'nemomod_entc_total_annual_max_capacity_investment_pp_biogas_gw', 'consumpinit_inen_energy_tj_per_tonne_production_recycled_wood', 'frac_inen_energy_recycled_rubber_and_leather_diesel', 'ef_ippu_tonne_sf6_per_tonne_production_metals', 'occrate_trns_passenger_per_vehicle_public', 'ef_agrc_biomass_nuts_tonne_co2_ha', 'frac_inen_energy_plastic_hydrogen', 'nemomod_entc_total_annual_min_capacity_investment_pp_oil_gw', 'pij_lndu_wetlands_to_forests_mangroves', 'frac_trns_pkm_dem_regional_water_borne', 'frac_lvst_mm_pigs_poultry_manure', 'frac_enfu_fuel_demand_imported_pj_fuel_coal', 'ef_frst_c_per_wood_products', 'nemomod_enst_capital_cost_st_batteries_usd_per_kwh', 'frac_inen_energy_wood_hydrocarbon_gas_liquids', 'nemomod_entc_variable_cost_pp_solar_usd_per_mwh', 'qty_ippu_metals_tonne_cod_per_m3_ww', 'frac_trns_pkm_dem_regional_road_light', 'frac_inen_energy_cement_hydrogen', 'frac_inen_energy_electronics_oil', 'frac_scoe_heat_energy_other_se_kerosene', 'energydensity_gravimetric_enfu_gj_per_tonne_fuel_hydrocarbon_gas_liquids', 'nemomod_entc_output_activity_ratio_fuel_production_fp_hydrogen_gasification_hydrogen', 'ef_enfu_combustion_tonne_co2_per_tj_fuel_biofuels', 'frac_lvst_mm_sheep_liquid_slurry', 'ef_enfu_stationary_combustion_tonne_ch4_per_tj_fuel_hydrocarbon_gas_liquids', 'frac_inen_energy_recycled_wood_coke', 'frac_ippu_production_with_co2_capture_plastic', 'frac_agrc_crop_demand_imported_other_annual', 'physparam_wali_p_per_cod', 'demscalar_trde_freight', 'ef_enfu_stationary_combustion_tonne_n2o_per_tj_fuel_solar', 'nemomod_entc_renewable_energy_tag_st_pumped_hydro', 'nemomod_entc_total_annual_min_capacity_investment_pp_biomass_gw', 'ef_enfu_stationary_combustion_tonne_ch4_per_tj_fuel_biogas', 'frac_lndu_grasslands_cl1_temperate', 'frac_inen_energy_rubber_and_leather_solid_biomass', 'scalar_inen_energy_demand_wood', 'elasticity_waso_msw_to_gdppc_rubber_leather', 'qty_frst_biomass_consumed_by_fire_tropical_primary_tonne_per_ha', 'nemomod_entc_total_annual_max_capacity_pp_coal_gw', 'ef_enfu_combustion_tonne_co2_per_tj_fuel_water', 'ratio_agrc_above_ground_residue_to_yield_pulses', 'frac_inen_energy_rubber_and_leather_furnace_gas', 'elasticity_scoe_enerdem_per_hh_residential_elec_appliances_to_gdppc', 'qty_ippu_textiles_tonne_cod_per_m3_ww', 'frac_inen_energy_recycled_wood_kerosene', 'frac_lvst_mm_mules_dry_lot', 'nemomod_entc_frac_min_share_production_pp_hydropower', 'gasrf_ippu_co2_capture_glass', 'frac_inen_energy_textiles_gasoline', 'efficfactor_enfu_industrial_energy_fuel_coke', 'ef_lvst_entferm_chickens_kg_ch4_head', 'elecfuelefficiency_trns_powered_bikes_km_per_kwh', 'ef_lndu_conv_forests_secondary_to_forests_primary_gg_co2_ha', 'frac_trns_fuelmix_road_heavy_freight_gasoline', 'frac_trns_fuelmix_water_borne_ammonia', 'vol_ippu_metals_m3_ww_per_tonne_production', 'frac_agrc_crop_demand_imported_nuts', 'regressionb_agrc_above_ground_residue_cereals_kg_per_ha', 'consumpinit_inen_energy_tj_per_tonne_production_plastic', 'pij_lndu_grasslands_to_settlements', 'frac_inen_energy_mining_solid_biomass', 'frac_agrc_pulses_cl2_wet', 'frac_waso_initial_composition_mun_nappies', 'frac_scoe_heat_energy_commercial_municipal_kerosene', 'consumpinit_scoe_tj_per_mmmgdp_other_se_elec_appliances', 'ef_ippu_tonne_co2_per_tonne_production_glass', 'ef_trns_mobile_combustion_road_heavy_freight_kg_n2o_per_tj_gasoline', 'ef_lvst_entferm_cattle_nondairy_kg_ch4_head', 'ef_ippu_tonne_cf4_per_mmm_gdp_product_use_ods_other', 'nemomod_entc_input_activity_ratio_fuel_production_fp_hydrogen_reformation_ccs_oil', 'fuelefficiency_trns_water_borne_hydrogen_km_per_litre', 'pij_lndu_croplands_to_croplands', 'pij_lndu_grasslands_to_wetlands', 'frac_trns_fuelmix_road_heavy_freight_hydrocarbon_gas_liquids', 'frac_trns_fuelmix_powered_bikes_electricity', 'frac_inen_energy_paper_hydrocarbon_gas_liquids', 'vol_ippu_plastic_m3_ww_per_tonne_production', 'yf_agrc_sugar_cane_tonne_ha', 'frac_lvst_mm_mules_solid_storage', 'frac_inen_energy_textiles_natural_gas', 'nemomod_entc_capital_cost_fp_hydrogen_electrolysis_mm_usd_per_gw', 'frac_wali_ww_domestic_rural_treatment_path_advanced_anaerobic', 'frac_waso_initial_composition_ind_paper', 'qty_lvst_daily_dry_matter_consumed_pigs_kg', 'frac_ippu_production_with_co2_capture_lime_and_carbonite', 'frac_soil_gasf_n_volatilisation_synthetic_fertilizer_non_urea', 'nemomod_entc_output_activity_ratio_fuel_production_me_crude_crude', 'consumpinit_inen_energy_tj_per_tonne_production_recycled_glass', 'frac_scoe_heat_energy_residential_kerosene', 'logelasticity_wali_qty_prod_to_gdp_per_capita', 'nemomod_entc_emissions_activity_ratio_fuel_production_fp_petroleum_refinement_tonne_ch4_per_tj', 'ef_ippu_tonne_co2_per_tonne_production_cement_clinker', 'energydensity_enfu_mj_per_litre_fuel_furnace_gas', 'ef_trns_mobile_combustion_road_heavy_freight_kg_ch4_per_tj_gasoline', 'genfactor_lvst_daily_volatile_solids_cattle_nondairy', 'frac_lsmm_n_loss_leaching_deep_bedding', 'ef_ippu_tonne_co2_per_tonne_product_use_product_use_paraffin_wax', 'pij_lndu_forests_primary_to_forests_mangroves', 'occrate_trns_passenger_per_vehicle_rail_passenger', 'ef_fgtv_production_fugitive_tonne_co2_per_m3_fuel_oil', 'frac_frst_secondary_cl1_temperate_nutrient_rich', 'nemomod_entc_total_annual_min_capacity_pp_coal_gw', 'frac_agrc_vegetables_and_vines_cl2_dry', 'nemomod_entc_total_annual_min_capacity_investment_pp_geothermal_gw', 'ef_ippu_tonne_ch4_per_tonne_production_plastic', 'nemomod_entc_emissions_activity_ratio_scalar_pp_waste_incineration_ch4', 'frac_agrc_fruits_cl1_tropical', 'frac_trww_p_removed_untreated_no_sewerage', 'frac_agrc_cereals_cl1_temperate', 'frac_inen_energy_textiles_furnace_gas', 'frac_scoe_heat_energy_other_se_electricity', 'elasticity_waso_msw_to_gdppc_chemical_industrial', 'nemomod_entc_emissions_activity_ratio_scalar_pp_coal_ccs_n2o', 'frac_inen_energy_metals_hydrocarbon_gas_liquids', 'qty_ippu_rubber_and_leather_tonne_cod_per_m3_ww', 'nemomod_entc_input_activity_ratio_fuel_production_fp_petroleum_refinement_electricity', 'prodinit_ippu_mining_tonne', 'pij_lndu_settlements_to_wetlands', 'ef_frst_sequestration_mangroves_kt_co2_ha', 'gasrf_ippu_co2_capture_lime_and_carbonite', 'frac_waso_initial_composition_mun_metal', 'nemomod_entc_emissions_activity_ratio_scalar_pp_waste_incineration_co2', 'frac_enfu_transmission_loss_fuel_electricity', 'frac_sludge_compliant_treated_septic', 'nemomod_entc_total_annual_max_capacity_pp_solar_gw', 'frac_inen_energy_cement_solar', 'frac_agrc_pulses_cl1_tropical', 'frac_inen_energy_recycled_paper_hydrocarbon_gas_liquids', 'frac_inen_energy_textiles_hydrogen', 'ef_ippu_tonne_c6f14_per_mmm_gdp_product_use_ods_other', 'ef_soil_ef1_n_synthetic_fertilizer_n2o_wet_climate', 'frac_lndu_increasing_net_imports_met_croplands', 'frac_trns_fuelmix_powered_bikes_gasoline', 'nemomod_entc_input_activity_ratio_fuel_production_fp_hydrogen_reformation_oil', 'frac_wali_ww_industrial_treatment_path_secondary_aerobic', 'ef_lndu_conv_settlements_to_croplands_gg_co2_ha', 'frac_trww_n_removed_untreated_no_sewerage', 'cost_enfu_fuel_electricity_usd_per_mmbtu', 'efficfactor_scoe_heat_energy_other_se_kerosene', 'factor_lndu_soil_carbon_forests_primary', 'frac_trww_n_removed_treated_advanced_aerobic', 'ef_lsmm_direct_management_paddock_pasture_range_n2o_per_n', 'nemomod_entc_total_annual_max_capacity_investment_pp_geothermal_gw', 'frac_inen_energy_recycled_wood_diesel', 'frac_agrc_crop_demand_imported_other_woody_perennial', 'elasticity_trde_pkm_to_gdppc_private_and_public', 'nemomod_entc_emissions_activity_ratio_scalar_pp_nuclear_co2', 'ef_ippu_tonne_sf6_per_tonne_production_chemicals', 'consumpinit_scoe_tj_per_mmmgdp_commercial_municipal_heat_energy', 'elasticity_agrc_nuts_demand_to_income', 'frac_inen_energy_recycled_rubber_and_leather_solar', 'frac_inen_energy_rubber_and_leather_coke', 'regressionm_agrc_above_ground_residue_pulses_kg_per_ha', 'frac_waso_compost_sludge', 'ef_enfu_stationary_combustion_tonne_ch4_per_tj_fuel_ammonia', 'demscalar_trde_private_and_public', 'frac_inen_energy_lime_and_carbonite_kerosene', 'lndu_reallocation_factor', 'ef_lsmm_direct_management_composting_n2o_per_n', 'ef_trww_treated_secondary_anaerobic_g_n2o_per_g_n', 'efficfactor_enfu_industrial_energy_fuel_biomass', 'mcf_trww_untreated_no_sewerage', 'nemomod_entc_total_annual_max_capacity_investment_pp_hydropower_gw', 'ef_fgtv_production_fugitive_tonne_co2_per_m3_fuel_natural_gas', 'nemomod_enst_total_annual_max_capacity_investment_st_batteries_pj', 'avgload_trns_freight_tonne_per_vehicle_rail_freight', 'nemomod_entc_emissions_activity_ratio_scalar_pp_ocean_ch4', 'nemomod_entc_capital_cost_pp_ocean_mm_usd_per_gw', 'physparam_lvst_bo_buffalo_kg_ch4_kg_manure', 'nemomod_entc_emissions_activity_ratio_scalar_pp_coal_ch4', 'qty_lvst_daily_dry_matter_consumed_cattle_nondairy_kg', 'frac_inen_energy_agriculture_and_livestock_solar', 'ef_soil_ef1_n_organic_amerndments_fertilizer_n2o_dry_climate', 'ef_ippu_tonne_c4f6_per_tonne_production_electronics', 'frac_lvst_mm_mules_paddock_pasture_range', 'ef_ippu_tonne_c3h2f6_per_mmm_gdp_product_use_ods_refrigeration', 'frac_agrc_n_in_below_ground_residue_cereals', 'efficfactor_scoe_heat_energy_residential_diesel', 'nemomod_enst_frac_storage_charged_initial_st_compressed_air', 'scalar_inen_energy_demand_other_product_manufacturing', 'nemomod_entc_output_activity_ratio_fuel_production_fp_petroleum_refinement_gasoline', 'exports_enfu_pj_fuel_coal', 'vol_ippu_chemicals_m3_ww_per_tonne_production', 'fuelefficiency_trns_road_heavy_regional_gasoline_km_per_litre', 'nemomod_entc_output_activity_ratio_fuel_production_fp_petroleum_refinement_oil', 'qtyinit_soil_synthetic_fertilizer_kt', 'ef_lndu_conv_other_to_other_gg_co2_ha', 'efficfactor_enfu_industrial_energy_fuel_natural_gas', 'frac_inen_energy_recycled_rubber_and_leather_hydrogen', 'elasticity_lvst_goats_demand_to_gdppc', 'pij_lndu_other_to_grasslands', 'regressionm_agrc_above_ground_residue_tubers_kg_per_ha', 'frac_trns_mtkm_dem_freight_water_borne', 'frac_scoe_heat_energy_commercial_municipal_diesel', 'nemomod_entc_frac_min_share_production_pp_gas_ccs', 'elasticity_lvst_cattle_dairy_demand_to_gdppc', 'cost_enfu_fuel_kerosene_usd_per_m3', 'ef_ippu_tonne_cf4_per_tonne_production_metals', 'frac_wali_ww_domestic_urban_treatment_path_untreated_no_sewerage', 'ef_enfu_combustion_tonne_co2_per_tj_fuel_coal_deposits', 'frac_lvst_mm_chickens_poultry_manure', 'ratio_agrc_above_ground_residue_to_yield_cereals', 'frac_inen_energy_cement_coke', 'frac_waso_initial_composition_mun_other', 'efficfactor_entc_technology_fuel_use_pp_solar', 'nemomod_entc_renewable_energy_tag_pp_ocean', 'fuelefficiency_trns_road_heavy_freight_natural_gas_km_per_litre', 'ef_enfu_combustion_tonne_co2_per_tj_fuel_ammonia', 'efficfactor_ccsq_heat_energy_direct_air_capture_hydrogen', 'pij_lndu_settlements_to_forests_primary', 'frac_inen_energy_agriculture_and_livestock_diesel', 'physparam_waso_k_nappies', 'nemomod_entc_renewable_energy_tag_pp_geothermal', 'frac_inen_energy_recycled_glass_hydrocarbon_gas_liquids', 'frac_scoe_heat_energy_commercial_municipal_natural_gas', 'genfactor_lvst_daily_nitrogen_cattle_nondairy', 'cost_enfu_fuel_hydrocarbon_gas_liquids_usd_per_mmbtu', 'frac_agrc_n_in_above_ground_residue_cereals', 'frac_agrc_cereals_cl2_dry', 'frac_trns_fuelmix_public_biofuels', 'frac_lvst_mm_chickens_anaerobic_digester', 'qty_soil_organic_c_stock_dry_climate_tonne_per_ha', 'fuelefficiency_trns_road_heavy_regional_natural_gas_km_per_litre', 'ef_lndu_conv_croplands_to_croplands_gg_co2_ha', 'frac_scoe_heat_energy_residential_natural_gas', 'fuelefficiency_trns_road_heavy_freight_biofuels_km_per_litre', 'ef_trns_mobile_combustion_road_heavy_regional_kg_n2o_per_tj_hydrocarbon_gas_liquids', 'ef_soil_ef2_n_drained_managed_soils_n2o_tropical_crop_grass_kg_n2on_ha', 'frac_waso_compost_food', 'frac_inen_energy_paper_oil', 'physparam_waso_k_rubber_leather', 'gdp_mmm_usd', 'frac_enfu_fuel_demand_imported_pj_fuel_hydrocarbon_gas_liquids', 'frac_agrc_initial_area_cropland_nuts', 'nemomod_entc_emissions_activity_ratio_fuel_production_fp_petroleum_refinement_tonne_n2o_per_tj', 'frac_lvst_mm_goats_paddock_pasture_range', 'frac_inen_energy_glass_diesel', 'ratio_ippu_production_to_harvested_wood_demand_paper', 'pij_lndu_grasslands_to_croplands', 'efficfactor_scoe_heat_energy_commercial_municipal_electricity', 'qty_wali_m3_ww_domestic_urban_per_capita', 'elasticity_agrc_sugar_cane_demand_to_income', 'frac_agrc_tubers_cl1_temperate', 'nemomod_entc_total_annual_min_capacity_pp_oil_gw', 'efficfactor_enfu_industrial_energy_fuel_gasoline', 'frac_inen_energy_recycled_textiles_solar', 'nemomod_entc_total_annual_max_capacity_pp_nuclear_gw', 'frac_trww_tow_removed_treated_secondary_aerobic', 'nemomod_entc_emissions_activity_ratio_scalar_pp_oil_ch4', 'nemomod_entc_emissions_activity_ratio_fuel_production_fp_natural_gas_tonne_n2o_per_tj', 'ef_trns_mobile_combustion_public_kg_ch4_per_tj_hydrocarbon_gas_liquids', 'nemomod_entc_variable_cost_pp_gas_ccs_usd_per_mwh', 'frac_lvst_mm_sheep_paddock_pasture_range', 'ef_enfu_combustion_tonne_co2_per_tj_fuel_electricity', 'nemomod_enst_total_annual_max_capacity_st_flywheels_pj', 'ef_lndu_conv_grasslands_to_other_gg_co2_ha', 'scalar_scoe_appliance_energy_demand_other_se', 'climate_change_factor_gnrl_hydropower_availability', 'ef_soil_ef1_n_rice_fields_n2o', 'nemomod_entc_total_annual_max_capacity_investment_pp_nuclear_gw', 'yf_agrc_herbs_and_other_perennial_crops_tonne_ha', 'vol_ippu_recycled_metals_m3_ww_per_tonne_production', 'nemomod_entc_renewable_energy_tag_pp_solar', 'frac_frst_annual_wildfire_fraction_primary', 'qty_frst_biomass_consumed_by_fire_temperate_mangroves_tonne_per_ha', 'ef_ippu_tonne_chf2cf3_per_mmm_gdp_product_use_ods_other', 'frac_agrc_crop_demand_imported_cereals', 'ef_trww_treated_septic_g_n2o_per_g_n', 'frac_lvst_mm_goats_daily_spread', 'nemomod_entc_variable_cost_pp_wind_usd_per_mwh', 'frac_lvst_mm_cattle_dairy_daily_spread', 'frac_inen_energy_recycled_wood_natural_gas', 'frac_ippu_production_with_co2_capture_chemicals', 'avgmass_lvst_animal_cattle_dairy_kg', 'ef_enfu_stationary_combustion_tonne_ch4_per_tj_fuel_furnace_gas', 'frac_inen_energy_paper_solar', 'nemomod_entc_emissions_activity_ratio_scalar_pp_ocean_n2o', 'nemomod_entc_output_activity_ratio_fuel_production_fp_petroleum_refinement_kerosene', 'prodinit_ippu_textiles_tonne', 'frac_lndu_initial_wetlands', 'ef_ippu_tonne_nf3_per_tonne_production_electronics', 'scalar_scoe_heat_energy_demand_residential', 'frac_trww_tow_removed_treated_primary', 'frac_lsmm_manure_to_fertilizer_dry_lot', 'yf_agrc_vegetables_and_vines_tonne_ha', 'ef_trns_mobile_combustion_road_heavy_freight_kg_ch4_per_tj_hydrocarbon_gas_liquids', 'frac_trww_n_removed_treated_secondary_anaerobic', 'nemomod_enst_total_annual_min_capacity_st_pumped_hydro_pj', 'nemomod_entc_variable_cost_pp_coal_ccs_usd_per_mwh', 'frac_agrc_rice_cl2_wet', 'exports_agrc_fibers_tonne', 'frac_inen_energy_chemicals_oil', 'pij_lndu_settlements_to_settlements', 'ef_lndu_conv_forests_secondary_to_forests_secondary_gg_co2_ha', 'ef_lndu_conv_forests_mangroves_to_settlements_gg_co2_ha', 'elecfuelefficiency_trns_road_light_km_per_kwh', 'frac_inen_energy_glass_coke', 'factor_waso_waste_per_capita_scalar_nappies', 'frac_waso_msw_incinerated_recovered_for_energy', 'frac_scoe_heat_energy_commercial_municipal_hydrogen', 'maxfrac_ippu_maximum_recylced_material_ratio_wood', 'frac_agrc_other_annual_cl1_temperate', 'gasrf_ippu_co2_capture_chemicals', 'elasticity_waso_msw_to_gdppc_glass', 'ef_ippu_tonne_ch3f_per_tonne_production_electronics', 'frac_trww_tow_removed_untreated_no_sewerage', 'exports_agrc_other_woody_perennial_tonne', 'frac_inen_energy_cement_solid_biomass', 'frac_entc_max_elec_production_increase_to_satisfy_msp_pp_coal_ccs', 'nemomod_entc_input_activity_ratio_fuel_production_fp_petroleum_refinement_crude', 'ef_soil_c_cultivated_organic_temperate_crop_grass_tonne_per_ha', 'frac_lvst_mm_horses_paddock_pasture_range', 'pop_lvst_initial_mules', 'scalar_scoe_appliance_energy_demand_commercial_municipal', 'frac_inen_energy_glass_hydrocarbon_gas_liquids', 'frac_lvst_mm_pigs_anaerobic_digester', 'frac_trns_fuelmix_rail_freight_natural_gas', 'frac_lvst_mm_pigs_dry_lot', 'elasticity_waso_msw_to_gdppc_wood', 'frac_wali_ww_industrial_treatment_path_untreated_no_sewerage', 'ef_enfu_stationary_combustion_tonne_ch4_per_tj_fuel_other', 'nemomod_entc_total_annual_max_capacity_investment_pp_wind_gw', 'frac_lvst_livestock_demand_imported_cattle_dairy', 'ef_trns_mobile_combustion_public_kg_n2o_per_tj_diesel', 'mcf_waso_average_open_dump', 'energydensity_enfu_mj_per_litre_fuel_coal', 'qty_lvst_daily_dry_matter_consumed_cattle_dairy_kg', 'frac_waso_recycled_glass', 'exports_agrc_herbs_and_other_perennial_crops_tonne', 'exports_lvst_horses', 'ef_trns_mobile_combustion_rail_freight_kg_ch4_per_tj_natural_gas', 'exports_lvst_mules', 'scalar_inen_energy_demand_recycled_plastic', 'ef_enfu_stationary_combustion_tonne_n2o_per_tj_fuel_natural_gas_unprocessed', 'consumpinit_inen_energy_tj_per_tonne_production_chemicals', 'nemomod_entc_total_annual_max_capacity_pp_gas_ccs_gw', 'nemomod_entc_total_annual_max_capacity_investment_pp_biomass_gw', 'consumpinit_inen_energy_tj_per_tonne_production_textiles', 'nemomod_enst_total_annual_min_capacity_investment_st_compressed_air_pj', 'fuelefficiency_trns_aviation_hydrogen_km_per_litre', 'frac_inen_energy_chemicals_solid_biomass', 'elasticity_agrc_fruits_demand_to_income', 'historical_back_projection_growth_rate', 'nemomod_entc_reserve_margin_tag_technology_pp_geothermal', 'ef_soil_ef4_n_volatilisation_n2o_wet_climate', 'ef_enfu_stationary_combustion_tonne_n2o_per_tj_fuel_kerosene', 'frac_agrc_fibers_cl1_temperate', 'frac_inen_energy_rubber_and_leather_gasoline', 'prodinit_ippu_glass_tonne', 'ef_enfu_stationary_combustion_tonne_n2o_per_tj_fuel_biomass', 'qty_lvst_daily_dry_matter_consumed_mules_kg', 'frac_lvst_mm_horses_composting', 'frac_waso_initial_composition_mun_rubber_leather', 'fuelefficiency_trns_road_heavy_regional_hydrogen_km_per_litre', 'frac_inen_energy_wood_diesel', 'frac_lvst_mm_mules_anaerobic_lagoon', 'frac_trns_fuelmix_road_light_electricity', 'ef_lndu_conv_wetlands_to_settlements_gg_co2_ha', 'elasticity_trde_pkm_to_gdppc_regional', 'frac_inen_energy_textiles_coke', 'frac_scoe_heat_energy_other_se_hydrogen', 'ef_fgtv_production_flaring_tonne_co2_per_m3_fuel_oil', 'ef_enfu_stationary_combustion_tonne_ch4_per_tj_fuel_natural_gas_unprocessed', 'ef_frst_sequestration_secondary_kt_co2_ha', 'frac_agrc_initial_area_cropland_pulses', 'gasrf_waso_landfill_to_ch4', 'pij_lndu_forests_secondary_to_wetlands', 'nemomod_entc_capital_cost_pp_hydropower_mm_usd_per_gw', 'ef_lndu_conv_wetlands_to_forests_mangroves_gg_co2_ha', 'nemomod_entc_emissions_activity_ratio_scalar_pp_nuclear_ch4', 'frac_agrc_sugar_cane_cl1_tropical', 'vol_ippu_wood_m3_ww_per_tonne_production', 'nemomod_entc_input_activity_ratio_fuel_production_fp_hydrogen_gasification_biomass', 'frac_agrc_sugar_cane_cl2_dry', 'frac_lvst_mm_horses_daily_spread', 'nemomod_entc_input_activity_ratio_fuel_production_fp_hydrogen_electrolysis_electricity', 'prodinit_ippu_electronics_tonne', 'limit_gnrl_annual_emissions_mt_co2', 'frac_agrc_combustion_factor_cereals', 'ef_ippu_tonne_c4h5f5_per_mmm_gdp_product_use_ods_other', 'frac_frst_mangroves_cl1_tropical', 'ef_trns_mobile_combustion_road_heavy_freight_kg_ch4_per_tj_biofuels', 'ef_enfu_combustion_tonne_co2_per_tj_fuel_natural_gas_unprocessed', 'frac_wali_ww_domestic_rural_treatment_path_untreated_with_sewerage', 'consumpinit_scoe_tj_per_mmmgdp_other_se_heat_energy', 'elecfuelefficiency_trns_rail_passenger_km_per_kwh', 'nemomod_entc_total_annual_min_capacity_pp_biomass_gw', 'ef_frst_forestfires_secondary_co2', 'frac_inen_energy_textiles_solar', 'frac_inen_energy_recycled_paper_electricity', 'ef_lvst_entferm_buffalo_kg_ch4_head', 'frac_trww_p_removed_treated_secondary_anaerobic', 'frac_lvst_mm_cattle_nondairy_liquid_slurry', 'ef_lndu_conv_other_to_grasslands_gg_co2_ha', 'ef_ippu_tonne_chf2cf3_per_tonne_production_chemicals', 'ef_fgtv_production_fugitive_tonne_ch4_per_m3_fuel_natural_gas', 'frac_waso_initial_composition_ind_yard', 'regressionm_agrc_above_ground_residue_cereals_kg_per_ha', 'demscalar_ippu_lime_and_carbonite', 'factor_waso_waste_per_capita_scalar_plastic', 'exports_agrc_sugar_cane_tonne', 'frac_lndu_initial_forests_mangroves', 'nemomod_entc_total_annual_max_capacity_investment_pp_ocean_gw', 'frac_agrc_fruits_cl1_temperate', 'ef_ippu_tonne_c2f6_per_tonne_production_metals', 'ef_ippu_tonne_sf6_per_tonne_production_electronics', 'ef_lndu_conv_croplands_to_forests_mangroves_gg_co2_ha', 'frac_trns_fuelmix_water_borne_natural_gas', 'frac_lvst_mm_sheep_poultry_manure', 'frac_wali_ww_domestic_urban_treatment_path_latrine_improved', 'regressionb_agrc_above_ground_residue_tubers_kg_per_ha', 'nemomod_entc_residual_capacity_pp_coal_gw', 'ef_agrc_biomass_other_woody_perennial_tonne_co2_ha', 'frac_inen_energy_plastic_kerosene', 'frac_waso_initial_composition_mun_food', 'ef_soil_ef5_n_leaching_n2o', 'elasticity_ippu_wood_production_to_gdp', 'qty_ccsq_mt_co2_captured_sequestered_by_direct_air_capture', 'ef_trns_mobile_combustion_road_heavy_freight_kg_n2o_per_tj_diesel', 'frac_agrc_crop_demand_imported_tubers', 'frac_lvst_mm_cattle_dairy_solid_storage', 'nemomod_entc_input_activity_ratio_fuel_production_me_crude_electricity', 'ef_lndu_conv_forests_secondary_to_other_gg_co2_ha', 'cost_enfu_fuel_furnace_gas_usd_per_m3', 'frac_inen_energy_other_product_manufacturing_hydrocarbon_gas_liquids', 'pij_lndu_grasslands_to_other', 'frac_inen_energy_glass_furnace_gas', 'scalar_scoe_heat_energy_demand_other_se', 'frac_inen_energy_recycled_metals_oil', 'fuelefficiency_trns_water_borne_natural_gas_km_per_litre', 'mcf_lsmm_composting', 'factor_waso_waste_per_capita_scalar_textiles', 'nemomod_entc_emissions_activity_ratio_scalar_pp_coal_ccs_co2', 'frac_inen_energy_recycled_rubber_and_leather_electricity', 'fuelefficiency_trns_rail_passenger_hydrogen_km_per_litre', 'physparam_waso_k_metal', 'ef_ippu_tonne_n2o_per_mmm_gdp_other_product_manufacturing', 'frac_trns_fuelmix_road_heavy_regional_biofuels', 'frac_wali_ww_domestic_rural_treatment_path_primary', 'nemomod_entc_input_activity_ratio_fuel_production_me_natural_gas_gasoline', 'demscalar_ippu_chemicals', 'frac_inen_energy_chemicals_natural_gas', 'frac_inen_energy_wood_electricity', 'ef_waso_incineration_tonne_n2o_per_tonne_sludge', 'frac_inen_energy_metals_solid_biomass', 'ef_ippu_tonne_chf3_per_tonne_production_electronics', 'frac_waso_non_recycled_incinerated', 'mcf_lsmm_anaerobic_digester', 'ef_lndu_conv_croplands_to_settlements_gg_co2_ha', 'efficfactor_entc_technology_fuel_use_st_batteries', 'frac_inen_energy_agriculture_and_livestock_coke', 'frac_inen_energy_mining_coal', 'frac_agrc_initial_yield_feed_herbs_and_other_perennial_crops', 'nemomod_entc_total_annual_max_capacity_pp_biomass_gw', 'frac_inen_energy_plastic_diesel', 'nemomod_entc_residual_capacity_pp_gas_gw', 'frac_trns_pkm_dem_private_and_public_public', 'ef_lndu_conv_forests_mangroves_to_wetlands_gg_co2_ha', 'frac_trww_tow_removed_treated_latrine_improved', 'frac_inen_energy_plastic_electricity', 'elasticity_waso_msw_to_gdppc_nappies', 'frac_inen_energy_plastic_natural_gas', 'pij_lndu_forests_mangroves_to_wetlands', 'pij_lndu_croplands_to_forests_mangroves', 'consumpinit_inen_energy_tj_per_tonne_production_paper', 'frac_inen_energy_wood_furnace_gas', 'scalar_inen_energy_demand_recycled_wood', 'ef_frst_sequestration_primary_kt_co2_ha', 'frac_inen_energy_other_product_manufacturing_hydrogen', 'ef_trns_mobile_combustion_road_light_kg_ch4_per_tj_hydrocarbon_gas_liquids', 'frac_trns_fuelmix_public_gasoline', 'frac_inen_energy_agriculture_and_livestock_hydrogen', 'vol_ippu_recycled_rubber_and_leather_m3_ww_per_tonne_production', 'frac_agrc_initial_yield_feed_nuts', 'frac_waso_initial_composition_ind_metal', 'nemomod_entc_total_annual_min_capacity_pp_gas_gw', 'frac_trns_fuelmix_water_borne_electricity', 'ef_enfu_stationary_combustion_tonne_n2o_per_tj_fuel_hydrogen', 'frac_trns_fuelmix_road_light_gasoline', 'frac_inen_energy_recycled_textiles_solid_biomass', 'frac_trww_n_removed_treated_latrine_improved', 'cost_enfu_fuel_gasoline_usd_per_m3', 'pij_lndu_other_to_other', 'frac_soil_synthetic_fertilizer_urea', 'frac_trns_pkm_dem_private_and_public_powered_bikes', 'ef_trns_mobile_combustion_road_light_kg_n2o_per_tj_hydrocarbon_gas_liquids', 'cost_enfu_fuel_biomass_usd_per_tonne', 'elasticity_ippu_paper_production_to_gdp', 'nemomod_entc_emissions_activity_ratio_scalar_pp_geothermal_ch4', 'pij_lndu_forests_primary_to_forests_secondary', 'nemomod_entc_output_activity_ratio_fuel_production_fp_natural_gas_natural_gas', 'frac_agrc_tubers_cl2_dry', 'frac_lndu_settlements_cl2_dry', 'frac_lvst_mm_cattle_dairy_composting', 'frac_inen_energy_textiles_coal', 'ef_enfu_stationary_combustion_tonne_ch4_per_tj_fuel_gasoline', 'qtyinit_soil_liming_dolomite_applied_to_soils_kt', 'consumpinit_inen_energy_tj_per_tonne_production_glass', 'frac_trns_fuelmix_road_heavy_regional_hydrogen', 'pop_lvst_initial_pigs', 'frac_scoe_heat_energy_commercial_municipal_solid_biomass', 'vol_ippu_textiles_m3_ww_per_tonne_production', 'ef_trww_treated_advanced_anaerobic_g_n2o_per_g_n', 'ef_enfu_combustion_tonne_co2_per_tj_fuel_hydrocarbon_gas_liquids', 'nemomod_enst_total_annual_max_capacity_investment_st_pumped_hydro_pj', 'frac_lvst_mm_buffalo_deep_bedding', 'fuelefficiency_trns_water_borne_diesel_km_per_litre', 'ef_trns_mobile_combustion_road_heavy_freight_kg_n2o_per_tj_natural_gas', 'pij_lndu_other_to_croplands', 'frac_inen_energy_paper_coke', 'nemomod_entc_frac_min_share_production_fp_hydrogen_reformation', 'vol_ippu_electronics_m3_ww_per_tonne_production', 'ef_enfu_combustion_tonne_co2_per_tj_fuel_waste', 'frac_inen_energy_wood_gasoline', 'frac_trww_tow_removed_treated_advanced_anaerobic', 'frac_inen_energy_paper_kerosene', 'nemomod_entc_variable_cost_st_batteries_usd_per_mwh', 'frac_entc_max_elec_production_increase_to_satisfy_msp_pp_gas', 'ef_enfu_stationary_combustion_tonne_n2o_per_tj_fuel_geothermal', 'genfactor_lvst_daily_volatile_solids_cattle_dairy', 'avgmass_lvst_animal_mules_kg', 'ef_waso_compost_kg_ch4_per_kg_yard', 'efficfactor_scoe_heat_energy_other_se_hydrogen', 'frac_agrc_nuts_cl1_temperate', 'prodinit_ippu_paper_tonne', 'frac_wali_protein_in_diet_without_red_meat', 'frac_inen_energy_recycled_wood_furnace_gas', 'limit_gnrl_annual_emissions_mt_ch4', 'frac_lsmm_manure_to_fertilizer_deep_bedding', 'demscalar_ippu_product_use_ods_refrigeration', 'frac_trww_p_removed_untreated_with_sewerage', 'nemomod_entc_total_annual_min_capacity_investment_pp_nuclear_gw', 'occrateinit_gnrl_occupancy', 'elasticity_scoe_enerdem_per_hh_residential_heat_energy_to_gdppc', 'frac_inen_energy_mining_coke', 'ef_ippu_tonne_cf4_per_tonne_production_chemicals', 'nemomod_entc_residual_capacity_pp_hydropower_gw', 'consumpinit_inen_energy_tj_per_tonne_production_metals', 'frac_inen_energy_recycled_plastic_coal', 'prodinit_ippu_chemicals_tonne', 'genfactor_lvst_daily_nitrogen_chickens', 'ef_ippu_tonne_ch2f2_per_mmm_gdp_product_use_ods_refrigeration', 'ef_waso_compost_kg_ch4_per_kg_sludge', 'occrate_trns_passenger_per_vehicle_aviation', 'frac_enfu_fuel_demand_imported_pj_fuel_hydrogen', 'nemomod_entc_variable_cost_pp_hydropower_usd_per_mwh', 'frac_inen_energy_glass_kerosene', 'frac_lvst_mm_pigs_solid_storage', 'frac_inen_energy_rubber_and_leather_natural_gas', 'ef_ippu_tonne_ch3chf2_per_tonne_production_chemicals', 'frac_inen_energy_recycled_paper_coal', 'ef_fgtv_distribution_tonne_co2_per_m3_fuel_natural_gas', 'frac_inen_energy_electronics_diesel', 'nemomod_enst_total_annual_max_capacity_st_compressed_air_pj', 'ratio_lsmm_n2_to_n2o', 'frac_agrc_initial_yield_feed_pulses', 'physparam_wali_tow_dom_generation_correction_factor', 'nemomod_entc_frac_min_share_production_pp_nuclear', 'frac_lvst_mm_chickens_solid_storage', 'frac_agrc_other_annual_cl2_dry', 'nemomod_entc_frac_min_share_production_pp_oil', 'frac_inen_energy_mining_furnace_gas', 'frac_lsmm_n_loss_volatilisation_deep_bedding', 'efficfactor_enfu_industrial_energy_fuel_electricity', 'frac_trww_p_removed_treated_latrine_unimproved', 'frac_agrc_crop_residues_removed', 'efficfactor_entc_technology_fuel_use_pp_gas', 'nemomod_enst_total_annual_min_capacity_investment_st_batteries_pj', 'frac_agrc_dry_matter_of_harvest_pulses', 'ef_ippu_tonne_ch4_per_tonne_production_metals', 'frac_agrc_herbs_and_other_perennial_crops_cl1_temperate', 'frac_frst_annual_wildfire_fraction_secondary', 'ef_enfu_stationary_combustion_tonne_ch4_per_tj_fuel_coal', 'nemomod_entc_emissions_activity_ratio_fuel_production_fp_hydrogen_gasification_tonne_co2_per_tj', 'frac_inen_energy_lime_and_carbonite_natural_gas', 'nemomod_entc_emissions_activity_ratio_scalar_pp_ocean_co2', 'ef_enfu_stationary_combustion_tonne_n2o_per_tj_fuel_hydrocarbon_gas_liquids', 'frac_agrc_n_in_above_ground_residue_tubers', 'elasticity_scoe_enerdem_per_mmmgdp_commercial_municipal_heat_energy_to_gdppc', 'ef_trns_mobile_combustion_public_kg_n2o_per_tj_gasoline', 'frac_entc_max_elec_production_increase_to_satisfy_msp_pp_oil', 'ef_ippu_tonne_c5f8_per_tonne_production_electronics', 'ef_lndu_conv_forests_secondary_to_settlements_gg_co2_ha', 'frac_inen_energy_recycled_metals_furnace_gas', 'scalar_inen_energy_demand_electronics', 'pij_lndu_other_to_settlements', 'frac_lvst_mm_pigs_anaerobic_lagoon', 'efficfactor_entc_technology_fuel_use_pp_wind', 'frac_waso_initial_composition_mun_sludge', 'ef_ippu_tonne_c2hf5_per_mmm_gdp_product_use_ods_refrigeration', 'qty_soil_organic_c_stock_temperate_crop_grass_tonne_per_ha', 'frac_inen_energy_metals_coke', 'scalar_inen_energy_demand_metals', 'ef_soil_ef2_n_drained_managed_soils_n2o_temperate_forest_nutrient_poor_kg_n2on_ha', 'elasticity_ippu_mining_production_to_gdp', 'prodinit_ippu_rubber_and_leather_tonne', 'demscalar_ippu_metals', 'ef_enfu_stationary_combustion_tonne_n2o_per_tj_fuel_coal', 'frac_inen_energy_recycled_rubber_and_leather_coal', 'pij_lndu_wetlands_to_other', 'frac_agrc_no_till_fibers', 'frac_agrc_other_woody_perennial_cl2_wet', 'frac_inen_energy_recycled_glass_electricity', 'energydensity_enfu_mj_per_litre_fuel_oil', 'energydensity_enfu_mj_per_litre_fuel_biogas', 'nemomod_entc_grid_power_constraint_mmm_usd', 'hl_frst_half_life_hwp_paper_products', 'nemomod_entc_fixed_cost_fp_ammonia_production_mm_usd_per_gw', 'demscalar_soil_fertilizer_n_per_area', 'consumpinit_scoe_gj_per_hh_residential_elec_appliances', 'frac_scoe_heat_energy_other_se_gasoline', 'frac_inen_energy_recycled_glass_kerosene', 'factor_lndu_soil_carbon_settlements', 'elasticity_waso_msw_to_gdppc_other', 'frac_lvst_mm_cattle_dairy_anaerobic_lagoon', 'ef_enfu_combustion_tonne_co2_per_tj_fuel_diesel', 'genfactor_lvst_daily_nitrogen_sheep', 'factor_waso_waste_per_capita_scalar_rubber_leather', 'genfactor_lvst_daily_volatile_solids_sheep', 'consumpinit_inen_energy_tj_per_tonne_production_recycled_metals', 'ef_trww_treated_secondary_aerobic_g_n2o_per_g_n', 'frac_agrc_crop_demand_imported_fibers', 'frac_lvst_mm_cattle_nondairy_anaerobic_digester', 'qty_ippu_lime_and_carbonite_tonne_cod_per_m3_ww', 'qty_lvst_daily_dry_matter_consumed_goats_kg', 'frac_trns_fuelmix_road_light_biofuels', 'pij_lndu_forests_primary_to_croplands', 'frac_trns_fuelmix_road_light_hydrocarbon_gas_liquids', 'nemomod_enst_capital_cost_st_pumped_hydro_usd_per_kwh', 'frac_inen_energy_rubber_and_leather_coal', 'vol_ippu_cement_m3_ww_per_tonne_production', 'frac_inen_energy_glass_electricity', 'frac_inen_energy_plastic_oil', 'frac_lsmm_n_loss_leaching_dry_lot', 'frac_lndu_initial_settlements', 'nemomod_entc_reserve_margin_tag_technology_pp_coal_ccs', 'nemomod_enst_total_annual_max_capacity_st_batteries_pj', 'qty_ippu_cement_tonne_cod_per_m3_ww', 'frac_inen_energy_metals_gasoline', 'ef_fgtv_production_venting_tonne_co2_per_m3_fuel_oil', 'frac_wali_ww_industrial_treatment_path_latrine_unimproved', 'frac_inen_energy_metals_diesel', 'nemomod_entc_total_annual_min_capacity_investment_pp_waste_incineration_gw', 'frac_scoe_heat_energy_other_se_diesel', 'elasticity_ippu_product_use_lubricants_product_use_rate_to_gdppc', 'frac_lndu_soil_mineral_croplands', 'nemomod_entc_output_activity_ratio_fuel_production_fp_petroleum_refinement_diesel', 'ef_trns_mobile_combustion_road_light_kg_ch4_per_tj_biofuels', 'energydensity_gravimetric_enfu_gj_per_tonne_fuel_water', 'frac_agrc_initial_area_cropland_fibers', 'frac_inen_energy_agriculture_and_livestock_kerosene', 'frac_inen_energy_recycled_paper_solid_biomass', 'consumpinit_inen_energy_tj_per_tonne_production_cement', 'frac_inen_energy_recycled_textiles_electricity', 'regressionm_agrc_above_ground_residue_other_annual_kg_per_ha', 'ef_fgtv_production_flaring_tonne_nmvoc_per_m3_fuel_oil', 'frac_agrc_herbs_and_other_perennial_crops_cl2_wet', 'gasrf_trww_biogas_treated_secondary_anaerobic', 'exports_agrc_tubers_tonne', 'frac_agrc_initial_yield_feed_sugar_cane', 'physparam_lvst_bo_goats_kg_ch4_kg_manure', 'frac_inen_energy_recycled_plastic_solar', 'frac_inen_energy_agriculture_and_livestock_hydrocarbon_gas_liquids', 'physparam_lvst_bo_mules_kg_ch4_kg_manure', 'frac_inen_energy_metals_oil', 'elasticity_waso_msw_to_gdppc_paper', 'energydensity_enfu_mj_per_litre_fuel_crude', 'nemomod_entc_input_activity_ratio_fuel_production_me_crude_natural_gas', 'pij_lndu_other_to_wetlands', 'frac_inen_energy_recycled_glass_solid_biomass', 'ef_ippu_tonne_chf3_per_mmm_gdp_product_use_ods_other', 'nemomod_entc_fixed_cost_fp_hydrogen_electrolysis_mm_usd_per_gw', 'ef_lndu_conv_other_to_forests_primary_gg_co2_ha', 'frac_enfu_fuel_demand_imported_pj_fuel_electricity', 'ef_enfu_stationary_combustion_tonne_ch4_per_tj_fuel_natural_gas', 'nemomod_entc_total_annual_min_capacity_pp_biogas_gw', 'exports_agrc_bevs_and_spices_tonne', 'efficfactor_scoe_heat_energy_residential_hydrogen', 'nemomod_entc_output_activity_ratio_fuel_production_fp_petroleum_refinement_hydrocarbon_gas_liquids', 'maxfrac_ippu_maximum_recylced_material_ratio_paper', 'vol_ippu_recycled_glass_m3_ww_per_tonne_production', 'ef_enfu_combustion_tonne_co2_per_tj_fuel_natural_gas', 'ef_trns_mobile_combustion_road_heavy_regional_kg_ch4_per_tj_biofuels', 'frac_trns_pkm_dem_private_and_public_human_powered', 'ef_fgtv_transmission_tonne_n2o_per_m3_fuel_oil', 'frac_lvst_mm_buffalo_liquid_slurry', 'nemomod_enst_frac_storage_charged_initial_st_pumped_hydro', 'frac_lvst_mm_cattle_nondairy_poultry_manure', 'efficfactor_scoe_heat_energy_residential_hydrocarbon_gas_liquids', 'frac_trns_fuelmix_road_heavy_freight_hydrogen', 'nemomod_entc_total_annual_max_capacity_pp_oil_gw', 'frac_fgtv_drained_and_waste_ch4_flared_fuel_coal', 'ef_soil_ef4_n_volatilisation_n2o_dry_climate', 'frac_inen_energy_recycled_paper_natural_gas', 'nemomod_entc_emissions_activity_ratio_scalar_pp_geothermal_co2', 'nemomod_entc_total_annual_min_capacity_investment_pp_solar_gw', 'nemomod_entc_frac_min_share_production_pp_coal_ccs', 'fuelefficiency_trns_rail_freight_hydrogen_km_per_litre', 'frac_waso_initial_composition_ind_glass', 'frac_inen_energy_recycled_wood_oil', 'frac_lvst_mm_buffalo_anaerobic_lagoon', 'ef_lndu_conv_settlements_to_forests_mangroves_gg_co2_ha', 'nemomod_entc_capital_cost_pp_biomass_mm_usd_per_gw', 'ef_enfu_combustion_tonne_co2_per_tj_fuel_oil', 'nemomod_entc_input_activity_ratio_fuel_production_fp_ammonia_production_hydrogen', 'regressionb_agrc_above_ground_residue_rice_kg_per_ha', 'efficfactor_ccsq_heat_energy_direct_air_capture_natural_gas', 'ef_trns_mobile_combustion_powered_bikes_kg_ch4_per_tj_gasoline', 'nemomod_entc_capital_cost_fp_ammonia_production_mm_usd_per_gw', 'physparam_lvst_bo_cattle_nondairy_kg_ch4_kg_manure', 'elasticity_ippu_metals_production_to_gdp', 'frac_lvst_mm_cattle_nondairy_incineration', 'nemomod_entc_renewable_energy_tag_pp_nuclear', 'frac_lsmm_n_loss_leaching_incineration', 'nemomod_entc_variable_cost_pp_geothermal_usd_per_mwh', 'nemomod_entc_variable_cost_pp_ocean_usd_per_mwh', 'nemomod_entc_frac_min_share_production_pp_biomass', 'ef_ippu_tonne_n2o_per_tonne_production_electronics', 'ef_lndu_conv_forests_secondary_to_wetlands_gg_co2_ha', 'nemomod_entc_variable_cost_pp_biomass_usd_per_mwh', 'physparam_lvst_bo_horses_kg_ch4_kg_manure', 'exports_agrc_vegetables_and_vines_tonne', 'frac_agrc_fibers_cl2_wet', 'frac_scoe_heat_energy_other_se_natural_gas', 'nemomod_entc_reserve_margin_tag_technology_st_compressed_air', 'ef_enfu_stationary_combustion_tonne_ch4_per_tj_fuel_wind', 'frac_lsmm_n_loss_leaching_liquid_slurry', 'ef_enfu_stationary_combustion_tonne_ch4_per_tj_fuel_coal_deposits', 'frac_lndu_grasslands_cl2_dry', 'factor_lndu_soil_management_supremum_croplands', 'frac_agrc_pulses_cl2_dry', 'ef_lsmm_direct_management_liquid_slurry_n2o_per_n', 'ef_lndu_conv_wetlands_to_forests_primary_gg_co2_ha', 'factor_lndu_soil_carbon_forests_secondary', 'frac_agrc_crop_demand_imported_fruits', 'nemomod_entc_input_activity_ratio_fuel_production_fp_hydrogen_reformation_ccs_natural_gas', 'frac_trns_fuelmix_rail_passenger_diesel', 'occrate_trns_passenger_per_vehicle_powered_bikes', 'pop_lvst_initial_chickens', 'frac_wali_ww_industrial_treatment_path_advanced_aerobic', 'frac_inen_energy_chemicals_electricity', 'frac_inen_energy_wood_oil', 'ef_lndu_conv_grasslands_to_settlements_gg_co2_ha', 'frac_inen_energy_recycled_rubber_and_leather_gasoline', 'ef_ippu_tonne_c5f12_per_tonne_production_chemicals', 'nemomod_entc_emissions_activity_ratio_scalar_pp_wind_ch4', 'frac_trns_fuelmix_road_heavy_regional_natural_gas', 'efficfactor_enfu_industrial_energy_fuel_hydrocarbon_gas_liquids', 'scalar_inen_energy_demand_recycled_paper', 'genfactor_lvst_daily_volatile_solids_pigs', 'pij_lndu_wetlands_to_settlements', 'frac_agrc_nuts_cl1_tropical', 'frac_inen_energy_paper_coal', 'nemomod_entc_fixed_cost_pp_coal_ccs_mm_usd_per_gw', 'qty_lvst_daily_dry_matter_consumed_sheep_kg', 'elasticity_agrc_herbs_and_other_perennial_crops_demand_to_income', 'qty_ippu_plastic_tonne_cod_per_m3_ww', 'frac_agrc_initial_area_cropland_fruits', 'frac_agrc_cereals_cl2_wet', 'ef_fgtv_production_fugitive_tonne_nmvoc_per_m3_fuel_natural_gas', 'ef_ippu_tonne_c2f6_per_mmm_gdp_product_use_ods_other', 'ef_ippu_tonne_nf3_per_tonne_production_chemicals', 'fuelefficiency_trns_road_heavy_freight_gasoline_km_per_litre', 'frac_lsmm_n_loss_volatilisation_paddock_pasture_range', 'qty_wali_m3_ww_domestic_rural_per_capita', 'nemomod_entc_total_annual_max_capacity_pp_coal_ccs_gw', 'prodinit_ippu_wood_tonne', 'nemomod_entc_total_annual_max_capacity_investment_pp_coal_ccs_gw', 'frac_inen_energy_recycled_metals_kerosene', 'frac_trww_p_removed_treated_secondary_aerobic', 'ef_lndu_conv_forests_secondary_to_croplands_gg_co2_ha', 'param_wali_n_hh_scalar', 'ratio_ippu_production_to_harvested_wood_demand_wood', 'yf_agrc_tubers_tonne_ha', 'fuelefficiency_trns_public_hydrogen_km_per_litre', 'frac_inen_energy_wood_coal', 'qty_ippu_recycled_metals_tonne_cod_per_m3_ww', 'ef_enfu_combustion_tonne_co2_per_tj_fuel_gasoline', 'efficfactor_entc_technology_fuel_use_pp_oil', 'pij_lndu_croplands_to_forests_primary', 'frac_trns_fuelmix_public_diesel', 'prodinit_ippu_recycled_paper_tonne', 'nemomod_entc_input_activity_ratio_fuel_production_fp_natural_gas_electricity', 'ef_enfu_stationary_combustion_tonne_n2o_per_tj_fuel_coke', 'frac_entc_max_elec_production_increase_to_satisfy_msp_pp_gas_ccs', 'ef_trns_mobile_combustion_public_kg_n2o_per_tj_natural_gas', 'elasticity_ippu_chemicals_production_to_gdp', 'frac_agrc_initial_area_cropland_bevs_and_spices', 'frac_inen_energy_chemicals_hydrocarbon_gas_liquids', 'genfactor_lvst_daily_nitrogen_pigs', 'energydensity_enfu_mj_per_litre_fuel_biofuels', 'ef_ippu_tonne_c3hf7_per_mmm_gdp_product_use_ods_other', 'ef_fgtv_production_venting_tonne_ch4_per_m3_fuel_oil', 'frac_waso_initial_composition_mun_yard', 'frac_wali_ww_domestic_rural_treatment_path_advanced_aerobic', 'frac_lsmm_n_loss_leaching_anaerobic_digester', 'elasticity_ippu_cement_production_to_gdp', 'ef_lndu_conv_forests_primary_to_croplands_gg_co2_ha', 'frac_ccsq_energydem_direct_air_capture_heat', 'pij_lndu_croplands_to_other', 'frac_lsmm_n_loss_volatilisation_poultry_manure', 'nemomod_entc_input_activity_ratio_fuel_production_me_coal_gasoline', 'pij_lndu_forests_secondary_to_forests_primary', 'frac_agrc_combustion_factor_rice', 'mcf_lsmm_storage_solid', 'ef_ippu_tonne_c3h3f5_per_mmm_gdp_product_use_ods_refrigeration', 'frac_wali_ww_industrial_treatment_path_advanced_anaerobic', 'frac_lvst_mm_sheep_solid_storage', 'frac_lvst_mm_goats_poultry_manure', 'frac_lvst_mm_cattle_dairy_deep_bedding', 'exports_lvst_pigs', 'demscalar_ippu_other_product_manufacturing', 'frac_inen_energy_lime_and_carbonite_coke', 'nemomod_entc_total_annual_max_capacity_pp_ocean_gw', 'ef_ippu_tonne_ch3chf2_per_mmm_gdp_product_use_ods_refrigeration', 'frac_trns_fuelmix_water_borne_diesel', 'qty_lvst_daily_dry_matter_consumed_buffalo_kg', 'ef_fgtv_transmission_tonne_nmvoc_per_m3_fuel_oil', 'nemomod_entc_input_activity_ratio_fuel_production_me_natural_gas_oil', 'frac_inen_energy_recycled_textiles_diesel', 'frac_lvst_mm_goats_deep_bedding', 'frac_trww_n_removed_treated_septic', 'ef_fgtv_production_venting_tonne_ch4_per_m3_fuel_coal', 'frac_lvst_livestock_demand_imported_cattle_nondairy', 'ef_trww_treated_primary_g_n2o_per_g_n', 'frac_wali_ww_domestic_urban_treatment_path_septic', 'nemomod_entc_variable_cost_st_flywheels_usd_per_mwh', 'fuelefficiency_trns_public_diesel_km_per_litre', 'frac_wali_ww_industrial_treatment_path_secondary_anaerobic', 'frac_lndu_other_cl2_dry', 'ef_ippu_tonne_co2_per_tonne_product_use_product_use_lubricants', 'ef_ippu_tonne_cf4_per_tonne_production_electronics', 'nemomod_entc_emissions_activity_ratio_scalar_pp_nuclear_n2o', 'nemomod_entc_emissions_activity_ratio_scalar_pp_waste_incineration_n2o', 'ef_waso_incineration_tonne_n2o_per_tonne_textiles', 'exports_lvst_chickens', 'frac_lvst_n_in_dung', 'ef_lsmm_direct_management_storage_solid_n2o_per_n', 'frac_inen_energy_recycled_rubber_and_leather_oil', 'frac_trww_n_removed_untreated_with_sewerage', 'ef_trns_mobile_combustion_road_heavy_freight_kg_ch4_per_tj_diesel', 'nemomod_entc_reserve_margin_tag_technology_pp_ocean', 'frac_lvst_mm_horses_dry_lot', 'nemomod_entc_emissions_activity_ratio_scalar_pp_biomass_ch4', 'frac_agrc_dry_matter_of_harvest_rice', 'nemomod_enst_total_annual_max_capacity_investment_st_flywheels_pj', 'ef_fgtv_production_flaring_tonne_ch4_per_m3_fuel_oil', 'qty_ippu_paper_tonne_cod_per_m3_ww', 'frac_agrc_vegetables_and_vines_cl1_temperate', 'factor_waso_waste_per_capita_scalar_other', 'avgload_trns_freight_tonne_per_vehicle_road_heavy_freight', 'frac_inen_energy_plastic_hydrocarbon_gas_liquids', 'frac_inen_energy_glass_coal', 'vol_ippu_paper_m3_ww_per_tonne_production', 'nemomod_entc_emissions_activity_ratio_fuel_production_fp_natural_gas_tonne_ch4_per_tj', 'efficfactor_entc_technology_fuel_use_st_pumped_hydro', 'energy_intensity_ccsq_direct_air_capture_gj_per_tonne_co2', 'frac_lvst_mm_pigs_daily_spread', 'nemomod_entc_total_annual_max_capacity_investment_pp_coal_gw', 'pop_lvst_initial_horses', 'nemomod_entc_reserve_margin_tag_technology_pp_wind', 'frac_inen_energy_recycled_rubber_and_leather_furnace_gas', 'frac_lndu_initial_other', 'frac_trns_pkm_dem_private_and_public_water_borne', 'exports_lvst_cattle_dairy', 'frac_lndu_improved_grasslands', 'nemomod_entc_emissions_activity_ratio_scalar_pp_coal_ccs_ch4', 'ef_enfu_stationary_combustion_tonne_n2o_per_tj_fuel_wind', 'ef_lndu_conv_settlements_to_forests_primary_gg_co2_ha', 'ef_ippu_tonne_chf3_per_tonne_production_chemicals', 'gasrf_waso_biogas', 'frac_trns_fuelmix_public_natural_gas', 'fuelefficiency_trns_rail_passenger_natural_gas_km_per_litre', 'physparam_wali_daily_kg_bod_per_capita', 'ef_fgtv_transmission_tonne_co2_per_m3_fuel_oil', 'ef_ippu_tonne_sf6_per_mmm_gdp_other_product_manufacturing', 'frac_agrc_herbs_and_other_perennial_crops_cl2_dry', 'ef_enfu_stationary_combustion_tonne_ch4_per_tj_fuel_coke', 'ef_ippu_tonne_chf3_per_mmm_gdp_product_use_ods_refrigeration', 'frac_trww_tow_removed_treated_latrine_unimproved', 'nemomod_entc_capital_cost_fp_hydrogen_gasification_mm_usd_per_gw', 'frac_agrc_no_till_cereals', 'ratio_agrc_above_ground_residue_to_yield_other_annual', 'energydensity_gravimetric_enfu_gj_per_tonne_fuel_hydrogen', 'efficfactor_entc_technology_fuel_use_pp_geothermal', 'exports_lvst_sheep', 'frac_waso_biogas_yard', 'cost_enfu_fuel_oil_usd_per_m3', 'ef_trns_mobile_combustion_water_borne_kg_n2o_per_tj_ammonia', 'frac_inen_energy_lime_and_carbonite_hydrogen', 'energydensity_gravimetric_enfu_gj_per_tonne_fuel_nuclear', 'frac_lvst_mm_sheep_incineration', 'nemomod_entc_total_annual_min_capacity_pp_coal_ccs_gw', 'frac_trns_pkm_dem_private_and_public_road_light', 'frac_inen_energy_metals_kerosene', 'frac_agrc_n_in_above_ground_residue_pulses', 'nemomod_enst_residual_capacity_st_flywheels_gwh', 'frac_lvst_mm_chickens_paddock_pasture_range', 'nemomod_enst_capital_cost_st_compressed_air_usd_per_kwh', 'ef_lndu_conv_settlements_to_grasslands_gg_co2_ha', 'qty_waso_industrial_waste_kt_per_mmm_gdp', 'nemomod_entc_variable_cost_pp_gas_usd_per_mwh', 'elasticity_lvst_cattle_nondairy_demand_to_gdppc', 'demscalar_ippu_construction_and_demolition', 'ef_waso_incineration_kg_ch4_per_kg_msw', 'frac_lvst_mm_buffalo_anaerobic_digester', 'ef_fgtv_distribution_tonne_ch4_per_m3_fuel_natural_gas', 'ef_trns_mobile_combustion_public_kg_ch4_per_tj_natural_gas', 'frac_inen_energy_recycled_textiles_gasoline', 'pij_lndu_forests_secondary_to_forests_mangroves', 'ef_fgtv_production_flaring_tonne_co2_per_m3_fuel_natural_gas', 'ef_trns_mobile_combustion_road_heavy_regional_kg_ch4_per_tj_diesel', 'ef_enfu_combustion_tonne_co2_per_tj_fuel_geothermal', 'genfactor_lvst_daily_volatile_solids_mules', 'frac_lvst_livestock_demand_imported_sheep', 'frac_inen_energy_chemicals_furnace_gas', 'frac_inen_energy_chemicals_solar', 'energydensity_gravimetric_enfu_gj_per_tonne_fuel_biomass', 'nemomod_entc_reserve_margin_tag_technology_st_pumped_hydro', 'pij_lndu_wetlands_to_wetlands', 'avgmass_lvst_animal_chickens_kg', 'nemomod_entc_emissions_activity_ratio_scalar_pp_biomass_co2', 'limit_gnrl_annual_emissions_mt_n2o', 'pij_lndu_forests_mangroves_to_forests_primary', 'ef_ippu_tonne_c6f14_per_tonne_production_chemicals', 'frac_inen_energy_recycled_paper_coke', 'frac_agrc_nuts_cl2_wet', 'frac_inen_energy_recycled_wood_solar', 'frac_frst_primary_cl1_temperate_nutrient_poor', 'frac_lndu_increasing_net_imports_met_grasslands', 'frac_agrc_initial_yield_feed_rice', 'frac_lvst_livestock_demand_imported_chickens', 'ef_enfu_combustion_tonne_co2_per_tj_fuel_nuclear', 'frac_waso_recycled_plastic', 'exports_agrc_pulses_tonne', 'frac_agrc_combustion_factor_tubers', 'useinit_ippu_product_use_paraffin_wax_kt', 'frac_lndu_increasing_net_exports_met_croplands', 'scalar_inen_energy_demand_recycled_rubber_and_leather', 'frac_lvst_mm_cattle_nondairy_solid_storage', 'frac_inen_energy_recycled_metals_solar', 'frac_lvst_mm_buffalo_poultry_manure', 'frac_lvst_mm_cattle_nondairy_anaerobic_lagoon', 'frac_inen_energy_mining_electricity', 'frac_trns_fuelmix_rail_freight_hydrogen', 'ef_lndu_conv_wetlands_to_other_gg_co2_ha', 'qty_ippu_recycled_textiles_tonne_cod_per_m3_ww', 'ef_enfu_combustion_tonne_co2_per_tj_fuel_kerosene', 'ef_lndu_conv_other_to_wetlands_gg_co2_ha', 'efficfactor_entc_technology_fuel_use_st_compressed_air', 'pij_lndu_settlements_to_forests_mangroves', 'frac_inen_energy_chemicals_kerosene', 'nemomod_entc_emissions_activity_ratio_fuel_production_fp_hydrogen_reformation_ccs_tonne_co2_per_tj', 'vol_ippu_lime_and_carbonite_m3_ww_per_tonne_production', 'elecfuelefficiency_trns_road_heavy_freight_km_per_kwh', 'frac_lndu_receiving_fertilizer_grasslands', 'fuelefficiency_trns_rail_freight_natural_gas_km_per_litre', 'frac_lsmm_manure_to_fertilizer_storage_solid', 'fuelefficiency_trns_road_heavy_regional_diesel_km_per_litre', 'regressionb_agrc_above_ground_residue_pulses_kg_per_ha', 'ef_lndu_conv_settlements_to_other_gg_co2_ha', 'frac_lsmm_n_loss_volatilisation_composting', 'ef_lndu_conv_grasslands_to_croplands_gg_co2_ha', 'yf_agrc_other_annual_tonne_ha', 'nemomod_entc_output_activity_ratio_fuel_production_fp_hydrogen_reformation_ccs_hydrogen', 'frac_inen_energy_mining_natural_gas', 'frac_lvst_mm_mules_liquid_slurry', 'frac_lndu_initial_forests_secondary', 'ef_enfu_stationary_combustion_tonne_n2o_per_tj_fuel_biofuels', 'elasticity_scoe_enerdem_per_mmmgdp_commercial_municipal_elec_appliances_to_gdppc', 'frac_inen_energy_other_product_manufacturing_coke', 'frac_inen_energy_recycled_wood_coal', 'nemomod_entc_renewable_energy_tag_pp_gas_ccs', 'pij_lndu_forests_mangroves_to_grasslands', 'qty_lsmm_nitrogen_in_bedding_kg_per_head_deep_bedding', 'ef_fgtv_transmission_tonne_co2_per_m3_fuel_natural_gas', 'pop_lvst_initial_sheep', 'nemomod_entc_input_activity_ratio_fuel_production_fp_ammonia_production_electricity', 'frac_waso_initial_composition_mun_wood', 'consumpinit_inen_energy_tj_per_tonne_production_lime_and_carbonite', 'physparam_lvst_bo_pigs_kg_ch4_kg_manure', 'frac_inen_energy_agriculture_and_livestock_furnace_gas', 'demscalar_ippu_glass', 'ef_waso_incineration_tonne_n2o_per_tonne_other', 'elasticity_agrc_other_annual_demand_to_income', 'exports_enfu_pj_fuel_natural_gas', 'timespan_ippu_average_lifetime_of_housing', 'frac_agrc_nuts_cl2_dry', 'demscalar_ippu_textiles', 'frac_waso_recycled_metal', 'efficfactor_scoe_heat_energy_commercial_municipal_solid_biomass', 'frac_agrc_initial_area_cropland_tubers', 'frac_trns_fuelmix_road_light_hydrogen', 'frac_lvst_mm_chickens_daily_spread', 'scalar_inen_energy_demand_recycled_glass', 'maxfrac_ippu_maximum_recylced_material_ratio_plastic', 'efficfactor_enfu_industrial_energy_fuel_diesel', 'physparam_lvst_bo_sheep_kg_ch4_kg_manure', 'frac_inen_energy_lime_and_carbonite_coal', 'frac_lsmm_n_loss_volatilisation_daily_spread', 'nemomod_entc_total_annual_min_capacity_pp_ocean_gw', 'physparam_krem_sludge_factor_treated_secondary_aerobic', 'pij_lndu_forests_primary_to_grasslands', 'ef_lndu_conv_forests_primary_to_settlements_gg_co2_ha', 'ef_ippu_tonne_c2hf5_per_tonne_production_chemicals', 'pij_lndu_wetlands_to_grasslands', 'ef_waso_compost_kg_n2o_per_kg_yard', 'frac_agrc_n_in_below_ground_residue_rice', 'ef_enfu_stationary_combustion_tonne_n2o_per_tj_fuel_gasoline', 'pij_lndu_forests_primary_to_forests_primary', 'frac_lvst_mm_buffalo_paddock_pasture_range', 'frac_inen_energy_lime_and_carbonite_hydrocarbon_gas_liquids', 'ef_enfu_stationary_combustion_tonne_n2o_per_tj_fuel_ocean', 'frac_agrc_fibers_cl1_tropical', 'nemomod_entc_residual_capacity_pp_biomass_gw', 'ef_enfu_stationary_combustion_tonne_n2o_per_tj_fuel_crude', 'ef_ippu_tonne_n2o_per_tonne_production_chemicals', 'elasticity_waso_msw_to_gdppc_plastic', 'ef_lsmm_direct_management_deep_bedding_n2o_per_n', 'ef_waso_incineration_tonne_n2o_per_tonne_rubber_leather', 'gasrf_trww_biogas_treated_advanced_aerobic', 'frac_inen_energy_recycled_textiles_furnace_gas', 'frac_lvst_mm_chickens_anaerobic_lagoon', 'ef_soil_ef2_n_drained_managed_soils_n2o_temperate_forest_nutrient_rich_kg_n2on_ha', 'elasticity_waso_msw_to_gdppc_food', 'nemomod_entc_variable_cost_pp_oil_usd_per_mwh', 'ef_ippu_tonne_ch3chf2_per_mmm_gdp_product_use_ods_other', 'frac_lsmm_manure_to_fertilizer_daily_spread', 'genfactor_lvst_daily_volatile_solids_horses', 'nemomod_enst_total_annual_min_capacity_st_compressed_air_pj', 'ef_trns_mobile_combustion_road_heavy_regional_kg_n2o_per_tj_biofuels', 'frac_agrc_tubers_cl1_tropical', 'frac_inen_energy_recycled_rubber_and_leather_kerosene', 'ef_lsmm_direct_management_poultry_manure_n2o_per_n', 'nemomod_entc_renewable_energy_tag_pp_biomass', 'frac_inen_energy_lime_and_carbonite_diesel', 'frac_lvst_mm_horses_anaerobic_digester', 'exports_enfu_pj_fuel_crude', 'mcf_lsmm_poultry_manure', 'nemomod_entc_emissions_activity_ratio_scalar_pp_solar_n2o', 'ef_trww_treated_latrine_unimproved_g_n2o_per_g_n', 'frac_inen_energy_rubber_and_leather_hydrocarbon_gas_liquids', 'fuelefficiency_trns_rail_passenger_diesel_km_per_litre', 'ef_fgtv_distribution_tonne_nmvoc_per_m3_fuel_natural_gas', 'elasticity_agrc_other_woody_perennial_demand_to_income', 'frac_inen_energy_recycled_glass_hydrogen', 'prodinit_ippu_recycled_metals_tonne', 'frac_inen_energy_recycled_paper_furnace_gas', 'frac_agrc_rice_cl1_tropical', 'frac_enfu_fuel_demand_imported_pj_fuel_gasoline', 'frac_agrc_crop_demand_imported_bevs_and_spices', 'nemomod_entc_capital_cost_pp_wind_mm_usd_per_gw', 'frac_lvst_mm_goats_incineration', 'frac_enfu_fuel_demand_imported_pj_fuel_oil', 'frac_lvst_mm_chickens_dry_lot', 'genfactor_lvst_daily_volatile_solids_chickens', 'regressionb_agrc_above_ground_residue_other_annual_kg_per_ha', 'nemomod_entc_input_activity_ratio_fuel_production_me_coal_natural_gas', 'frac_inen_energy_other_product_manufacturing_natural_gas', 'ef_fgtv_production_venting_tonne_n2o_per_m3_fuel_oil', 'frac_agrc_other_woody_perennial_cl1_temperate', 'ef_lvst_entferm_mules_kg_ch4_head', 'ef_ippu_tonne_c3f8_per_tonne_production_electronics', 'ef_enfu_stationary_combustion_tonne_ch4_per_tj_fuel_biofuels', 'ef_lndu_conv_forests_primary_to_other_gg_co2_ha', 'elasticity_agrc_rice_demand_to_income', 'exports_enfu_pj_fuel_kerosene', 'pij_lndu_croplands_to_settlements', 'ef_trns_mobile_combustion_rail_passenger_kg_ch4_per_tj_diesel', 'frac_agrc_initial_area_cropland_other_annual', 'vol_ippu_glass_m3_ww_per_tonne_production', 'frac_agrc_crop_demand_imported_sugar_cane', 'consumpinit_inen_energy_tj_per_tonne_production_recycled_paper', 'deminit_frst_wood_home_use_kg_per_hh', 'fuelefficiency_trns_road_light_gasoline_km_per_litre', 'frac_inen_energy_electronics_hydrogen', 'regressionm_agrc_above_ground_residue_rice_kg_per_ha', 'ef_soil_c_urea', 'pij_lndu_forests_secondary_to_other', 'ef_lndu_conv_croplands_to_forests_primary_gg_co2_ha', 'nemomod_entc_frac_min_share_production_pp_solar', 'elecfuelefficiency_trns_road_heavy_regional_km_per_kwh', 'factor_lndu_soil_carbon_croplands', 'nemomod_entc_renewable_energy_tag_pp_gas', 'frac_waso_non_recycled_open_dump', 'frac_agrc_sugar_cane_cl1_temperate', 'nemomod_enst_residual_capacity_st_batteries_gwh', 'ef_trns_mobile_combustion_rail_freight_kg_n2o_per_tj_natural_gas', 'fuelefficiency_trns_road_heavy_regional_biofuels_km_per_litre', 'frac_trns_mtkm_dem_freight_aviation', 'nemomod_entc_total_annual_min_capacity_pp_solar_gw', 'ef_enfu_combustion_tonne_co2_per_tj_fuel_crude', 'ef_trns_mobile_combustion_water_borne_kg_n2o_per_tj_natural_gas', 'qty_ippu_chemicals_tonne_cod_per_m3_ww', 'avgmass_lvst_animal_cattle_nondairy_kg', 'frac_agrc_fibers_cl2_dry', 'yf_agrc_bevs_and_spices_tonne_ha', 'nemomod_entc_renewable_energy_tag_pp_waste_incineration', 'consumpinit_inen_energy_total_pj_agriculture_and_livestock', 'efficfactor_scoe_heat_energy_residential_solid_biomass', 'factor_lndu_soil_management_unimproved_croplands', 'mcf_trww_treated_latrine_improved', 'frac_scoe_heat_energy_commercial_municipal_coal', 'frac_agrc_bevs_and_spices_cl2_wet', 'nemomod_entc_emissions_activity_ratio_scalar_pp_coal_n2o', 'ef_trns_mobile_combustion_rail_passenger_kg_n2o_per_tj_natural_gas', 'frac_lvst_mm_sheep_dry_lot', 'frac_lndu_soil_mineral_settlements', 'frac_inen_energy_recycled_metals_electricity', 'ef_agrc_biomass_fruits_tonne_co2_ha', 'frac_agrc_dry_matter_of_harvest_cereals', 'frac_lvst_mm_cattle_dairy_incineration', 'nemomod_entc_total_annual_max_capacity_investment_pp_oil_gw', 'ef_enfu_stationary_combustion_tonne_ch4_per_tj_fuel_crude', 'prodinit_ippu_lime_and_carbonite_tonne', 'nemomod_enst_residual_capacity_st_compressed_air_gwh', 'frac_entc_max_elec_production_increase_to_satisfy_msp_pp_nuclear', 'frac_agrc_no_till_tubers', 'frac_inen_energy_agriculture_and_livestock_oil', 'frac_fgtv_drained_and_waste_ch4_flared_fuel_oil', 'frac_inen_energy_mining_hydrocarbon_gas_liquids', 'physparam_waso_k_yard', 'frac_agrc_crop_demand_imported_vegetables_and_vines', 'nemomod_entc_total_annual_max_capacity_pp_wind_gw', 'avgload_trns_freight_tonne_per_vehicle_water_borne', 'nemomod_entc_total_annual_min_capacity_pp_geothermal_gw', 'frac_scoe_heat_energy_residential_hydrogen', 'physparam_waso_k_food', 'frac_inen_energy_textiles_diesel', 'nemomod_entc_renewable_energy_tag_st_compressed_air', 'demscalar_ippu_cement', 'frac_agrc_rice_cl2_dry', 'frac_inen_energy_other_product_manufacturing_diesel', 'frac_entc_max_elec_production_increase_to_satisfy_msp_pp_wind', 'nemomod_entc_renewable_energy_tag_pp_coal', 'frac_enfu_fuel_demand_imported_pj_fuel_kerosene', 'ef_lndu_conv_grasslands_to_grasslands_gg_co2_ha', 'frac_lndu_grasslands_cl1_tropical', 'frac_inen_energy_recycled_metals_natural_gas', 'frac_waso_compost_methane_flared', 'param_wali_f_noncon', 'frac_agrc_crop_demand_imported_herbs_and_other_perennial_crops', 'frac_lndu_proportion_grasslands_pasture', 'occrate_trns_passenger_per_vehicle_road_heavy_regional', 'frac_entc_max_elec_production_increase_to_satisfy_msp_pp_geothermal', 'frac_trns_fuelmix_public_hydrocarbon_gas_liquids', 'frac_inen_energy_mining_diesel', 'ef_waso_compost_kg_ch4_per_kg_food', 'nemomod_entc_emissions_activity_ratio_fuel_production_fp_hydrogen_reformation_tonne_co2_per_tj', 'ef_waso_incineration_tonne_n2o_per_tonne_wood', 'frac_agrc_initial_area_cropland_sugar_cane', 'ef_enfu_stationary_combustion_tonne_ch4_per_tj_fuel_diesel', 'nemomod_entc_fixed_cost_pp_coal_mm_usd_per_gw', 'frac_lndu_initial_croplands', 'consumpinit_inen_energy_tj_per_tonne_production_rubber_and_leather', 'scalar_inen_energy_demand_recycled_metals', 'avgload_trns_freight_tonne_per_vehicle_aviation', 'ef_trns_mobile_combustion_road_heavy_regional_kg_ch4_per_tj_gasoline', 'ef_trns_mobile_combustion_road_light_kg_ch4_per_tj_gasoline', 'ef_lndu_conv_grasslands_to_forests_primary_gg_co2_ha', 'pij_lndu_forests_mangroves_to_forests_secondary', 'fuelefficiency_trns_public_hydrocarbon_gas_liquids_km_per_litre', 'efficfactor_scoe_heat_energy_other_se_gasoline', 'frac_agrc_initial_yield_feed_tubers', 'frac_soil_gasm_n_volatilisation_organic_amendments_fertilizer', 'elasticity_agrc_cereals_demand_to_income', 'frac_lvst_mm_cattle_nondairy_paddock_pasture_range', 'ef_trns_mobile_combustion_road_heavy_regional_kg_ch4_per_tj_natural_gas', 'efficfactor_enfu_industrial_energy_fuel_kerosene', 'ef_trns_mobile_combustion_road_light_kg_n2o_per_tj_diesel', 'ef_lndu_conv_croplands_to_grasslands_gg_co2_ha', 'frac_lvst_mm_goats_anaerobic_digester', 'nemomod_entc_output_activity_ratio_fuel_production_fp_ammonia_production_ammonia', 'consumpinit_scoe_tj_per_mmmgdp_commercial_municipal_elec_appliances', 'net_imports_cement_clinker_tonne', 'frac_agrc_initial_yield_feed_cereals', 'qty_lsmm_nitrogen_in_bedding_kg_per_head_storage_solid', 'ef_waso_biogas_kg_ch4_per_kg_food', 'frac_waso_isw_incinerated_recovered_for_energy', 'frac_entc_max_elec_production_increase_to_satisfy_msp_pp_coal', 'frac_inen_energy_rubber_and_leather_oil', 'consumpinit_inen_energy_tj_per_tonne_production_mining', 'frac_lvst_mm_cattle_nondairy_composting', 'vol_ippu_recycled_textiles_m3_ww_per_tonne_production', 'energydensity_enfu_mj_per_litre_fuel_hydrocarbon_gas_liquids', 'pij_lndu_forests_secondary_to_forests_secondary', 'frac_inen_energy_lime_and_carbonite_gasoline', 'frac_inen_energy_recycled_glass_coke', 'frac_frst_secondary_cl1_tropical', 'energydensity_gravimetric_enfu_gj_per_tonne_fuel_coal', 'nemomod_entc_emissions_activity_ratio_scalar_pp_oil_co2', 'ef_trns_mobile_combustion_rail_freight_kg_ch4_per_tj_diesel', 'frac_trww_tow_removed_treated_septic', 'nemomod_entc_reserve_margin_tag_technology_pp_biogas', 'yf_agrc_rice_tonne_ha', 'frac_lvst_mm_goats_anaerobic_lagoon', 'ef_fgtv_transmission_tonne_nmvoc_per_m3_fuel_natural_gas', 'frac_lvst_mm_pigs_deep_bedding', 'frac_lvst_mm_chickens_liquid_slurry', 'nemomod_entc_reserve_margin_tag_technology_pp_oil', 'elasticity_ippu_lime_and_carbonite_production_to_gdp', 'demscalar_ippu_product_use_lubricants', 'frac_lvst_mm_horses_deep_bedding', 'frac_lvst_mm_mules_daily_spread', 'ef_soil_ef3_pasture_n2o_wet_climate', 'ef_frst_forestmethane_primary_kt_ch4_ha', 'ef_ippu_tonne_c3hf7_per_mmm_gdp_product_use_ods_refrigeration', 'ratio_agrc_below_ground_to_above_ground_biomass_other_annual', 'frac_inen_energy_electronics_electricity', 'efficfactor_entc_technology_fuel_use_pp_coal', 'exports_enfu_pj_fuel_electricity', 'nemomod_entc_total_annual_max_capacity_investment_pp_gas_gw', 'frac_inen_energy_recycled_paper_diesel', 'frac_inen_energy_recycled_textiles_natural_gas', 'nemomod_entc_total_annual_max_capacity_investment_pp_waste_incineration_gw', 'energydensity_enfu_mj_per_litre_fuel_gasoline', 'exports_enfu_pj_fuel_diesel', 'elasticity_ippu_plastic_production_to_gdp', 'demscalar_trde_regional', 'frac_inen_energy_recycled_textiles_coke', 'nemomod_entc_capital_cost_pp_solar_mm_usd_per_gw', 'ef_ippu_tonne_c3hf7_per_tonne_production_chemicals', 'frac_waso_recycled_rubber_leather', 'frac_soil_gasf_n_volatilisation_synthetic_fertilizer_urea', 'yf_agrc_pulses_tonne_ha', 'frac_trns_mtkm_dem_freight_rail_freight', 'frac_inen_energy_recycled_metals_gasoline', 'frac_inen_energy_agriculture_and_livestock_gasoline', 'nemomod_entc_emissions_activity_ratio_scalar_pp_gas_ccs_n2o', 'efficfactor_entc_technology_fuel_use_pp_waste_incineration', 'ef_waso_incineration_tonne_n2o_per_tonne_chemical_industrial', 'ef_enfu_combustion_tonne_co2_per_tj_fuel_ocean', 'frac_waso_initial_composition_mun_glass', 'ef_enfu_combustion_tonne_co2_per_tj_fuel_coal', 'nemomod_enst_total_annual_min_capacity_st_batteries_pj', 'ef_lndu_conv_other_to_forests_secondary_gg_co2_ha', 'ef_trns_mobile_combustion_public_kg_ch4_per_tj_gasoline', 'frac_inen_energy_electronics_gasoline', 'frac_lvst_mm_horses_poultry_manure', 'frac_trns_fuelmix_rail_passenger_natural_gas', 'nemomod_entc_capital_cost_pp_waste_incineration_mm_usd_per_gw', 'exports_lvst_cattle_nondairy', 'physparam_wali_tonne_cod_per_mmm_gdp', 'ef_soil_ef1_n_synthetic_fertilizer_n2o_dry_climate', 'nemomod_entc_reserve_margin_tag_technology_pp_gas', 'pij_lndu_settlements_to_other', 'nemomod_entc_reserve_margin_tag_technology_pp_solar', 'frac_lvst_mm_chickens_deep_bedding', 'genfactor_lvst_daily_nitrogen_cattle_dairy', 'ratio_agrc_below_ground_to_above_ground_biomass_cereals', 'efficfactor_ccsq_heat_energy_direct_air_capture_geothermal', 'nemomod_entc_emissions_activity_ratio_scalar_pp_biogas_co2', 'frac_inen_energy_chemicals_coke', 'frac_trww_n_removed_treated_advanced_anaerobic', 'nemomod_entc_emissions_activity_ratio_scalar_pp_gas_ch4', 'frac_agrc_initial_yield_feed_fruits', 'frac_inen_energy_electronics_natural_gas', 'nemomod_entc_input_activity_ratio_fuel_production_me_coal_electricity', 'nemomod_entc_input_activity_ratio_fuel_production_fp_natural_gas_natural_gas_unprocessed', 'physparam_waso_k_other', 'frac_agrc_no_till_vegetables_and_vines', 'qty_soil_organic_c_stock_temperate_forest_nutrient_poor_tonne_per_ha', 'frac_inen_energy_wood_natural_gas', 'ef_lndu_conv_forests_primary_to_forests_mangroves_gg_co2_ha', 'efficfactor_scoe_heat_energy_other_se_electricity', 'energydensity_enfu_mj_per_litre_fuel_diesel', 'frac_agrc_cereals_cl1_tropical', 'vol_ippu_recycled_paper_m3_ww_per_tonne_production', 'exports_agrc_fruits_tonne', 'scalar_scoe_heat_energy_demand_commercial_municipal', 'frac_trns_fuelmix_road_heavy_regional_diesel', 'frac_lsmm_n_loss_leaching_anaerobic_lagoon', 'frac_inen_energy_recycled_textiles_oil', 'pij_lndu_forests_secondary_to_grasslands', 'fuelefficiency_trns_road_heavy_regional_hydrocarbon_gas_liquids_km_per_litre', 'nemomod_entc_capital_cost_fp_hydrogen_reformation_ccs_mm_usd_per_gw', 'ratio_agrc_below_ground_to_above_ground_biomass_rice', 'frac_lndu_other_cl2_wet', 'yf_agrc_fibers_tonne_ha', 'frac_inen_energy_cement_kerosene', 'frac_lvst_mm_goats_liquid_slurry', 'frac_wali_ww_industrial_treatment_path_primary', 'frac_agrc_herbs_and_other_perennial_crops_cl1_tropical', 'ef_lvst_entferm_horses_kg_ch4_head', 'deminit_trde_private_and_public_per_capita_passenger_km', 'frac_inen_energy_wood_kerosene', 'frac_lndu_soil_mineral_forests_primary', 'ef_enfu_combustion_tonne_co2_per_tj_fuel_furnace_gas', 'factor_lsmm_n_from_codigestates_anaerobic_digester', 'ef_fgtv_transmission_tonne_ch4_per_m3_fuel_natural_gas', 'frac_wali_ww_industrial_treatment_path_latrine_improved', 'consumpinit_inen_energy_tj_per_tonne_production_recycled_rubber_and_leather', 'ef_lndu_conv_other_to_croplands_gg_co2_ha', 'deminit_trde_freight_mt_km', 'elasticity_ippu_product_use_paraffin_wax_product_use_rate_to_gdppc', 'frac_wali_ww_domestic_urban_treatment_path_secondary_anaerobic', 'scalar_inen_energy_demand_chemicals', 'frac_inen_energy_recycled_glass_furnace_gas', 'ef_ippu_tonne_cc4f8_per_tonne_production_electronics', 'ef_ippu_tonne_c2h3f3_per_tonne_production_chemicals', 'frac_agrc_other_annual_cl2_wet', 'elasticity_ippu_textiles_production_to_gdp', 'frac_inen_energy_recycled_glass_gasoline', 'fuelefficiency_trns_public_biofuels_km_per_litre', 'frac_waso_initial_composition_mun_textiles', 'nemomod_entc_renewable_energy_tag_st_batteries', 'prodinit_ippu_recycled_rubber_and_leather_tonne', 'frac_lndu_soil_mineral_grasslands', 'nemomod_entc_total_annual_min_capacity_pp_waste_incineration_gw', 'frac_agrc_vegetables_and_vines_cl1_tropical', 'ef_trww_treated_latrine_improved_g_n2o_per_g_n', 'efficfactor_scoe_heat_energy_residential_gasoline', 'frac_lvst_mm_horses_anaerobic_lagoon', 'nemomod_entc_output_activity_ratio_fuel_production_fp_natural_gas_hydrocarbon_gas_liquids', 'nemomod_entc_residual_capacity_pp_waste_incineration_gw', 'nemomod_entc_variable_cost_st_compressed_air_usd_per_mwh', 'elasticity_ippu_rubber_and_leather_production_to_gdp', 'frac_inen_energy_wood_coke', 'population_gnrl_rural', 'frac_lsmm_n_loss_leaching_storage_solid', 'occrate_trns_passenger_per_vehicle_water_borne', 'nemomod_enst_total_annual_min_capacity_investment_st_flywheels_pj', 'frac_lvst_mm_pigs_incineration', 'ef_enfu_stationary_combustion_tonne_n2o_per_tj_fuel_electricity', 'frac_agrc_initial_yield_feed_other_annual'}\n"
     ]
    }
   ],
   "source": [
    "# Double checking that our df is in the correct shape MAKE SURE THIS IS OK THEY HAVE TO BE EQUAL!\n",
    "helper_functions.compare_dfs(cr, df_input)"
   ]
  },
  {
   "cell_type": "code",
   "execution_count": 10,
   "metadata": {},
   "outputs": [
    {
     "name": "stdout",
     "output_type": "stream",
     "text": [
      "[]\n"
     ]
    },
    {
     "data": {
      "text/plain": [
       "[]"
      ]
     },
     "execution_count": 10,
     "metadata": {},
     "output_type": "execute_result"
    }
   ],
   "source": [
    "# Checking if there are any columns with null values in it\n",
    "helper_functions.get_cols_with_nans(df_input)"
   ]
  },
  {
   "cell_type": "code",
   "execution_count": 11,
   "metadata": {},
   "outputs": [
    {
     "data": {
      "text/plain": [
       "['frac_entc_max_elec_production_increase_to_satisfy_msp_pp_biogas',\n",
       " 'frac_entc_max_elec_production_increase_to_satisfy_msp_pp_biomass',\n",
       " 'frac_entc_max_elec_production_increase_to_satisfy_msp_pp_coal',\n",
       " 'frac_entc_max_elec_production_increase_to_satisfy_msp_pp_coal_ccs',\n",
       " 'frac_entc_max_elec_production_increase_to_satisfy_msp_pp_gas',\n",
       " 'frac_entc_max_elec_production_increase_to_satisfy_msp_pp_gas_ccs',\n",
       " 'frac_entc_max_elec_production_increase_to_satisfy_msp_pp_geothermal',\n",
       " 'frac_entc_max_elec_production_increase_to_satisfy_msp_pp_hydropower',\n",
       " 'frac_entc_max_elec_production_increase_to_satisfy_msp_pp_nuclear',\n",
       " 'frac_entc_max_elec_production_increase_to_satisfy_msp_pp_ocean',\n",
       " 'frac_entc_max_elec_production_increase_to_satisfy_msp_pp_oil',\n",
       " 'frac_entc_max_elec_production_increase_to_satisfy_msp_pp_solar',\n",
       " 'frac_entc_max_elec_production_increase_to_satisfy_msp_pp_waste_incineration',\n",
       " 'frac_entc_max_elec_production_increase_to_satisfy_msp_pp_wind',\n",
       " 'limit_gnrl_annual_emissions_mt_ch4',\n",
       " 'limit_gnrl_annual_emissions_mt_co2',\n",
       " 'limit_gnrl_annual_emissions_mt_n2o',\n",
       " 'nemomod_enst_total_annual_max_capacity_investment_st_batteries_pj',\n",
       " 'nemomod_enst_total_annual_max_capacity_investment_st_compressed_air_pj',\n",
       " 'nemomod_enst_total_annual_max_capacity_investment_st_flywheels_pj',\n",
       " 'nemomod_enst_total_annual_max_capacity_investment_st_pumped_hydro_pj',\n",
       " 'nemomod_enst_total_annual_max_capacity_st_batteries_pj',\n",
       " 'nemomod_enst_total_annual_max_capacity_st_compressed_air_pj',\n",
       " 'nemomod_enst_total_annual_max_capacity_st_flywheels_pj',\n",
       " 'nemomod_enst_total_annual_max_capacity_st_pumped_hydro_pj',\n",
       " 'nemomod_enst_total_annual_min_capacity_investment_st_batteries_pj',\n",
       " 'nemomod_enst_total_annual_min_capacity_investment_st_compressed_air_pj',\n",
       " 'nemomod_enst_total_annual_min_capacity_investment_st_flywheels_pj',\n",
       " 'nemomod_enst_total_annual_min_capacity_investment_st_pumped_hydro_pj',\n",
       " 'nemomod_enst_total_annual_min_capacity_st_batteries_pj',\n",
       " 'nemomod_enst_total_annual_min_capacity_st_compressed_air_pj',\n",
       " 'nemomod_enst_total_annual_min_capacity_st_flywheels_pj',\n",
       " 'nemomod_enst_total_annual_min_capacity_st_pumped_hydro_pj',\n",
       " 'nemomod_entc_total_annual_max_capacity_investment_pp_biogas_gw',\n",
       " 'nemomod_entc_total_annual_max_capacity_investment_pp_coal_ccs_gw',\n",
       " 'nemomod_entc_total_annual_max_capacity_investment_pp_coal_gw',\n",
       " 'nemomod_entc_total_annual_max_capacity_investment_pp_gas_ccs_gw',\n",
       " 'nemomod_entc_total_annual_max_capacity_investment_pp_gas_gw',\n",
       " 'nemomod_entc_total_annual_max_capacity_investment_pp_geothermal_gw',\n",
       " 'nemomod_entc_total_annual_max_capacity_investment_pp_hydropower_gw',\n",
       " 'nemomod_entc_total_annual_max_capacity_investment_pp_nuclear_gw',\n",
       " 'nemomod_entc_total_annual_max_capacity_investment_pp_ocean_gw',\n",
       " 'nemomod_entc_total_annual_max_capacity_investment_pp_oil_gw',\n",
       " 'nemomod_entc_total_annual_max_capacity_investment_pp_solar_gw',\n",
       " 'nemomod_entc_total_annual_max_capacity_investment_pp_waste_incineration_gw',\n",
       " 'nemomod_entc_total_annual_max_capacity_investment_pp_wind_gw',\n",
       " 'nemomod_entc_total_annual_max_capacity_pp_biogas_gw',\n",
       " 'nemomod_entc_total_annual_max_capacity_pp_biomass_gw',\n",
       " 'nemomod_entc_total_annual_max_capacity_pp_coal_ccs_gw',\n",
       " 'nemomod_entc_total_annual_max_capacity_pp_coal_gw',\n",
       " 'nemomod_entc_total_annual_max_capacity_pp_gas_ccs_gw',\n",
       " 'nemomod_entc_total_annual_max_capacity_pp_gas_gw',\n",
       " 'nemomod_entc_total_annual_max_capacity_pp_geothermal_gw',\n",
       " 'nemomod_entc_total_annual_max_capacity_pp_hydropower_gw',\n",
       " 'nemomod_entc_total_annual_max_capacity_pp_nuclear_gw',\n",
       " 'nemomod_entc_total_annual_max_capacity_pp_ocean_gw',\n",
       " 'nemomod_entc_total_annual_max_capacity_pp_oil_gw',\n",
       " 'nemomod_entc_total_annual_max_capacity_pp_solar_gw',\n",
       " 'nemomod_entc_total_annual_max_capacity_pp_waste_incineration_gw',\n",
       " 'nemomod_entc_total_annual_max_capacity_pp_wind_gw',\n",
       " 'nemomod_entc_total_annual_min_capacity_investment_pp_biogas_gw',\n",
       " 'nemomod_entc_total_annual_min_capacity_investment_pp_biomass_gw',\n",
       " 'nemomod_entc_total_annual_min_capacity_investment_pp_coal_ccs_gw',\n",
       " 'nemomod_entc_total_annual_min_capacity_investment_pp_coal_gw',\n",
       " 'nemomod_entc_total_annual_min_capacity_investment_pp_gas_ccs_gw',\n",
       " 'nemomod_entc_total_annual_min_capacity_investment_pp_gas_gw',\n",
       " 'nemomod_entc_total_annual_min_capacity_investment_pp_geothermal_gw',\n",
       " 'nemomod_entc_total_annual_min_capacity_investment_pp_hydropower_gw',\n",
       " 'nemomod_entc_total_annual_min_capacity_investment_pp_nuclear_gw',\n",
       " 'nemomod_entc_total_annual_min_capacity_investment_pp_ocean_gw',\n",
       " 'nemomod_entc_total_annual_min_capacity_investment_pp_oil_gw',\n",
       " 'nemomod_entc_total_annual_min_capacity_investment_pp_solar_gw',\n",
       " 'nemomod_entc_total_annual_min_capacity_investment_pp_waste_incineration_gw',\n",
       " 'nemomod_entc_total_annual_min_capacity_investment_pp_wind_gw',\n",
       " 'nemomod_entc_total_annual_min_capacity_pp_biogas_gw',\n",
       " 'nemomod_entc_total_annual_min_capacity_pp_biomass_gw',\n",
       " 'nemomod_entc_total_annual_min_capacity_pp_coal_ccs_gw',\n",
       " 'nemomod_entc_total_annual_min_capacity_pp_coal_gw',\n",
       " 'nemomod_entc_total_annual_min_capacity_pp_gas_ccs_gw',\n",
       " 'nemomod_entc_total_annual_min_capacity_pp_gas_gw',\n",
       " 'nemomod_entc_total_annual_min_capacity_pp_geothermal_gw',\n",
       " 'nemomod_entc_total_annual_min_capacity_pp_hydropower_gw',\n",
       " 'nemomod_entc_total_annual_min_capacity_pp_nuclear_gw',\n",
       " 'nemomod_entc_total_annual_min_capacity_pp_ocean_gw',\n",
       " 'nemomod_entc_total_annual_min_capacity_pp_oil_gw',\n",
       " 'nemomod_entc_total_annual_min_capacity_pp_solar_gw',\n",
       " 'nemomod_entc_total_annual_min_capacity_pp_waste_incineration_gw',\n",
       " 'nemomod_entc_total_annual_min_capacity_pp_wind_gw',\n",
       " 'nemomod_entc_grid_power_constraint_mmm_usd']"
      ]
     },
     "execution_count": 11,
     "metadata": {},
     "output_type": "execute_result"
    }
   ],
   "source": [
    "columns_all_999 = df_input.columns[(df_input == -999).any()].tolist()\n",
    "columns_all_999"
   ]
  },
  {
   "cell_type": "code",
   "execution_count": 12,
   "metadata": {},
   "outputs": [
    {
     "data": {
      "text/plain": [
       "['area_gnrl_country_ha',\n",
       " 'gdp_mmm_usd',\n",
       " 'occrateinit_gnrl_occupancy',\n",
       " 'population_gnrl_rural',\n",
       " 'population_gnrl_urban',\n",
       " 'lndu_reallocation_factor']"
      ]
     },
     "execution_count": 12,
     "metadata": {},
     "output_type": "execute_result"
    }
   ],
   "source": [
    "empirical_vars_to_avoid"
   ]
  },
  {
   "cell_type": "code",
   "execution_count": 13,
   "metadata": {},
   "outputs": [
    {
     "data": {
      "text/plain": [
       "0    0\n",
       "1    0\n",
       "2    0\n",
       "3    0\n",
       "4    0\n",
       "Name: lndu_reallocation_factor, dtype: int64"
      ]
     },
     "execution_count": 13,
     "metadata": {},
     "output_type": "execute_result"
    }
   ],
   "source": [
    "df_input['lndu_reallocation_factor'].head()"
   ]
  },
  {
   "cell_type": "code",
   "execution_count": 14,
   "metadata": {},
   "outputs": [],
   "source": [
    "# Avoid land use stuff and some frac special cases\n",
    "pij_cols = [col for col in df_input.columns if col.startswith('pij')]\n",
    "cols_to_avoid = pij_cols + frac_vars_special_cases_list + columns_all_999 + empirical_vars_to_avoid\n",
    "cols_to_stress = helper_functions.get_indicators_col_names(df_input, cols_with_issue=cols_to_avoid)"
   ]
  },
  {
   "cell_type": "code",
   "execution_count": 15,
   "metadata": {},
   "outputs": [
    {
     "data": {
      "text/plain": [
       "0    0\n",
       "1    0\n",
       "2    0\n",
       "3    0\n",
       "4    0\n",
       "Name: ef_lndu_conv_croplands_to_forests_secondary_gg_co2_ha, dtype: int64"
      ]
     },
     "execution_count": 15,
     "metadata": {},
     "output_type": "execute_result"
    }
   ],
   "source": [
    "df_input['ef_lndu_conv_croplands_to_forests_secondary_gg_co2_ha'].head()"
   ]
  },
  {
   "cell_type": "code",
   "execution_count": 16,
   "metadata": {},
   "outputs": [],
   "source": [
    "# # Add a small epsilon to variables that are full of zeros but not frac_ columns\n",
    "# epsilon = 1e-6\n",
    "# non_frac_cols_to_stress = [col for col in cols_to_stress if not col.startswith('frac_')]\n",
    "# for col in non_frac_cols_to_stress:\n",
    "#     if (df_input[col] == 0).all():  # Check if the column is full of zeros\n",
    "#         df_input[col] += epsilon  # Add epsilon to the entire column"
   ]
  },
  {
   "cell_type": "code",
   "execution_count": 17,
   "metadata": {},
   "outputs": [
    {
     "data": {
      "text/plain": [
       "0    0\n",
       "1    0\n",
       "2    0\n",
       "3    0\n",
       "4    0\n",
       "Name: ef_lndu_conv_croplands_to_forests_secondary_gg_co2_ha, dtype: int64"
      ]
     },
     "execution_count": 17,
     "metadata": {},
     "output_type": "execute_result"
    }
   ],
   "source": [
    "df_input['ef_lndu_conv_croplands_to_forests_secondary_gg_co2_ha'].head()"
   ]
  },
  {
   "cell_type": "code",
   "execution_count": 18,
   "metadata": {},
   "outputs": [],
   "source": [
    "# Defines upper bound to pass to GenerateLHS\n",
    "u_bound = 2\n",
    "\n",
    "# Defines number of sample vectors that GenerateLHS will create\n",
    "n_arrays = 100\n",
    "sampling_file_path = os.path.join('sampling_files', f'sample_scaled_{n_arrays}_{u_bound}.pickle') \n",
    "\n",
    "# Generates sampling matrix\n",
    "if not os.path.exists(sampling_file_path):\n",
    "    # Generates sampling matrix if it does not exist\n",
    "    generate_sample = GenerateLHS(n_arrays, n_var=len(cols_to_stress), u_bound=u_bound)\n",
    "    generate_sample.generate_sample()\n",
    "\n",
    "# Load the sampling matrix\n",
    "with open(sampling_file_path, 'rb') as handle:\n",
    "    sample_scaled = pickle.load(handle)"
   ]
  },
  {
   "cell_type": "code",
   "execution_count": 19,
   "metadata": {},
   "outputs": [],
   "source": [
    "lhs_sampling_array = sample_scaled[experiment_id]"
   ]
  },
  {
   "cell_type": "code",
   "execution_count": 20,
   "metadata": {},
   "outputs": [
    {
     "name": "stdout",
     "output_type": "stream",
     "text": [
      "[0.68131578 0.56667986 1.26215516 ... 1.01133995 0.57521847 1.51992531]\n",
      "(2033,)\n"
     ]
    }
   ],
   "source": [
    "print(lhs_sampling_array)\n",
    "print(lhs_sampling_array.shape)"
   ]
  },
  {
   "cell_type": "code",
   "execution_count": 21,
   "metadata": {},
   "outputs": [],
   "source": [
    "# # Plotting the histogram\n",
    "# plt.figure(figsize=(8, 5))\n",
    "# plt.hist(sample_scaled[1], bins=30, edgecolor='black', alpha=0.7)\n",
    "# plt.title('Histogram of Sampled Random Values')\n",
    "# plt.xlabel('Value')\n",
    "# plt.ylabel('Frequency')\n",
    "# plt.grid(axis='y', alpha=0.75)\n",
    "# plt.show()"
   ]
  },
  {
   "cell_type": "code",
   "execution_count": 22,
   "metadata": {},
   "outputs": [],
   "source": [
    "# Creating new df with the sampled data\n",
    "stressed_df = df_input.copy()\n",
    "stressed_df[cols_to_stress] = (df_input[cols_to_stress] * sample_scaled[experiment_id]).to_numpy()"
   ]
  },
  {
   "cell_type": "code",
   "execution_count": 23,
   "metadata": {},
   "outputs": [
    {
     "data": {
      "text/plain": [
       "0    0\n",
       "1    0\n",
       "2    0\n",
       "3    0\n",
       "4    0\n",
       "Name: lndu_reallocation_factor, dtype: int64"
      ]
     },
     "execution_count": 23,
     "metadata": {},
     "output_type": "execute_result"
    }
   ],
   "source": [
    "stressed_df['lndu_reallocation_factor'].head()"
   ]
  },
  {
   "cell_type": "code",
   "execution_count": 24,
   "metadata": {},
   "outputs": [
    {
     "data": {
      "text/plain": [
       "0    0.0\n",
       "1    0.0\n",
       "2    0.0\n",
       "3    0.0\n",
       "4    0.0\n",
       "Name: ef_lndu_conv_croplands_to_forests_secondary_gg_co2_ha, dtype: float64"
      ]
     },
     "execution_count": 24,
     "metadata": {},
     "output_type": "execute_result"
    }
   ],
   "source": [
    "stressed_df['ef_lndu_conv_croplands_to_forests_secondary_gg_co2_ha'].head()"
   ]
  },
  {
   "cell_type": "code",
   "execution_count": 25,
   "metadata": {},
   "outputs": [
    {
     "data": {
      "text/plain": [
       "0    0.722487\n",
       "1    0.722487\n",
       "2    0.722487\n",
       "3    0.722487\n",
       "4    0.722487\n",
       "Name: frac_agrc_bevs_and_spices_cl1_temperate, dtype: float64"
      ]
     },
     "execution_count": 25,
     "metadata": {},
     "output_type": "execute_result"
    }
   ],
   "source": [
    "stressed_df['frac_agrc_bevs_and_spices_cl1_temperate'].head()"
   ]
  },
  {
   "cell_type": "code",
   "execution_count": 26,
   "metadata": {},
   "outputs": [
    {
     "data": {
      "text/plain": [
       "0    0.0\n",
       "1    0.0\n",
       "2    0.0\n",
       "3    0.0\n",
       "4    0.0\n",
       "Name: frac_agrc_bevs_and_spices_cl1_tropical, dtype: float64"
      ]
     },
     "execution_count": 26,
     "metadata": {},
     "output_type": "execute_result"
    }
   ],
   "source": [
    "stressed_df['frac_agrc_bevs_and_spices_cl1_tropical'].head()"
   ]
  },
  {
   "cell_type": "code",
   "execution_count": 27,
   "metadata": {},
   "outputs": [
    {
     "data": {
      "text/html": [
       "<div>\n",
       "<style scoped>\n",
       "    .dataframe tbody tr th:only-of-type {\n",
       "        vertical-align: middle;\n",
       "    }\n",
       "\n",
       "    .dataframe tbody tr th {\n",
       "        vertical-align: top;\n",
       "    }\n",
       "\n",
       "    .dataframe thead th {\n",
       "        text-align: right;\n",
       "    }\n",
       "</style>\n",
       "<table border=\"1\" class=\"dataframe\">\n",
       "  <thead>\n",
       "    <tr style=\"text-align: right;\">\n",
       "      <th></th>\n",
       "      <th>frac_var_name</th>\n",
       "      <th>frac_var_name_prefix</th>\n",
       "    </tr>\n",
       "  </thead>\n",
       "  <tbody>\n",
       "    <tr>\n",
       "      <th>0</th>\n",
       "      <td>frac_agrc_bevs_and_spices_cl1_temperate</td>\n",
       "      <td>frac_agrc_bevs_and_spices_cl1</td>\n",
       "    </tr>\n",
       "    <tr>\n",
       "      <th>1</th>\n",
       "      <td>frac_agrc_bevs_and_spices_cl1_tropical</td>\n",
       "      <td>frac_agrc_bevs_and_spices_cl1</td>\n",
       "    </tr>\n",
       "    <tr>\n",
       "      <th>2</th>\n",
       "      <td>frac_agrc_bevs_and_spices_cl2_dry</td>\n",
       "      <td>frac_agrc_bevs_and_spices_cl2</td>\n",
       "    </tr>\n",
       "    <tr>\n",
       "      <th>3</th>\n",
       "      <td>frac_agrc_bevs_and_spices_cl2_wet</td>\n",
       "      <td>frac_agrc_bevs_and_spices_cl2</td>\n",
       "    </tr>\n",
       "    <tr>\n",
       "      <th>4</th>\n",
       "      <td>frac_agrc_cereals_cl1_temperate</td>\n",
       "      <td>frac_agrc_cereals_cl1</td>\n",
       "    </tr>\n",
       "  </tbody>\n",
       "</table>\n",
       "</div>"
      ],
      "text/plain": [
       "                             frac_var_name           frac_var_name_prefix\n",
       "0  frac_agrc_bevs_and_spices_cl1_temperate  frac_agrc_bevs_and_spices_cl1\n",
       "1   frac_agrc_bevs_and_spices_cl1_tropical  frac_agrc_bevs_and_spices_cl1\n",
       "2        frac_agrc_bevs_and_spices_cl2_dry  frac_agrc_bevs_and_spices_cl2\n",
       "3        frac_agrc_bevs_and_spices_cl2_wet  frac_agrc_bevs_and_spices_cl2\n",
       "4          frac_agrc_cereals_cl1_temperate          frac_agrc_cereals_cl1"
      ]
     },
     "execution_count": 27,
     "metadata": {},
     "output_type": "execute_result"
    }
   ],
   "source": [
    "# Load new groups that need normalization\n",
    "df_frac_vars = pd.read_excel('frac_vars.xlsx', sheet_name='frac_vars_no_special_cases')\n",
    "df_frac_vars.head()"
   ]
  },
  {
   "cell_type": "code",
   "execution_count": 28,
   "metadata": {},
   "outputs": [],
   "source": [
    "need_norm_prefix = df_frac_vars.frac_var_name_prefix.unique()"
   ]
  },
  {
   "cell_type": "code",
   "execution_count": 29,
   "metadata": {},
   "outputs": [],
   "source": [
    "# Normalizing frac_ var groups using softmax\n",
    "df_frac_vars = pd.read_excel('frac_vars.xlsx', sheet_name='frac_vars_no_special_cases')\n",
    "need_norm_prefix = df_frac_vars.frac_var_name_prefix.unique()\n",
    "\n",
    "for subgroup in need_norm_prefix:\n",
    "    subgroup_cols = [i for i in stressed_df.columns if subgroup in i]\n",
    "    \n",
    "    # Skip normalization for columns in cols_to_avoid\n",
    "    if any(col in cols_to_avoid for col in subgroup_cols):\n",
    "        continue\n",
    "\n",
    "    # Apply softmax normalization\n",
    "    stressed_df[subgroup_cols] = stressed_df[subgroup_cols].apply(\n",
    "        lambda row: np.exp(row) / np.exp(row).sum(), axis=1\n",
    "    )\n",
    "\n",
    "# Special case for ce_problematic\n",
    "ce_problematic = [\n",
    "    'frac_waso_biogas_food',\n",
    "    'frac_waso_biogas_sludge',\n",
    "    'frac_waso_biogas_yard',\n",
    "    'frac_waso_compost_food',\n",
    "    'frac_waso_compost_methane_flared',\n",
    "    'frac_waso_compost_sludge',\n",
    "    'frac_waso_compost_yard'\n",
    "]\n",
    "\n",
    "# Apply softmax normalization\n",
    "stressed_df[ce_problematic] = stressed_df[ce_problematic].apply(\n",
    "    lambda row: np.exp(row) / np.exp(row).sum(), axis=1\n",
    ")"
   ]
  },
  {
   "cell_type": "code",
   "execution_count": 30,
   "metadata": {},
   "outputs": [
    {
     "name": "stdout",
     "output_type": "stream",
     "text": [
      "0    0.673154\n",
      "1    0.673154\n",
      "2    0.673154\n",
      "3    0.673154\n",
      "4    0.673154\n",
      "Name: frac_agrc_bevs_and_spices_cl1_temperate, dtype: float64\n",
      "0    0.326846\n",
      "1    0.326846\n",
      "2    0.326846\n",
      "3    0.326846\n",
      "4    0.326846\n",
      "Name: frac_agrc_bevs_and_spices_cl1_tropical, dtype: float64\n"
     ]
    }
   ],
   "source": [
    "print(stressed_df['frac_agrc_bevs_and_spices_cl1_temperate'].head())\n",
    "print(stressed_df['frac_agrc_bevs_and_spices_cl1_tropical'].head())"
   ]
  },
  {
   "cell_type": "code",
   "execution_count": 31,
   "metadata": {},
   "outputs": [
    {
     "data": {
      "text/plain": [
       "0    1.0\n",
       "1    1.0\n",
       "2    1.0\n",
       "3    1.0\n",
       "4    1.0\n",
       "dtype: float64"
      ]
     },
     "execution_count": 31,
     "metadata": {},
     "output_type": "execute_result"
    }
   ],
   "source": [
    "stressed_df['frac_agrc_bevs_and_spices_cl1_tropical'].head() + stressed_df['frac_agrc_bevs_and_spices_cl1_temperate'].head()"
   ]
  },
  {
   "cell_type": "markdown",
   "metadata": {},
   "source": [
    "####################"
   ]
  },
  {
   "cell_type": "code",
   "execution_count": 32,
   "metadata": {},
   "outputs": [],
   "source": [
    "# # Assuming df_estresado is defined and contains columns\n",
    "# vars_grupo = [i for i in df_estresado.columns if i.startswith('frac_')]\n",
    "\n",
    "# df_frac_vars = pd.DataFrame(vars_grupo, columns=['frac_var_name'])\n",
    "# df_frac_vars.sort_values(by='frac_var_name', inplace=True)\n",
    "\n",
    "# # Extract prefix by removing the last '_{word}' segment\n",
    "# df_frac_vars['frac_var_name_prefix'] = df_frac_vars['frac_var_name'].apply(lambda x: '_'.join(x.split('_')[:-1]))\n",
    "\n",
    "# df_frac_vars.to_csv('frac_vars.csv', index=False)"
   ]
  },
  {
   "cell_type": "markdown",
   "metadata": {},
   "source": [
    "###########"
   ]
  },
  {
   "cell_type": "code",
   "execution_count": 33,
   "metadata": {},
   "outputs": [
    {
     "name": "stdout",
     "output_type": "stream",
     "text": [
      "[]\n",
      "[]\n"
     ]
    },
    {
     "data": {
      "text/plain": [
       "[]"
      ]
     },
     "execution_count": 33,
     "metadata": {},
     "output_type": "execute_result"
    }
   ],
   "source": [
    "# Checking if there are any columns with null values in it\n",
    "columns_with_na = helper_functions.get_cols_with_nans(stressed_df)\n",
    "if columns_with_na:\n",
    "    stressed_df[columns_with_na] = stressed_df[columns_with_na].fillna(0)\n",
    "\n",
    "helper_functions.get_cols_with_nans(stressed_df)"
   ]
  },
  {
   "cell_type": "code",
   "execution_count": 34,
   "metadata": {},
   "outputs": [],
   "source": [
    "transformers = trf.transformers.Transformers(\n",
    "    {},\n",
    "    df_input = stressed_df,\n",
    ")\n",
    "\n",
    "##  SETUP SOME SISEPUEDE STUFF\n",
    "\n",
    "file_struct = SISEPUEDEFileStructure()\n",
    "\n",
    "matt = file_struct.model_attributes\n",
    "regions = sc.Regions(matt)\n",
    "time_periods = sc.TimePeriods(matt)\n",
    "\n",
    "# set an ouput path and instantiate\n",
    "\n",
    "trf.instantiate_default_strategy_directory(\n",
    "        transformers,\n",
    "        SSP_OUTPUT_PATH,\n",
    "    )\n",
    "\n",
    "# then, you can load this back in after modifying (play around with it)\n",
    "transformations = trf.Transformations(\n",
    "        SSP_OUTPUT_PATH,\n",
    "        transformers = transformers,\n",
    "    )\n",
    "\n",
    "strategies = trf.Strategies(\n",
    "        transformations,\n",
    "        export_path = \"transformations\",\n",
    "        prebuild = True,\n",
    "    )"
   ]
  },
  {
   "cell_type": "code",
   "execution_count": 35,
   "metadata": {},
   "outputs": [
    {
     "data": {
      "text/plain": [
       "0"
      ]
     },
     "execution_count": 35,
     "metadata": {},
     "output_type": "execute_result"
    }
   ],
   "source": [
    "\n",
    "\n",
    "# call the example\n",
    "df_vargroups = examples(\"variable_trajectory_group_specification\")\n",
    "\n",
    "strategies.build_strategies_to_templates(\n",
    "        df_trajgroup = df_vargroups,\n",
    "        include_simplex_group_as_trajgroup = True,\n",
    "        strategies = [0, 1000],\n",
    "    )\n",
    "\n"
   ]
  },
  {
   "cell_type": "code",
   "execution_count": 36,
   "metadata": {},
   "outputs": [
    {
     "name": "stderr",
     "output_type": "stream",
     "text": [
      "2024-11-26 10:18:11,158 - INFO - Successfully initialized SISEPUEDEFileStructure.\n",
      "2024-11-26 10:18:11,161 - WARNING - Missing key dict_dimensional_keys: key time_series not found. Tables that rely on the time_series will not have index checking.\n",
      "2024-11-26 10:18:11,161 - INFO - \tSetting export engine to 'csv'.\n",
      "2024-11-26 10:18:11,162 - WARNING - No index fields defined. Index field values will not be checked when writing to tables.\n",
      "2024-11-26 10:18:11,162 - INFO - Successfully instantiated table ANALYSIS_METADATA\n",
      "2024-11-26 10:18:11,163 - WARNING - No index fields found in ATTRIBUTE_DESIGN. Initializing index fields.\n",
      "2024-11-26 10:18:11,164 - INFO - Successfully instantiated table ATTRIBUTE_DESIGN\n",
      "2024-11-26 10:18:11,165 - WARNING - No index fields found in ATTRIBUTE_LHC_SAMPLES_EXOGENOUS_UNCERTAINTIES. Initializing index fields.\n",
      "2024-11-26 10:18:11,166 - INFO - Successfully instantiated table ATTRIBUTE_LHC_SAMPLES_EXOGENOUS_UNCERTAINTIES\n",
      "2024-11-26 10:18:11,167 - WARNING - No index fields found in ATTRIBUTE_LHC_SAMPLES_LEVER_EFFECTS. Initializing index fields.\n",
      "2024-11-26 10:18:11,168 - INFO - Successfully instantiated table ATTRIBUTE_LHC_SAMPLES_LEVER_EFFECTS\n",
      "2024-11-26 10:18:11,169 - WARNING - No index fields found in ATTRIBUTE_PRIMARY. Initializing index fields.\n",
      "2024-11-26 10:18:11,170 - INFO - Successfully instantiated table ATTRIBUTE_PRIMARY\n",
      "2024-11-26 10:18:11,171 - WARNING - No index fields found in ATTRIBUTE_STRATEGY. Initializing index fields.\n",
      "2024-11-26 10:18:11,172 - INFO - Successfully instantiated table ATTRIBUTE_STRATEGY\n",
      "2024-11-26 10:18:11,173 - WARNING - No index fields found in MODEL_BASE_INPUT_DATABASE. Initializing index fields.\n",
      "2024-11-26 10:18:11,174 - INFO - Successfully instantiated table MODEL_BASE_INPUT_DATABASE\n",
      "2024-11-26 10:18:11,174 - WARNING - No index fields found in MODEL_INPUT. Initializing index fields.\n",
      "2024-11-26 10:18:11,175 - INFO - Successfully instantiated table MODEL_INPUT\n",
      "2024-11-26 10:18:11,177 - WARNING - No index fields found in MODEL_OUTPUT. Initializing index fields.\n",
      "2024-11-26 10:18:11,177 - INFO - Successfully instantiated table MODEL_OUTPUT\n",
      "2024-11-26 10:18:11,179 - INFO - SISEPUEDEOutputDatabase successfully initialized IterativeDatabase.\n",
      "2024-11-26 10:18:11,179 - INFO - Successfully initialized database with:\n",
      "\ttype:\tcsv\n",
      "\tanalysis id:\tsisepuede_run_2024-11-26T10:18:10.536708\n",
      "\tfp_base_output:\t/home/tony-ubuntu/anaconda3/envs/ssp_env/lib/python3.11/site-packages/sisepuede/out/sisepuede_run_2024-11-26T10;18;10.536708/sisepuede_run_2024-11-26T10;18;10.536708_output_database\n",
      "2024-11-26 10:18:11,180 - INFO - Running SISEPUEDE under template data mode 'calibrated'.\n",
      "2024-11-26 10:18:11,181 - INFO - Initializing BaseInputDatabase\n",
      "2024-11-26 10:18:11,700 - INFO - Initializing FutureTrajectories\n",
      "2024-11-26 10:18:14,811 - INFO - Instantiating 1502 sampling units.\n",
      "2024-11-26 10:18:14,841 - INFO - Iteration 0 complete.\n",
      "2024-11-26 10:18:20,526 - INFO - Iteration 250 complete.\n",
      "2024-11-26 10:18:24,100 - INFO - Iteration 500 complete.\n",
      "2024-11-26 10:18:28,030 - INFO - Iteration 750 complete.\n",
      "2024-11-26 10:18:31,911 - INFO - Iteration 1000 complete.\n",
      "2024-11-26 10:18:35,397 - INFO - Iteration 1250 complete.\n",
      "2024-11-26 10:18:39,860 - INFO - Iteration 1500 complete.\n",
      "2024-11-26 10:18:39,875 - INFO - \t1502 sampling units complete in 25.06 seconds.\n",
      "2024-11-26 10:18:39,882 - INFO - \tFutureTrajectories for 'croatia' complete.\n",
      "2024-11-26 10:18:39,883 - INFO - Initializing LHSDesign\n",
      "2024-11-26 10:18:39,884 - INFO - LHSDesign.fields_factors_l reset successful.\n",
      "2024-11-26 10:18:39,885 - INFO - LHSDesign.fields_factors_x reset successful.\n",
      "2024-11-26 10:18:39,901 - INFO - \tLHSDesign for region 'croatia' complete.\n",
      "2024-11-26 10:18:39,902 - INFO - Generating primary keys (values of primary_id)...\n",
      "2024-11-26 10:18:39,903 - INFO - Successfully initialized SISEPUEDEExperimentalManager.\n",
      "2024-11-26 10:18:39,904 - INFO - Successfully initialized NemoMod temporary database path as /home/tony-ubuntu/anaconda3/envs/ssp_env/lib/python3.11/site-packages/sisepuede/tmp/nemomod_intermediate_database.sqlite.\n",
      "2024-11-26 10:18:39,905 - INFO - Set Julia directory for modules and environment to '/home/tony-ubuntu/anaconda3/envs/ssp_env/lib/python3.11/site-packages/sisepuede/julia'.\n",
      "2024-11-26 10:18:40,002 - INFO - Successfully read NemoMod input table data from /home/tony-ubuntu/anaconda3/envs/ssp_env/lib/python3.11/site-packages/sisepuede/ref/nemo_mod/AvailabilityFactor.csv\n",
      "2024-11-26 10:18:40,007 - INFO - Successfully read NemoMod input table data from /home/tony-ubuntu/anaconda3/envs/ssp_env/lib/python3.11/site-packages/sisepuede/ref/nemo_mod/SpecifiedDemandProfile.csv\n",
      "2024-11-26 10:18:40,115 - INFO - Importing Julia...\n"
     ]
    },
    {
     "name": "stdout",
     "output_type": "stream",
     "text": [
      "Detected IPython. Loading juliacall extension. See https://juliapy.github.io/PythonCall.jl/stable/compat/#IPython\n"
     ]
    },
    {
     "name": "stderr",
     "output_type": "stream",
     "text": [
      "Precompiling NemoMod...\n",
      "Info Given NemoMod was explicitly requested, output will be shown live \u001b[0K\n",
      "\u001b[0KWARNING: Method definition parse_line(String) in module ConfParser at /home/tony-ubuntu/.julia/packages/ConfParser/b2fge/src/ConfParser.jl:95 overwritten in module NemoMod at /home/tony-ubuntu/.julia/packages/NemoMod/p49Bn/src/other_functions.jl:35.\n",
      "\u001b[0KERROR: Method overwriting is not permitted during Module precompilation. Use `__precompile__(false)` to opt-out of precompilation.\n",
      "   2470.8 ms  ? NemoMod\n",
      "[ Info: Precompiling NemoMod [a3c327a0-d2f0-11e8-37fd-d12fd35c3c72] \n",
      "WARNING: Method definition parse_line(String) in module ConfParser at /home/tony-ubuntu/.julia/packages/ConfParser/b2fge/src/ConfParser.jl:95 overwritten in module NemoMod at /home/tony-ubuntu/.julia/packages/NemoMod/p49Bn/src/other_functions.jl:35.\n",
      "ERROR: Method overwriting is not permitted during Module precompilation. Use `__precompile__(false)` to opt-out of precompilation.\n",
      "┌ Info: Skipping precompilation due to precompilable error. Importing NemoMod [a3c327a0-d2f0-11e8-37fd-d12fd35c3c72].\n",
      "└   exception = Error when precompiling module, potentially caused by a __precompile__(false) declaration in the module.\n",
      "2024-11-26 10:19:09,651 - INFO - Successfully initialized JuMP optimizer from solver module HiGHS.\n",
      "2024-11-26 10:19:09,675 - INFO - Successfully initialized SISEPUEDEModels.\n",
      "2024-11-26 10:19:09,683 - INFO - Table ANALYSIS_METADATA successfully written to /home/tony-ubuntu/anaconda3/envs/ssp_env/lib/python3.11/site-packages/sisepuede/out/sisepuede_run_2024-11-26T10;18;10.536708/sisepuede_run_2024-11-26T10;18;10.536708_output_database/ANALYSIS_METADATA.csv.\n",
      "2024-11-26 10:19:09,685 - INFO - Table ATTRIBUTE_DESIGN successfully written to /home/tony-ubuntu/anaconda3/envs/ssp_env/lib/python3.11/site-packages/sisepuede/out/sisepuede_run_2024-11-26T10;18;10.536708/sisepuede_run_2024-11-26T10;18;10.536708_output_database/ATTRIBUTE_DESIGN.csv.\n",
      "2024-11-26 10:19:09,688 - INFO - Table ATTRIBUTE_STRATEGY successfully written to /home/tony-ubuntu/anaconda3/envs/ssp_env/lib/python3.11/site-packages/sisepuede/out/sisepuede_run_2024-11-26T10;18;10.536708/sisepuede_run_2024-11-26T10;18;10.536708_output_database/ATTRIBUTE_STRATEGY.csv.\n",
      "2024-11-26 10:19:09,781 - INFO - Table MODEL_BASE_INPUT_DATABASE successfully written to /home/tony-ubuntu/anaconda3/envs/ssp_env/lib/python3.11/site-packages/sisepuede/out/sisepuede_run_2024-11-26T10;18;10.536708/sisepuede_run_2024-11-26T10;18;10.536708_output_database/MODEL_BASE_INPUT_DATABASE.csv.\n"
     ]
    }
   ],
   "source": [
    "import sisepuede as si\n",
    "ssp = si.SISEPUEDE(\n",
    "        \"calibrated\",\n",
    "        initialize_as_dummy = False, # no connection to Julia is initialized if set to True\n",
    "        regions = [target_country],\n",
    "        db_type = \"csv\",\n",
    "        strategies = strategies,\n",
    "        try_exogenous_xl_types_in_variable_specification = True,\n",
    "    )"
   ]
  },
  {
   "cell_type": "code",
   "execution_count": 37,
   "metadata": {},
   "outputs": [],
   "source": [
    "# Checks if the land use reallocation factor is set to 0.0\n",
    "helper_functions.check_land_use_factor(ssp_object=ssp, target_country=target_country)"
   ]
  },
  {
   "cell_type": "code",
   "execution_count": 38,
   "metadata": {},
   "outputs": [],
   "source": [
    "# Create parameters dict for the model to run\n",
    "dict_run = {\n",
    "        ssp.key_future: [0],\n",
    "        ssp.key_design: [0],\n",
    "        ssp.key_strategy: [\n",
    "            0,\n",
    "            1000,\n",
    "        ],\n",
    "    }\n"
   ]
  },
  {
   "cell_type": "code",
   "execution_count": 39,
   "metadata": {},
   "outputs": [
    {
     "name": "stderr",
     "output_type": "stream",
     "text": [
      "2024-11-26 10:19:13,786 - INFO - \n",
      "***\tSTARTING REGION croatia\t***\n",
      "\n"
     ]
    },
    {
     "name": "stderr",
     "output_type": "stream",
     "text": [
      "2024-11-26 10:19:17,650 - INFO - Trying run primary_id = 0 in region croatia\n",
      "2024-11-26 10:19:17,651 - INFO - Running AFOLU model\n",
      "2024-11-26 10:19:17,870 - INFO - AFOLU model run successfully completed\n",
      "2024-11-26 10:19:17,871 - INFO - Running CircularEconomy model\n",
      "2024-11-26 10:19:17,929 - INFO - CircularEconomy model run successfully completed\n",
      "2024-11-26 10:19:17,930 - INFO - Running IPPU model\n",
      "2024-11-26 10:19:18,023 - INFO - IPPU model run successfully completed\n",
      "2024-11-26 10:19:18,024 - INFO - Running Energy model (EnergyConsumption without Fugitive Emissions)\n",
      "2024-11-26 10:19:18,044 - DEBUG - Missing elasticity information found in 'project_energy_consumption_by_fuel_from_effvars': using specified future demands.\n",
      "2024-11-26 10:19:18,151 - INFO - EnergyConsumption without Fugitive Emissions model run successfully completed\n",
      "2024-11-26 10:19:18,152 - INFO - Running Energy model (Electricity and Fuel Production: trying to call Julia)\n",
      "2024-11-26 10:19:18,189 - INFO - \tPath to temporary NemoMod database '/home/tony-ubuntu/anaconda3/envs/ssp_env/lib/python3.11/site-packages/sisepuede/tmp/nemomod_intermediate_database.sqlite' not found. Creating...\n"
     ]
    },
    {
     "name": "stdout",
     "output_type": "stream",
     "text": [
      "2024-26-Nov 10:19:18.934 Opened SQLite database at /home/tony-ubuntu/anaconda3/envs/ssp_env/lib/python3.11/site-packages/sisepuede/tmp/nemomod_intermediate_database.sqlite.\n",
      "2024-26-Nov 10:19:19.290 Added NEMO structure to SQLite database at /home/tony-ubuntu/anaconda3/envs/ssp_env/lib/python3.11/site-packages/sisepuede/tmp/nemomod_intermediate_database.sqlite.\n",
      "2024-26-Nov 10:19:36.450 Started modeling scenario. NEMO version = 2.0.0, solver = HiGHS.\n",
      "2024-26-Nov 10:20:46.294 Finished modeling scenario.\n"
     ]
    },
    {
     "name": "stderr",
     "output_type": "stream",
     "text": [
      "┌ Warning: Model period activity upper limits for technologies (TotalTechnologyModelPeriodActivityUpperLimit parameter) are not enforced when modeling selected years.\n",
      "└ @ NemoMod ~/.julia/packages/NemoMod/p49Bn/src/scenario_calculation.jl:479\n",
      "┌ Warning: Model period emission limits (ModelPeriodEmissionLimit parameter) are not enforced when modeling selected years.\n",
      "└ @ NemoMod ~/.julia/packages/NemoMod/p49Bn/src/scenario_calculation.jl:6112\n",
      "2024-11-26 10:20:46,633 - INFO - NemoMod ran successfully with the following status: OPTIMAL\n",
      "2024-11-26 10:20:46,651 - INFO - EnergyProduction model run successfully completed\n",
      "2024-11-26 10:20:46,652 - INFO - Running Energy (Fugitive Emissions)\n",
      "2024-11-26 10:20:46,703 - INFO - Fugitive Emissions from Energy model run successfully completed\n",
      "2024-11-26 10:20:46,704 - INFO - Appending Socioeconomic outputs\n",
      "2024-11-26 10:20:46,715 - INFO - Socioeconomic outputs successfully appended.\n",
      "2024-11-26 10:20:46,720 - INFO - Model run for primary_id = 0 successfully completed in 89.07 seconds (n_tries = 1).\n",
      "2024-11-26 10:20:46,727 - INFO - Trying run primary_id = 1001 in region croatia\n",
      "2024-11-26 10:20:46,728 - INFO - Running AFOLU model\n",
      "2024-11-26 10:20:46,936 - INFO - AFOLU model run successfully completed\n",
      "2024-11-26 10:20:46,937 - INFO - Running CircularEconomy model\n",
      "2024-11-26 10:20:47,004 - INFO - CircularEconomy model run successfully completed\n",
      "2024-11-26 10:20:47,005 - INFO - Running IPPU model\n",
      "2024-11-26 10:20:47,105 - INFO - IPPU model run successfully completed\n",
      "2024-11-26 10:20:47,106 - INFO - Running Energy model (EnergyConsumption without Fugitive Emissions)\n",
      "2024-11-26 10:20:47,128 - DEBUG - Missing elasticity information found in 'project_energy_consumption_by_fuel_from_effvars': using specified future demands.\n",
      "2024-11-26 10:20:47,248 - INFO - EnergyConsumption without Fugitive Emissions model run successfully completed\n",
      "2024-11-26 10:20:47,250 - INFO - Running Energy model (Electricity and Fuel Production: trying to call Julia)\n"
     ]
    },
    {
     "name": "stdout",
     "output_type": "stream",
     "text": [
      "2024-26-Nov 10:20:49.170 Started modeling scenario. NEMO version = 2.0.0, solver = HiGHS.\n"
     ]
    },
    {
     "name": "stderr",
     "output_type": "stream",
     "text": [
      "┌ Warning: Model period activity upper limits for technologies (TotalTechnologyModelPeriodActivityUpperLimit parameter) are not enforced when modeling selected years.\n",
      "└ @ NemoMod ~/.julia/packages/NemoMod/p49Bn/src/scenario_calculation.jl:479\n",
      "┌ Warning: Model period emission limits (ModelPeriodEmissionLimit parameter) are not enforced when modeling selected years.\n",
      "└ @ NemoMod ~/.julia/packages/NemoMod/p49Bn/src/scenario_calculation.jl:6112\n"
     ]
    },
    {
     "name": "stdout",
     "output_type": "stream",
     "text": [
      "2024-26-Nov 10:21:34.602 Finished modeling scenario.\n"
     ]
    },
    {
     "name": "stderr",
     "output_type": "stream",
     "text": [
      "2024-11-26 10:21:34,820 - INFO - NemoMod ran successfully with the following status: OPTIMAL\n",
      "2024-11-26 10:21:34,835 - INFO - EnergyProduction model run successfully completed\n",
      "2024-11-26 10:21:34,836 - INFO - Running Energy (Fugitive Emissions)\n",
      "2024-11-26 10:21:34,887 - INFO - Fugitive Emissions from Energy model run successfully completed\n",
      "2024-11-26 10:21:34,888 - INFO - Appending Socioeconomic outputs\n",
      "2024-11-26 10:21:34,898 - INFO - Socioeconomic outputs successfully appended.\n",
      "2024-11-26 10:21:34,902 - INFO - Model run for primary_id = 1001 successfully completed in 48.17 seconds (n_tries = 1).\n",
      "2024-11-26 10:21:34,922 - INFO - \n",
      "***\t REGION croatia COMPLETE\t***\n",
      "\n",
      "2024-11-26 10:21:35,008 - INFO - Table MODEL_OUTPUT successfully written to /home/tony-ubuntu/anaconda3/envs/ssp_env/lib/python3.11/site-packages/sisepuede/out/sisepuede_run_2024-11-26T10;18;10.536708/sisepuede_run_2024-11-26T10;18;10.536708_output_database/MODEL_OUTPUT.csv.\n",
      "2024-11-26 10:21:35,012 - INFO - Table ATTRIBUTE_PRIMARY successfully written to /home/tony-ubuntu/anaconda3/envs/ssp_env/lib/python3.11/site-packages/sisepuede/out/sisepuede_run_2024-11-26T10;18;10.536708/sisepuede_run_2024-11-26T10;18;10.536708_output_database/ATTRIBUTE_PRIMARY.csv.\n",
      "2024-11-26 10:21:35,145 - INFO - Table MODEL_INPUT successfully written to /home/tony-ubuntu/anaconda3/envs/ssp_env/lib/python3.11/site-packages/sisepuede/out/sisepuede_run_2024-11-26T10;18;10.536708/sisepuede_run_2024-11-26T10;18;10.536708_output_database/MODEL_INPUT.csv.\n"
     ]
    },
    {
     "data": {
      "text/plain": [
       "{'croatia': [0, 1001]}"
      ]
     },
     "execution_count": 39,
     "metadata": {},
     "output_type": "execute_result"
    }
   ],
   "source": [
    "# we'll save inputs since we're doing a small set of runs\n",
    "ssp.project_scenarios(\n",
    "        dict_run,\n",
    "        save_inputs = True,\n",
    "    )"
   ]
  },
  {
   "cell_type": "code",
   "execution_count": 40,
   "metadata": {},
   "outputs": [],
   "source": [
    "INPUTS_ESTRESADOS_FILE_PATH = build_path([INPUTS_ESTRESADOS_PATH, f\"sim_input_{experiment_id}.csv\"])\n",
    "OUTPUTS_ESTRESADOS_FILE_PATH = build_path([OUTPUTS_ESTRESADOS_PATH, f\"sim_output_{experiment_id}.csv\"])\n",
    "\n",
    "\n",
    "df_out = ssp.read_output(None)\n",
    "df_out.to_csv(OUTPUTS_ESTRESADOS_FILE_PATH, index=False)\n",
    "stressed_df.to_csv(INPUTS_ESTRESADOS_FILE_PATH, index=False)"
   ]
  }
 ],
 "metadata": {
  "kernelspec": {
   "display_name": "ssp_env",
   "language": "python",
   "name": "python3"
  },
  "language_info": {
   "codemirror_mode": {
    "name": "ipython",
    "version": 3
   },
   "file_extension": ".py",
   "mimetype": "text/x-python",
   "name": "python",
   "nbconvert_exporter": "python",
   "pygments_lexer": "ipython3",
   "version": "3.11.10"
  }
 },
 "nbformat": 4,
 "nbformat_minor": 2
}
